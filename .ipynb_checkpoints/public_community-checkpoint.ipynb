{
 "cells": [
  {
   "cell_type": "code",
   "execution_count": 45,
   "metadata": {},
   "outputs": [],
   "source": [
    "import pandas as pd\n",
    "import matplotlib.pyplot as plt\n",
    "import numpy as np\n",
    "import scipy.stats as st\n",
    "from scipy.stats import linregress, pearsonr"
   ]
  },
  {
   "cell_type": "code",
   "execution_count": 46,
   "metadata": {},
   "outputs": [
    {
     "data": {
      "text/plain": [
       "['Id',\n",
       " 'OwnerCity',\n",
       " 'OwnerState',\n",
       " 'PropertyLocationStreet1',\n",
       " 'PropertyCity',\n",
       " 'PropertyZip',\n",
       " 'StateParcelId',\n",
       " 'ParcelSize',\n",
       " 'ValueofHome',\n",
       " 'YearBuilt',\n",
       " 'TypeOfResidence',\n",
       " 'NumberOfStories',\n",
       " 'AdjSquareFeet',\n",
       " 'Pool',\n",
       " 'PPC',\n",
       " 'BCEG',\n",
       " 'DistancetoCoast',\n",
       " 'PoliceID',\n",
       " 'Crime',\n",
       " 'FireID',\n",
       " 'DistancetoHydrant',\n",
       " 'DistancetoFireDepartment',\n",
       " 'DistancetoSinkhole',\n",
       " 'SinkholeLatitude',\n",
       " 'SinkholeLongitude',\n",
       " 'LocationWindSpeed',\n",
       " 'WindborneDebrisRegion',\n",
       " 'Terrain',\n",
       " 'FloodZone',\n",
       " 'FloodZoneRiskLevel']"
      ]
     },
     "execution_count": 46,
     "metadata": {},
     "output_type": "execute_result"
    }
   ],
   "source": [
    "master_data = \"clean.csv\"\n",
    "master_data_df = pd.read_csv(master_data)\n",
    "\n",
    "master_data_df\n",
    "\n",
    "list(master_data_df) "
   ]
  },
  {
   "cell_type": "code",
   "execution_count": 47,
   "metadata": {},
   "outputs": [
    {
     "data": {
      "text/html": [
       "<div>\n",
       "<style scoped>\n",
       "    .dataframe tbody tr th:only-of-type {\n",
       "        vertical-align: middle;\n",
       "    }\n",
       "\n",
       "    .dataframe tbody tr th {\n",
       "        vertical-align: top;\n",
       "    }\n",
       "\n",
       "    .dataframe thead th {\n",
       "        text-align: right;\n",
       "    }\n",
       "</style>\n",
       "<table border=\"1\" class=\"dataframe\">\n",
       "  <thead>\n",
       "    <tr style=\"text-align: right;\">\n",
       "      <th></th>\n",
       "      <th>Id</th>\n",
       "      <th>OwnerCity</th>\n",
       "      <th>OwnerState</th>\n",
       "      <th>PropertyLocationStreet1</th>\n",
       "      <th>PropertyCity</th>\n",
       "      <th>PropertyZip</th>\n",
       "      <th>PPC</th>\n",
       "      <th>DistancetoHydrant</th>\n",
       "      <th>FireID</th>\n",
       "      <th>DistancetoFireDepartment</th>\n",
       "      <th>ValueofHome</th>\n",
       "    </tr>\n",
       "  </thead>\n",
       "  <tbody>\n",
       "    <tr>\n",
       "      <th>0</th>\n",
       "      <td>12009f31026acc440</td>\n",
       "      <td>PINEHURST</td>\n",
       "      <td>NC</td>\n",
       "      <td>5833 NEWBURY CIR</td>\n",
       "      <td>MELBOURNE</td>\n",
       "      <td>32940</td>\n",
       "      <td>NaN</td>\n",
       "      <td>NaN</td>\n",
       "      <td>NaN</td>\n",
       "      <td>1.67</td>\n",
       "      <td>360350.0</td>\n",
       "    </tr>\n",
       "    <tr>\n",
       "      <th>1</th>\n",
       "      <td>120112bfc77a87376</td>\n",
       "      <td>STAFFORD</td>\n",
       "      <td>VA</td>\n",
       "      <td>12723 SW 49 CT</td>\n",
       "      <td>MIRAMAR</td>\n",
       "      <td>33027</td>\n",
       "      <td>3</td>\n",
       "      <td>NaN</td>\n",
       "      <td>645.0</td>\n",
       "      <td>2.37</td>\n",
       "      <td>228680.0</td>\n",
       "    </tr>\n",
       "    <tr>\n",
       "      <th>2</th>\n",
       "      <td>12081776a04b281f4</td>\n",
       "      <td>RICHMOND</td>\n",
       "      <td>VA</td>\n",
       "      <td>6470 SEAGULL DR UNIT 307</td>\n",
       "      <td>BRADENTON</td>\n",
       "      <td>34210</td>\n",
       "      <td>3</td>\n",
       "      <td>309.12</td>\n",
       "      <td>NaN</td>\n",
       "      <td>0.96</td>\n",
       "      <td>135000.0</td>\n",
       "    </tr>\n",
       "    <tr>\n",
       "      <th>3</th>\n",
       "      <td>12103fabafeea9fb7</td>\n",
       "      <td>ARLINGTON</td>\n",
       "      <td>VA</td>\n",
       "      <td>1012 NORTH SHORE DR NE # 12</td>\n",
       "      <td>SAINT PETERSBURG</td>\n",
       "      <td>33701</td>\n",
       "      <td>NaN</td>\n",
       "      <td>NaN</td>\n",
       "      <td>855.0</td>\n",
       "      <td>1.08</td>\n",
       "      <td>87660.0</td>\n",
       "    </tr>\n",
       "    <tr>\n",
       "      <th>4</th>\n",
       "      <td>120213b0f5f17e3d1</td>\n",
       "      <td>ROCK HILL</td>\n",
       "      <td>SC</td>\n",
       "      <td>5550 HERON POINT DR</td>\n",
       "      <td>NAPLES</td>\n",
       "      <td>34108</td>\n",
       "      <td>NaN</td>\n",
       "      <td>NaN</td>\n",
       "      <td>50.0</td>\n",
       "      <td>1.37</td>\n",
       "      <td>663090.0</td>\n",
       "    </tr>\n",
       "    <tr>\n",
       "      <th>...</th>\n",
       "      <td>...</td>\n",
       "      <td>...</td>\n",
       "      <td>...</td>\n",
       "      <td>...</td>\n",
       "      <td>...</td>\n",
       "      <td>...</td>\n",
       "      <td>...</td>\n",
       "      <td>...</td>\n",
       "      <td>...</td>\n",
       "      <td>...</td>\n",
       "      <td>...</td>\n",
       "    </tr>\n",
       "    <tr>\n",
       "      <th>223</th>\n",
       "      <td>12086e1ddd12521cd</td>\n",
       "      <td>BLUFFTON</td>\n",
       "      <td>SC</td>\n",
       "      <td>5765 NW 99 CT</td>\n",
       "      <td>DORAL</td>\n",
       "      <td>33178</td>\n",
       "      <td>4</td>\n",
       "      <td>150.99</td>\n",
       "      <td>NaN</td>\n",
       "      <td>0.27</td>\n",
       "      <td>329160.0</td>\n",
       "    </tr>\n",
       "    <tr>\n",
       "      <th>224</th>\n",
       "      <td>120861813f1294d56</td>\n",
       "      <td>RICHMOND</td>\n",
       "      <td>VA</td>\n",
       "      <td>7805 NOREMAC AVE</td>\n",
       "      <td>MIAMI BEACH</td>\n",
       "      <td>33141</td>\n",
       "      <td>1</td>\n",
       "      <td>NaN</td>\n",
       "      <td>627.0</td>\n",
       "      <td>0.71</td>\n",
       "      <td>924061.0</td>\n",
       "    </tr>\n",
       "    <tr>\n",
       "      <th>225</th>\n",
       "      <td>12089ed366ee68b8e</td>\n",
       "      <td>MARS HILL</td>\n",
       "      <td>NC</td>\n",
       "      <td>246 S FLETCHER AVE</td>\n",
       "      <td>FERNANDINA BEACH</td>\n",
       "      <td>32034</td>\n",
       "      <td>3</td>\n",
       "      <td>NaN</td>\n",
       "      <td>359.0</td>\n",
       "      <td>1.23</td>\n",
       "      <td>274291.0</td>\n",
       "    </tr>\n",
       "    <tr>\n",
       "      <th>226</th>\n",
       "      <td>1211544028709F1DD</td>\n",
       "      <td>OAKTON</td>\n",
       "      <td>VA</td>\n",
       "      <td>171 VISTA HERMOSA CIR 21-B</td>\n",
       "      <td>SARASOTA</td>\n",
       "      <td>34242</td>\n",
       "      <td>NaN</td>\n",
       "      <td>338.08</td>\n",
       "      <td>NaN</td>\n",
       "      <td>1.13</td>\n",
       "      <td>267400.0</td>\n",
       "    </tr>\n",
       "    <tr>\n",
       "      <th>227</th>\n",
       "      <td>1212772a5d810d464</td>\n",
       "      <td>MATTHEWS</td>\n",
       "      <td>NC</td>\n",
       "      <td>3 SUNSET BLVD</td>\n",
       "      <td>ORMOND BEACH</td>\n",
       "      <td>32176</td>\n",
       "      <td>NaN</td>\n",
       "      <td>414.53</td>\n",
       "      <td>NaN</td>\n",
       "      <td>0.59</td>\n",
       "      <td>172189.0</td>\n",
       "    </tr>\n",
       "  </tbody>\n",
       "</table>\n",
       "<p>228 rows × 11 columns</p>\n",
       "</div>"
      ],
      "text/plain": [
       "                    Id  OwnerCity OwnerState      PropertyLocationStreet1  \\\n",
       "0    12009f31026acc440  PINEHURST         NC             5833 NEWBURY CIR   \n",
       "1    120112bfc77a87376   STAFFORD         VA               12723 SW 49 CT   \n",
       "2    12081776a04b281f4   RICHMOND         VA     6470 SEAGULL DR UNIT 307   \n",
       "3    12103fabafeea9fb7  ARLINGTON         VA  1012 NORTH SHORE DR NE # 12   \n",
       "4    120213b0f5f17e3d1  ROCK HILL         SC          5550 HERON POINT DR   \n",
       "..                 ...        ...        ...                          ...   \n",
       "223  12086e1ddd12521cd   BLUFFTON         SC                5765 NW 99 CT   \n",
       "224  120861813f1294d56   RICHMOND         VA             7805 NOREMAC AVE   \n",
       "225  12089ed366ee68b8e  MARS HILL         NC           246 S FLETCHER AVE   \n",
       "226  1211544028709F1DD     OAKTON         VA   171 VISTA HERMOSA CIR 21-B   \n",
       "227  1212772a5d810d464   MATTHEWS         NC                3 SUNSET BLVD   \n",
       "\n",
       "         PropertyCity  PropertyZip  PPC  DistancetoHydrant  FireID  \\\n",
       "0           MELBOURNE        32940  NaN                NaN     NaN   \n",
       "1             MIRAMAR        33027    3                NaN   645.0   \n",
       "2           BRADENTON        34210    3             309.12     NaN   \n",
       "3    SAINT PETERSBURG        33701  NaN                NaN   855.0   \n",
       "4              NAPLES        34108  NaN                NaN    50.0   \n",
       "..                ...          ...  ...                ...     ...   \n",
       "223             DORAL        33178    4             150.99     NaN   \n",
       "224       MIAMI BEACH        33141    1                NaN   627.0   \n",
       "225  FERNANDINA BEACH        32034    3                NaN   359.0   \n",
       "226          SARASOTA        34242  NaN             338.08     NaN   \n",
       "227      ORMOND BEACH        32176  NaN             414.53     NaN   \n",
       "\n",
       "     DistancetoFireDepartment  ValueofHome  \n",
       "0                        1.67     360350.0  \n",
       "1                        2.37     228680.0  \n",
       "2                        0.96     135000.0  \n",
       "3                        1.08      87660.0  \n",
       "4                        1.37     663090.0  \n",
       "..                        ...          ...  \n",
       "223                      0.27     329160.0  \n",
       "224                      0.71     924061.0  \n",
       "225                      1.23     274291.0  \n",
       "226                      1.13     267400.0  \n",
       "227                      0.59     172189.0  \n",
       "\n",
       "[228 rows x 11 columns]"
      ]
     },
     "execution_count": 47,
     "metadata": {},
     "output_type": "execute_result"
    }
   ],
   "source": [
    "#Accessibility to fire protection services\n",
    "\n",
    "fire_master_df = master_data_df[[\"Id\", \"OwnerCity\", \"OwnerState\", \"PropertyLocationStreet1\", \"PropertyCity\", \"PropertyZip\", \"PPC\", \"DistancetoHydrant\", \"FireID\",\"DistancetoFireDepartment\",\"ValueofHome\"]]\n",
    "\n",
    "fire_master_df\n"
   ]
  },
  {
   "cell_type": "code",
   "execution_count": 155,
   "metadata": {},
   "outputs": [
    {
     "data": {
      "text/html": [
       "<div>\n",
       "<style scoped>\n",
       "    .dataframe tbody tr th:only-of-type {\n",
       "        vertical-align: middle;\n",
       "    }\n",
       "\n",
       "    .dataframe tbody tr th {\n",
       "        vertical-align: top;\n",
       "    }\n",
       "\n",
       "    .dataframe thead th {\n",
       "        text-align: right;\n",
       "    }\n",
       "</style>\n",
       "<table border=\"1\" class=\"dataframe\">\n",
       "  <thead>\n",
       "    <tr style=\"text-align: right;\">\n",
       "      <th></th>\n",
       "      <th>PPC</th>\n",
       "      <th>ValueofHome</th>\n",
       "    </tr>\n",
       "  </thead>\n",
       "  <tbody>\n",
       "    <tr>\n",
       "      <th>1</th>\n",
       "      <td>3</td>\n",
       "      <td>228680.0</td>\n",
       "    </tr>\n",
       "    <tr>\n",
       "      <th>2</th>\n",
       "      <td>3</td>\n",
       "      <td>135000.0</td>\n",
       "    </tr>\n",
       "    <tr>\n",
       "      <th>5</th>\n",
       "      <td>2</td>\n",
       "      <td>298880.0</td>\n",
       "    </tr>\n",
       "    <tr>\n",
       "      <th>6</th>\n",
       "      <td>2</td>\n",
       "      <td>141668.0</td>\n",
       "    </tr>\n",
       "    <tr>\n",
       "      <th>7</th>\n",
       "      <td>2</td>\n",
       "      <td>161169.0</td>\n",
       "    </tr>\n",
       "    <tr>\n",
       "      <th>...</th>\n",
       "      <td>...</td>\n",
       "      <td>...</td>\n",
       "    </tr>\n",
       "    <tr>\n",
       "      <th>220</th>\n",
       "      <td>2</td>\n",
       "      <td>151500.0</td>\n",
       "    </tr>\n",
       "    <tr>\n",
       "      <th>221</th>\n",
       "      <td>4</td>\n",
       "      <td>203651.0</td>\n",
       "    </tr>\n",
       "    <tr>\n",
       "      <th>223</th>\n",
       "      <td>4</td>\n",
       "      <td>329160.0</td>\n",
       "    </tr>\n",
       "    <tr>\n",
       "      <th>224</th>\n",
       "      <td>1</td>\n",
       "      <td>924061.0</td>\n",
       "    </tr>\n",
       "    <tr>\n",
       "      <th>225</th>\n",
       "      <td>3</td>\n",
       "      <td>274291.0</td>\n",
       "    </tr>\n",
       "  </tbody>\n",
       "</table>\n",
       "<p>137 rows × 2 columns</p>\n",
       "</div>"
      ],
      "text/plain": [
       "     PPC  ValueofHome\n",
       "1      3     228680.0\n",
       "2      3     135000.0\n",
       "5      2     298880.0\n",
       "6      2     141668.0\n",
       "7      2     161169.0\n",
       "..   ...          ...\n",
       "220    2     151500.0\n",
       "221    4     203651.0\n",
       "223    4     329160.0\n",
       "224    1     924061.0\n",
       "225    3     274291.0\n",
       "\n",
       "[137 rows x 2 columns]"
      ]
     },
     "execution_count": 155,
     "metadata": {},
     "output_type": "execute_result"
    }
   ],
   "source": [
    "#Correlation between PPC and home value.\n",
    "#An ISO fire insurance rating, also referred to as a fire score or Public Protection Classification (PPC)\n",
    "#PPC is a score from 1 to 10 that indicates how well-protected your community is by the fire department. \n",
    "#In the ISO rating scale, a lower number is better: 1 is the best rating, while 10 means the fire department did not meet the ISO's minimum requirements.\n",
    "\n",
    "\n",
    "ppc_df = fire_master_df[[\"PPC\", \"ValueofHome\"]]\n",
    "\n",
    "clean_ppc_df = ppc_df.dropna()\n",
    "\n",
    "outlier_df = clean_ppc_df.loc[(clean_ppc_df[\"PPC\"] == \"9-Apr\"), :]\n",
    "outlier2_df = clean_ppc_df.loc[(clean_ppc_df[\"PPC\"] == \"9-May\"), :]\n",
    "\n",
    "clean_ppc_df = clean_ppc_df.drop(index=[95, 133])\n",
    "\n",
    "clean_ppc_df[\"PPC\"] = pd.to_numeric(clean_ppc_df[\"PPC\"],errors='coerce')\n",
    "\n",
    "clean_ppc_df"
   ]
  },
  {
   "cell_type": "code",
   "execution_count": 157,
   "metadata": {},
   "outputs": [
    {
     "data": {
      "text/plain": [
       "PPC              int64\n",
       "ValueofHome    float64\n",
       "dtype: object"
      ]
     },
     "execution_count": 157,
     "metadata": {},
     "output_type": "execute_result"
    }
   ],
   "source": [
    "clean_ppc_df.dtypes  "
   ]
  },
  {
   "cell_type": "code",
   "execution_count": 158,
   "metadata": {},
   "outputs": [
    {
     "name": "stdout",
     "output_type": "stream",
     "text": [
      "The linear regression equation between PPC and Value of Home is y = 8231.3x + 234317.03.\n",
      "The r-squared is: 0.003398081842361495\n"
     ]
    },
    {
     "data": {
      "image/png": "[encoded data removed]",
      "text/plain": [
       "<Figure size 432x288 with 1 Axes>"
      ]
     },
     "metadata": {
      "needs_background": "light"
     },
     "output_type": "display_data"
    },
    {
     "name": "stdout",
     "output_type": "stream",
     "text": [
      "The correlation between PPC and home value is 0.06, indicating no correlation.\n"
     ]
    },
    {
     "data": {
      "text/plain": [
       "<Figure size 432x288 with 0 Axes>"
      ]
     },
     "metadata": {},
     "output_type": "display_data"
    }
   ],
   "source": [
    "PPC = clean_ppc_df[\"PPC\"]\n",
    "Value = clean_ppc_df[\"ValueofHome\"]\n",
    "\n",
    "correlation = st.pearsonr(PPC, Value)\n",
    "\n",
    "scatter1 = plt.scatter(PPC, Value, marker=\"o\", facecolors=\"blue\", edgecolors=\"black\", alpha=0.5)\n",
    "(slope, intercept, rvalue, pvalue, stderr) = linregress(PPC, Value)\n",
    "\n",
    "regress_values = PPC * slope + intercept\n",
    "\n",
    "line_eq = \"y = \" + str(round(slope,2)) + \"x + \" + str(round(intercept,2))\n",
    "\n",
    "print(f\"The linear regression equation between PPC and Value of Home is {line_eq}.\")\n",
    "print(f\"The r-squared is: {rvalue**2}\")\n",
    "plt.plot(PPC,regress_values,\"r-\")\n",
    "\n",
    "plt.title(\"PPC vs. Value of Home\")\n",
    "plt.ylabel(\"Value of Home ($)\")\n",
    "plt.xlabel(\"PPC\")\n",
    "plt.ylim(0, 10)\n",
    "plt.ylim(0, 950000)\n",
    "plt.show()\n",
    "plt.tight_layout()\n",
    "\n",
    "print(f\"The correlation between PPC and home value is {round(correlation[0],2)}, indicating no correlation.\")\n"
   ]
  },
  {
   "cell_type": "code",
   "execution_count": 161,
   "metadata": {},
   "outputs": [
    {
     "data": {
      "text/html": [
       "<div>\n",
       "<style scoped>\n",
       "    .dataframe tbody tr th:only-of-type {\n",
       "        vertical-align: middle;\n",
       "    }\n",
       "\n",
       "    .dataframe tbody tr th {\n",
       "        vertical-align: top;\n",
       "    }\n",
       "\n",
       "    .dataframe thead th {\n",
       "        text-align: right;\n",
       "    }\n",
       "</style>\n",
       "<table border=\"1\" class=\"dataframe\">\n",
       "  <thead>\n",
       "    <tr style=\"text-align: right;\">\n",
       "      <th></th>\n",
       "      <th>DistancetoHydrant</th>\n",
       "      <th>ValueofHome</th>\n",
       "    </tr>\n",
       "  </thead>\n",
       "  <tbody>\n",
       "    <tr>\n",
       "      <th>2</th>\n",
       "      <td>309.12</td>\n",
       "      <td>135000.0</td>\n",
       "    </tr>\n",
       "    <tr>\n",
       "      <th>15</th>\n",
       "      <td>280.90</td>\n",
       "      <td>152459.0</td>\n",
       "    </tr>\n",
       "    <tr>\n",
       "      <th>16</th>\n",
       "      <td>933.54</td>\n",
       "      <td>88850.0</td>\n",
       "    </tr>\n",
       "    <tr>\n",
       "      <th>17</th>\n",
       "      <td>200.14</td>\n",
       "      <td>77100.0</td>\n",
       "    </tr>\n",
       "    <tr>\n",
       "      <th>21</th>\n",
       "      <td>366.00</td>\n",
       "      <td>155519.0</td>\n",
       "    </tr>\n",
       "    <tr>\n",
       "      <th>...</th>\n",
       "      <td>...</td>\n",
       "      <td>...</td>\n",
       "    </tr>\n",
       "    <tr>\n",
       "      <th>219</th>\n",
       "      <td>228.86</td>\n",
       "      <td>91800.0</td>\n",
       "    </tr>\n",
       "    <tr>\n",
       "      <th>221</th>\n",
       "      <td>120.89</td>\n",
       "      <td>203651.0</td>\n",
       "    </tr>\n",
       "    <tr>\n",
       "      <th>223</th>\n",
       "      <td>150.99</td>\n",
       "      <td>329160.0</td>\n",
       "    </tr>\n",
       "    <tr>\n",
       "      <th>226</th>\n",
       "      <td>338.08</td>\n",
       "      <td>267400.0</td>\n",
       "    </tr>\n",
       "    <tr>\n",
       "      <th>227</th>\n",
       "      <td>414.53</td>\n",
       "      <td>172189.0</td>\n",
       "    </tr>\n",
       "  </tbody>\n",
       "</table>\n",
       "<p>90 rows × 2 columns</p>\n",
       "</div>"
      ],
      "text/plain": [
       "     DistancetoHydrant  ValueofHome\n",
       "2               309.12     135000.0\n",
       "15              280.90     152459.0\n",
       "16              933.54      88850.0\n",
       "17              200.14      77100.0\n",
       "21              366.00     155519.0\n",
       "..                 ...          ...\n",
       "219             228.86      91800.0\n",
       "221             120.89     203651.0\n",
       "223             150.99     329160.0\n",
       "226             338.08     267400.0\n",
       "227             414.53     172189.0\n",
       "\n",
       "[90 rows x 2 columns]"
      ]
     },
     "execution_count": 161,
     "metadata": {},
     "output_type": "execute_result"
    }
   ],
   "source": [
    "#Correlation between distance to fire hydrant & value of home.\n",
    "hydrant_df = fire_master_df[[\"DistancetoHydrant\", \"ValueofHome\"]]\n",
    "\n",
    "clean_hydrant_df = hydrant_df.dropna()\n",
    "\n",
    "clean_hydrant_df"
   ]
  },
  {
   "cell_type": "code",
   "execution_count": 163,
   "metadata": {},
   "outputs": [
    {
     "data": {
      "text/plain": [
       "DistancetoHydrant    float64\n",
       "ValueofHome          float64\n",
       "dtype: object"
      ]
     },
     "execution_count": 163,
     "metadata": {},
     "output_type": "execute_result"
    }
   ],
   "source": [
    "clean_hydrant_df.dtypes"
   ]
  },
  {
   "cell_type": "code",
   "execution_count": 168,
   "metadata": {},
   "outputs": [
    {
     "name": "stdout",
     "output_type": "stream",
     "text": [
      "The linear regression equation between distance to hydrant and home value is y = -33.24x + 199890.33.\n",
      "The r-squared is: 0.0033293792916774074\n"
     ]
    },
    {
     "data": {
      "image/png": "[encoded data removed]",
      "text/plain": [
       "<Figure size 432x288 with 1 Axes>"
      ]
     },
     "metadata": {
      "needs_background": "light"
     },
     "output_type": "display_data"
    },
    {
     "name": "stdout",
     "output_type": "stream",
     "text": [
      "The correlation between distance to fire hydrant and home value is -0.06, indicating no correlation.\n"
     ]
    },
    {
     "data": {
      "text/plain": [
       "<Figure size 432x288 with 0 Axes>"
      ]
     },
     "metadata": {},
     "output_type": "display_data"
    }
   ],
   "source": [
    "hydrant_dist = clean_hydrant_df[\"DistancetoHydrant\"]\n",
    "Value2 = clean_hydrant_df[\"ValueofHome\"]\n",
    "\n",
    "correlation2 = st.pearsonr(hydrant_dist, Value2)\n",
    "\n",
    "scatter2 = plt.scatter(hydrant_dist, Value2, marker=\"o\", facecolors=\"blue\", edgecolors=\"black\", alpha=0.5)\n",
    "(slope2, intercept2, rvalue2, pvalue2, stderr2) = linregress(hydrant_dist, Value2)\n",
    "\n",
    "regress_values2 = hydrant_dist * slope2 + intercept2\n",
    "\n",
    "line_eq2 = \"y = \" + str(round(slope2,2)) + \"x + \" + str(round(intercept2,2))\n",
    "\n",
    "print(f\"The linear regression equation between distance to hydrant and home value is {line_eq2}.\")\n",
    "print(f\"The r-squared is: {rvalue2**2}\")\n",
    "plt.plot(hydrant_dist,regress_values2,\"r-\")\n",
    "\n",
    "plt.title(\"Distance to Fire Hydrant vs. Value of Home\")\n",
    "plt.ylabel(\"Value of Home ($)\")\n",
    "plt.xlabel(\"Distance to Fire Hydrant\")\n",
    "plt.ylim(0, 1400)\n",
    "plt.ylim(0, 950000)\n",
    "plt.show()\n",
    "plt.tight_layout()\n",
    "\n",
    "print(f\"The correlation between distance to fire hydrant and home value is {round(correlation2[0],2)}, indicating no correlation.\")\n"
   ]
  },
  {
   "cell_type": "code",
   "execution_count": 169,
   "metadata": {},
   "outputs": [
    {
     "data": {
      "text/html": [
       "<div>\n",
       "<style scoped>\n",
       "    .dataframe tbody tr th:only-of-type {\n",
       "        vertical-align: middle;\n",
       "    }\n",
       "\n",
       "    .dataframe tbody tr th {\n",
       "        vertical-align: top;\n",
       "    }\n",
       "\n",
       "    .dataframe thead th {\n",
       "        text-align: right;\n",
       "    }\n",
       "</style>\n",
       "<table border=\"1\" class=\"dataframe\">\n",
       "  <thead>\n",
       "    <tr style=\"text-align: right;\">\n",
       "      <th></th>\n",
       "      <th>DistancetoFireDepartment</th>\n",
       "      <th>ValueofHome</th>\n",
       "    </tr>\n",
       "  </thead>\n",
       "  <tbody>\n",
       "    <tr>\n",
       "      <th>0</th>\n",
       "      <td>1.67</td>\n",
       "      <td>360350.0</td>\n",
       "    </tr>\n",
       "    <tr>\n",
       "      <th>1</th>\n",
       "      <td>2.37</td>\n",
       "      <td>228680.0</td>\n",
       "    </tr>\n",
       "    <tr>\n",
       "      <th>2</th>\n",
       "      <td>0.96</td>\n",
       "      <td>135000.0</td>\n",
       "    </tr>\n",
       "    <tr>\n",
       "      <th>3</th>\n",
       "      <td>1.08</td>\n",
       "      <td>87660.0</td>\n",
       "    </tr>\n",
       "    <tr>\n",
       "      <th>4</th>\n",
       "      <td>1.37</td>\n",
       "      <td>663090.0</td>\n",
       "    </tr>\n",
       "    <tr>\n",
       "      <th>...</th>\n",
       "      <td>...</td>\n",
       "      <td>...</td>\n",
       "    </tr>\n",
       "    <tr>\n",
       "      <th>223</th>\n",
       "      <td>0.27</td>\n",
       "      <td>329160.0</td>\n",
       "    </tr>\n",
       "    <tr>\n",
       "      <th>224</th>\n",
       "      <td>0.71</td>\n",
       "      <td>924061.0</td>\n",
       "    </tr>\n",
       "    <tr>\n",
       "      <th>225</th>\n",
       "      <td>1.23</td>\n",
       "      <td>274291.0</td>\n",
       "    </tr>\n",
       "    <tr>\n",
       "      <th>226</th>\n",
       "      <td>1.13</td>\n",
       "      <td>267400.0</td>\n",
       "    </tr>\n",
       "    <tr>\n",
       "      <th>227</th>\n",
       "      <td>0.59</td>\n",
       "      <td>172189.0</td>\n",
       "    </tr>\n",
       "  </tbody>\n",
       "</table>\n",
       "<p>227 rows × 2 columns</p>\n",
       "</div>"
      ],
      "text/plain": [
       "     DistancetoFireDepartment  ValueofHome\n",
       "0                        1.67     360350.0\n",
       "1                        2.37     228680.0\n",
       "2                        0.96     135000.0\n",
       "3                        1.08      87660.0\n",
       "4                        1.37     663090.0\n",
       "..                        ...          ...\n",
       "223                      0.27     329160.0\n",
       "224                      0.71     924061.0\n",
       "225                      1.23     274291.0\n",
       "226                      1.13     267400.0\n",
       "227                      0.59     172189.0\n",
       "\n",
       "[227 rows x 2 columns]"
      ]
     },
     "execution_count": 169,
     "metadata": {},
     "output_type": "execute_result"
    }
   ],
   "source": [
    "#Correlation between distance to fire station & value of home.\n",
    "firestation_df = fire_master_df[[\"DistancetoFireDepartment\", \"ValueofHome\"]]\n",
    "\n",
    "clean_firestation_df = firestation_df.dropna()\n",
    "\n",
    "clean_firestation_df"
   ]
  },
  {
   "cell_type": "code",
   "execution_count": 170,
   "metadata": {},
   "outputs": [
    {
     "data": {
      "text/plain": [
       "DistancetoFireDepartment    float64\n",
       "ValueofHome                 float64\n",
       "dtype: object"
      ]
     },
     "execution_count": 170,
     "metadata": {},
     "output_type": "execute_result"
    }
   ],
   "source": [
    "clean_firestation_df.dtypes"
   ]
  },
  {
   "cell_type": "code",
   "execution_count": 177,
   "metadata": {},
   "outputs": [
    {
     "name": "stdout",
     "output_type": "stream",
     "text": [
      "The linear regression equation between distance to firestation and home value is y = 22261.21x + 225239.76.\n",
      "The r-squared is: 0.0063407604424575255\n"
     ]
    },
    {
     "data": {
      "image/png": "[encoded data removed]",
      "text/plain": [
       "<Figure size 432x288 with 1 Axes>"
      ]
     },
     "metadata": {
      "needs_background": "light"
     },
     "output_type": "display_data"
    },
    {
     "name": "stdout",
     "output_type": "stream",
     "text": [
      "The correlation between distance to fire station and home value is 0.08, indicating no correlation.\n"
     ]
    },
    {
     "data": {
      "text/plain": [
       "<Figure size 432x288 with 0 Axes>"
      ]
     },
     "metadata": {},
     "output_type": "display_data"
    }
   ],
   "source": [
    "firestation_dist = clean_firestation_df[\"DistancetoFireDepartment\"]\n",
    "Value3 = clean_firestation_df[\"ValueofHome\"]\n",
    "\n",
    "correlation3 = st.pearsonr(firestation_dist, Value3)\n",
    "\n",
    "scatter3 = plt.scatter(firestation_dist, Value3, marker=\"o\", facecolors=\"blue\", edgecolors=\"black\", alpha=0.5)\n",
    "(slope3, intercept3, rvalue3, pvalue3, stderr3) = linregress(firestation_dist, Value3)\n",
    "\n",
    "regress_values3 = firestation_dist * slope3 + intercept3\n",
    "\n",
    "line_eq3 = \"y = \" + str(round(slope3,2)) + \"x + \" + str(round(intercept3,2))\n",
    "\n",
    "print(f\"The linear regression equation between distance to firestation and home value is {line_eq3}.\")\n",
    "print(f\"The r-squared is: {rvalue3**2}\")\n",
    "plt.plot(firestation_dist,regress_values3,\"r-\")\n",
    "plt.title(\"Distance to Fire Station vs. Value of Home\")\n",
    "plt.ylabel(\"Value of Home ($)\")\n",
    "plt.xlabel(\"Distance to Fire Station\")\n",
    "plt.ylim(0, 1400)\n",
    "plt.ylim(0, 950000)\n",
    "plt.show()\n",
    "plt.tight_layout()\n",
    "\n",
    "print(f\"The correlation between distance to fire station and home value is {round(correlation3[0],2)}, indicating no correlation.\")\n"
   ]
  },
  {
   "cell_type": "code",
   "execution_count": null,
   "metadata": {},
   "outputs": [],
   "source": []
  },
  {
   "cell_type": "code",
   "execution_count": null,
   "metadata": {},
   "outputs": [],
   "source": []
  }
 ],
 "metadata": {
  "kernelspec": {
   "display_name": "Python [conda env:PythonData]",
   "language": "python",
   "name": "conda-env-PythonData-py"
  },
  "language_info": {
   "codemirror_mode": {
    "name": "ipython",
    "version": 3
   },
   "file_extension": ".py",
   "mimetype": "text/x-python",
   "name": "python",
   "nbconvert_exporter": "python",
   "pygments_lexer": "ipython3",
   "version": "3.6.10"
  }
 },
 "nbformat": 4,
 "nbformat_minor": 4
}
