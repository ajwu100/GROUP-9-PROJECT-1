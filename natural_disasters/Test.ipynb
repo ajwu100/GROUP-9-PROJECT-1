{
 "cells": [
  {
   "cell_type": "code",
   "execution_count": 6,
   "metadata": {},
   "outputs": [],
   "source": [
    "from matplotlib import pyplot as plt\n",
    "from scipy import stats\n",
    "import numpy as np\n",
    "import pandas as pd\n",
    "import seaborn as sns\n",
    "from scipy.stats import linregress"
   ]
  },
  {
   "cell_type": "code",
   "execution_count": 7,
   "metadata": {},
   "outputs": [],
   "source": [
    "nat_disasters_df = pd.read_csv(\"../clean.csv\")"
   ]
  },
  {
   "cell_type": "code",
   "execution_count": 8,
   "metadata": {},
   "outputs": [
    {
     "data": {
      "text/html": [
       "<div>\n",
       "<style scoped>\n",
       "    .dataframe tbody tr th:only-of-type {\n",
       "        vertical-align: middle;\n",
       "    }\n",
       "\n",
       "    .dataframe tbody tr th {\n",
       "        vertical-align: top;\n",
       "    }\n",
       "\n",
       "    .dataframe thead th {\n",
       "        text-align: right;\n",
       "    }\n",
       "</style>\n",
       "<table border=\"1\" class=\"dataframe\">\n",
       "  <thead>\n",
       "    <tr style=\"text-align: right;\">\n",
       "      <th></th>\n",
       "      <th>Id</th>\n",
       "      <th>OwnerCity</th>\n",
       "      <th>OwnerState</th>\n",
       "      <th>PropertyLocationStreet1</th>\n",
       "      <th>PropertyCity</th>\n",
       "      <th>PropertyZip</th>\n",
       "      <th>StateParcelId</th>\n",
       "      <th>ParcelSize</th>\n",
       "      <th>ValueofHome</th>\n",
       "      <th>YearBuilt</th>\n",
       "      <th>...</th>\n",
       "      <th>FireID</th>\n",
       "      <th>DistancetoFireDepartment</th>\n",
       "      <th>DistancetoSinkhole</th>\n",
       "      <th>SinkholeLatitude</th>\n",
       "      <th>SinkholeLongitude</th>\n",
       "      <th>LocationWindSpeed</th>\n",
       "      <th>WindborneDebrisRegion</th>\n",
       "      <th>Terrain</th>\n",
       "      <th>FloodZone</th>\n",
       "      <th>FloodZoneRiskLevel</th>\n",
       "    </tr>\n",
       "  </thead>\n",
       "  <tbody>\n",
       "    <tr>\n",
       "      <th>0</th>\n",
       "      <td>12009f31026acc440</td>\n",
       "      <td>PINEHURST</td>\n",
       "      <td>NC</td>\n",
       "      <td>5833 NEWBURY CIR</td>\n",
       "      <td>MELBOURNE</td>\n",
       "      <td>32940</td>\n",
       "      <td>C15-000-035-4368-3</td>\n",
       "      <td>10890.0</td>\n",
       "      <td>360350.0</td>\n",
       "      <td>2001.0</td>\n",
       "      <td>...</td>\n",
       "      <td>NaN</td>\n",
       "      <td>1.67</td>\n",
       "      <td>19.32</td>\n",
       "      <td>28.46383</td>\n",
       "      <td>-80.79177</td>\n",
       "      <td>120.0</td>\n",
       "      <td>True</td>\n",
       "      <td>B</td>\n",
       "      <td>X:100</td>\n",
       "      <td>NaN</td>\n",
       "    </tr>\n",
       "    <tr>\n",
       "      <th>1</th>\n",
       "      <td>120112bfc77a87376</td>\n",
       "      <td>STAFFORD</td>\n",
       "      <td>VA</td>\n",
       "      <td>12723 SW 49 CT</td>\n",
       "      <td>MIRAMAR</td>\n",
       "      <td>33027</td>\n",
       "      <td>C16-000-107-5040-4</td>\n",
       "      <td>2328.0</td>\n",
       "      <td>228680.0</td>\n",
       "      <td>2003.0</td>\n",
       "      <td>...</td>\n",
       "      <td>645.0</td>\n",
       "      <td>2.37</td>\n",
       "      <td>5.11</td>\n",
       "      <td>25.98582</td>\n",
       "      <td>-80.23586</td>\n",
       "      <td>140.0</td>\n",
       "      <td>True</td>\n",
       "      <td>HVHZ</td>\n",
       "      <td>X:100</td>\n",
       "      <td>NaN</td>\n",
       "    </tr>\n",
       "    <tr>\n",
       "      <th>2</th>\n",
       "      <td>12081776a04b281f4</td>\n",
       "      <td>RICHMOND</td>\n",
       "      <td>VA</td>\n",
       "      <td>6470 SEAGULL DR UNIT 307</td>\n",
       "      <td>BRADENTON</td>\n",
       "      <td>34210</td>\n",
       "      <td>C51-000-535-8660-8</td>\n",
       "      <td>44.0</td>\n",
       "      <td>135000.0</td>\n",
       "      <td>1980.0</td>\n",
       "      <td>...</td>\n",
       "      <td>NaN</td>\n",
       "      <td>0.96</td>\n",
       "      <td>1.93</td>\n",
       "      <td>27.41706</td>\n",
       "      <td>-82.56742</td>\n",
       "      <td>130.0</td>\n",
       "      <td>True</td>\n",
       "      <td>C</td>\n",
       "      <td>A:100</td>\n",
       "      <td>NaN</td>\n",
       "    </tr>\n",
       "    <tr>\n",
       "      <th>3</th>\n",
       "      <td>12103fabafeea9fb7</td>\n",
       "      <td>ARLINGTON</td>\n",
       "      <td>VA</td>\n",
       "      <td>1012 NORTH SHORE DR NE # 12</td>\n",
       "      <td>SAINT PETERSBURG</td>\n",
       "      <td>33701</td>\n",
       "      <td>C62-000-778-7949-2</td>\n",
       "      <td>NaN</td>\n",
       "      <td>87660.0</td>\n",
       "      <td>1959.0</td>\n",
       "      <td>...</td>\n",
       "      <td>855.0</td>\n",
       "      <td>1.08</td>\n",
       "      <td>1.00</td>\n",
       "      <td>27.77333</td>\n",
       "      <td>-82.64000</td>\n",
       "      <td>123.0</td>\n",
       "      <td>True</td>\n",
       "      <td>C</td>\n",
       "      <td>X500:40, A:30, X:30</td>\n",
       "      <td>NaN</td>\n",
       "    </tr>\n",
       "    <tr>\n",
       "      <th>4</th>\n",
       "      <td>120213b0f5f17e3d1</td>\n",
       "      <td>ROCK HILL</td>\n",
       "      <td>SC</td>\n",
       "      <td>5550 HERON POINT DR</td>\n",
       "      <td>NAPLES</td>\n",
       "      <td>34108</td>\n",
       "      <td>C21-000-189-4508-9</td>\n",
       "      <td>NaN</td>\n",
       "      <td>663090.0</td>\n",
       "      <td>1991.0</td>\n",
       "      <td>...</td>\n",
       "      <td>50.0</td>\n",
       "      <td>1.37</td>\n",
       "      <td>11.43</td>\n",
       "      <td>26.27444</td>\n",
       "      <td>-81.63916</td>\n",
       "      <td>131.0</td>\n",
       "      <td>True</td>\n",
       "      <td>C</td>\n",
       "      <td>A:100</td>\n",
       "      <td>NaN</td>\n",
       "    </tr>\n",
       "  </tbody>\n",
       "</table>\n",
       "<p>5 rows × 29 columns</p>\n",
       "</div>"
      ],
      "text/plain": [
       "                  Id  OwnerCity OwnerState      PropertyLocationStreet1  \\\n",
       "0  12009f31026acc440  PINEHURST         NC             5833 NEWBURY CIR   \n",
       "1  120112bfc77a87376   STAFFORD         VA               12723 SW 49 CT   \n",
       "2  12081776a04b281f4   RICHMOND         VA     6470 SEAGULL DR UNIT 307   \n",
       "3  12103fabafeea9fb7  ARLINGTON         VA  1012 NORTH SHORE DR NE # 12   \n",
       "4  120213b0f5f17e3d1  ROCK HILL         SC          5550 HERON POINT DR   \n",
       "\n",
       "       PropertyCity  PropertyZip       StateParcelId  ParcelSize  ValueofHome  \\\n",
       "0         MELBOURNE        32940  C15-000-035-4368-3     10890.0     360350.0   \n",
       "1           MIRAMAR        33027  C16-000-107-5040-4      2328.0     228680.0   \n",
       "2         BRADENTON        34210  C51-000-535-8660-8        44.0     135000.0   \n",
       "3  SAINT PETERSBURG        33701  C62-000-778-7949-2         NaN      87660.0   \n",
       "4            NAPLES        34108  C21-000-189-4508-9         NaN     663090.0   \n",
       "\n",
       "   YearBuilt  ... FireID  DistancetoFireDepartment  DistancetoSinkhole  \\\n",
       "0     2001.0  ...    NaN                      1.67               19.32   \n",
       "1     2003.0  ...  645.0                      2.37                5.11   \n",
       "2     1980.0  ...    NaN                      0.96                1.93   \n",
       "3     1959.0  ...  855.0                      1.08                1.00   \n",
       "4     1991.0  ...   50.0                      1.37               11.43   \n",
       "\n",
       "  SinkholeLatitude SinkholeLongitude  LocationWindSpeed  \\\n",
       "0         28.46383         -80.79177              120.0   \n",
       "1         25.98582         -80.23586              140.0   \n",
       "2         27.41706         -82.56742              130.0   \n",
       "3         27.77333         -82.64000              123.0   \n",
       "4         26.27444         -81.63916              131.0   \n",
       "\n",
       "   WindborneDebrisRegion  Terrain            FloodZone  FloodZoneRiskLevel  \n",
       "0                   True     B                   X:100                 NaN  \n",
       "1                   True     HVHZ                X:100                 NaN  \n",
       "2                   True     C                   A:100                 NaN  \n",
       "3                   True     C     X500:40, A:30, X:30                 NaN  \n",
       "4                   True     C                   A:100                 NaN  \n",
       "\n",
       "[5 rows x 29 columns]"
      ]
     },
     "execution_count": 8,
     "metadata": {},
     "output_type": "execute_result"
    }
   ],
   "source": [
    "nat_disasters_df.head()"
   ]
  },
  {
   "cell_type": "code",
   "execution_count": 10,
   "metadata": {},
   "outputs": [
    {
     "name": "stdout",
     "output_type": "stream",
     "text": [
      "<class 'pandas.core.frame.DataFrame'>\n",
      "RangeIndex: 228 entries, 0 to 227\n",
      "Data columns (total 8 columns):\n",
      " #   Column                 Non-Null Count  Dtype  \n",
      "---  ------                 --------------  -----  \n",
      " 0   OwnerCity              228 non-null    object \n",
      " 1   OwnerState             228 non-null    object \n",
      " 2   ValueofHome            228 non-null    float64\n",
      " 3   DistancetoSinkhole     227 non-null    float64\n",
      " 4   LocationWindSpeed      227 non-null    float64\n",
      " 5   WindborneDebrisRegion  227 non-null    object \n",
      " 6   Terrain                227 non-null    object \n",
      " 7   FloodZone              227 non-null    object \n",
      "dtypes: float64(3), object(5)\n",
      "memory usage: 14.4+ KB\n"
     ]
    }
   ],
   "source": [
    "new_df = nat_disasters_df[\n",
    "            ['OwnerCity', 'OwnerState', 'ValueofHome', 'DistancetoSinkhole','LocationWindSpeed', \n",
    "             'WindborneDebrisRegion','Terrain', 'FloodZone']\n",
    "]\n",
    "new_df.info()"
   ]
  },
  {
   "cell_type": "code",
   "execution_count": null,
   "metadata": {},
   "outputs": [],
   "source": [
    "sinkhole_df = nat_disasters_df[\n",
    "            ['OwnerState','DistancetoSinkhole']\n",
    "]\n",
    "sinkhole_df.head()"
   ]
  },
  {
   "cell_type": "code",
   "execution_count": null,
   "metadata": {},
   "outputs": [],
   "source": [
    "sinkhole_df.describe()"
   ]
  },
  {
   "cell_type": "code",
   "execution_count": null,
   "metadata": {},
   "outputs": [],
   "source": [
    "nc_sinkhole_df = sinkhole_df.loc[(sinkhole_df[\"OwnerState\"] == \"NC\"), :]\n",
    "nc_sinkhole_df\n",
    "quartiles = nc_sinkhole_df['DistancetoSinkhole'].quantile([.25,.5,.75])\n",
    "lowerq = quartiles[.25]\n",
    "upperq = quartiles[.75]\n",
    "iqr = upperq-lowerq\n",
    "\n",
    "print(f\"The lower quartile of the distance to sinkhole is: {round(lowerq,2)}\")\n",
    "print(f\"The upper quartile of the distance to sinkhole is: {round(upperq,2)}\")\n",
    "print(f\"The interquartile range of the distance to sinkhole is: {round(iqr,2)}\")\n",
    "print(f\"The median of the distance to sinkhole is: {quartiles[0.5]} \")\n",
    "\n",
    "lower_bound = lowerq - (1.5*iqr)\n",
    "upper_bound = upperq + (1.5*iqr)\n",
    "print(f\"Values below {round(lower_bound,2)} could be outliers.\")\n",
    "print(f\"Values above {round(upper_bound,2)} could be outliers.\")\n"
   ]
  },
  {
   "cell_type": "code",
   "execution_count": null,
   "metadata": {},
   "outputs": [],
   "source": [
    "va_sinkhole_df = sinkhole_df.loc[(sinkhole_df[\"OwnerState\"] == \"VA\"), :]\n",
    "va_sinkhole_df\n",
    "quartiles = va_sinkhole_df['DistancetoSinkhole'].quantile([.25,.5,.75])\n",
    "lowerq = quartiles[.25]\n",
    "upperq = quartiles[.75]\n",
    "iqr = upperq-lowerq\n",
    "\n",
    "print(f\"The lower quartile of the distance to sinkhole is: {round(lowerq,2)}\")\n",
    "print(f\"The upper quartile of the distance to sinkhole is: {round(upperq,2)}\")\n",
    "print(f\"The interquartile range of the distance to sinkhole is: {round(iqr,2)}\")\n",
    "print(f\"The median of the distance to sinkhole is: {quartiles[0.5]} \")\n",
    "\n",
    "lower_bound = lowerq - (1.5*iqr)\n",
    "upper_bound = upperq + (1.5*iqr)\n",
    "print(f\"Values below {round(lower_bound,2)} could be outliers.\")\n",
    "print(f\"Values above {round(upper_bound,2)} could be outliers.\")\n"
   ]
  },
  {
   "cell_type": "code",
   "execution_count": null,
   "metadata": {},
   "outputs": [],
   "source": [
    "sc_sinkhole_df = sinkhole_df.loc[(sinkhole_df[\"OwnerState\"] == \"SC\"), :]\n",
    "sc_sinkhole_df\n",
    "quartiles = sc_sinkhole_df['DistancetoSinkhole'].quantile([.25,.5,.75])\n",
    "lowerq = quartiles[.25]\n",
    "upperq = quartiles[.75]\n",
    "iqr = upperq-lowerq\n",
    "\n",
    "print(f\"The lower quartile of the distance to sinkhole is: {round(lowerq,2)}\")\n",
    "print(f\"The upper quartile of the distance to sinkhole is: {round(upperq,2)}\")\n",
    "print(f\"The interquartile range of the distance to sinkhole is: {round(iqr,2)}\")\n",
    "print(f\"The median of the distance to sinkhole is: {quartiles[0.5]} \")\n",
    "\n",
    "lower_bound = lowerq - (1.5*iqr)\n",
    "upper_bound = upperq + (1.5*iqr)\n",
    "print(f\"Values below {round(lower_bound,2)} could be outliers.\")\n",
    "print(f\"Values above {round(upper_bound,2)} could be outliers.\")"
   ]
  },
  {
   "cell_type": "code",
   "execution_count": null,
   "metadata": {},
   "outputs": [],
   "source": []
  },
  {
   "cell_type": "code",
   "execution_count": null,
   "metadata": {},
   "outputs": [],
   "source": [
    "sns.boxplot(x='OwnerState', y='DistancetoSinkhole', data=sinkhole_df)\n",
    "plt.xlabel('State')\n",
    "plt.ylabel(\"Distance\")\n",
    "plt.title('Distance to Sinkhole')\n",
    "\n",
    "plt.savefig(\"Images/SinkholeComparison.png\")\n",
    "plt.show()"
   ]
  },
  {
   "cell_type": "code",
   "execution_count": null,
   "metadata": {},
   "outputs": [],
   "source": [
    "windspeed_df = nat_disasters_df[\n",
    "            ['OwnerState','LocationWindSpeed']\n",
    "]\n",
    "windspeed_df.head()"
   ]
  },
  {
   "cell_type": "code",
   "execution_count": null,
   "metadata": {},
   "outputs": [],
   "source": [
    "windspeed_df.describe()"
   ]
  },
  {
   "cell_type": "code",
   "execution_count": null,
   "metadata": {},
   "outputs": [],
   "source": [
    "sc_windspeed_df = windspeed_df.loc[windspeed_df[\"OwnerState\"] == \"SC\", :]\n",
    "sc_windspeed_df.head()\n",
    "\n",
    "nc_windspeed_df = windspeed_df.loc[windspeed_df[\"OwnerState\"] == \"NC\", :]\n",
    "nc_windspeed_df.head()\n",
    "\n",
    "va_windspeed_df = windspeed_df.loc[windspeed_df[\"OwnerState\"] == \"VA\", :]\n",
    "va_windspeed_df.head()"
   ]
  },
  {
   "cell_type": "code",
   "execution_count": null,
   "metadata": {},
   "outputs": [],
   "source": [
    "sc_windspeed_count = sc_windspeed_df.groupby(['LocationWindSpeed']).count()\n",
    "\n",
    "sc_plot_windspeed_count = sc_windspeed_count.plot.bar(color='red', alpha=0.8, align=\"center\")\n",
    "plt.xlabel('Windspeed')\n",
    "plt.ylabel('Windspeed Count')\n",
    "plt.title('SC Windspeed')\n",
    "\n",
    "plt.savefig(\"Images/SC Windspeed.png\")\n",
    "plt.show()\n",
    "\n",
    "nc_windspeed_count = nc_windspeed_df.groupby(['LocationWindSpeed']).count()\n",
    "\n",
    "plot_windspeed_count = nc_windspeed_count.plot.bar(color='blue', alpha=0.5, align=\"center\")\n",
    "plt.xlabel('Windspeed')\n",
    "plt.ylabel('Windspeed Count')\n",
    "plt.title('NC Windspeed')\n",
    "\n",
    "plt.savefig(\"Images/NC Windspeed.png\")\n",
    "plt.show()\n",
    "\n",
    "va_windspeed_count = va_windspeed_df.groupby(['LocationWindSpeed']).count()\n",
    "\n",
    "va_plot_windspeed_count = va_windspeed_count.plot.bar(color='orange', alpha=0.7, align=\"center\")\n",
    "plt.xlabel('Windspeed')\n",
    "plt.ylabel('Windspeed Count')\n",
    "plt.title('VA Windspeed')\n",
    "\n",
    "plt.savefig(\"Images/VA Windspeed.png\")\n",
    "plt.show()\n"
   ]
  },
  {
   "cell_type": "code",
   "execution_count": null,
   "metadata": {},
   "outputs": [],
   "source": []
  },
  {
   "cell_type": "code",
   "execution_count": null,
   "metadata": {},
   "outputs": [],
   "source": []
  },
  {
   "cell_type": "code",
   "execution_count": null,
   "metadata": {},
   "outputs": [],
   "source": []
  },
  {
   "cell_type": "code",
   "execution_count": null,
   "metadata": {},
   "outputs": [],
   "source": [
    "windborne_debris_df = nat_disasters_df[\n",
    "            ['OwnerState', 'WindborneDebrisRegion']\n",
    "]\n",
    "windborne_debris_df.head()"
   ]
  },
  {
   "cell_type": "code",
   "execution_count": null,
   "metadata": {},
   "outputs": [],
   "source": [
    "sc_windborne_debris_df = windborne_debris_df.loc[(windborne_debris_df[\"OwnerState\"] == \"SC\"), :]\n",
    "sc_windborne_debris_df.head()"
   ]
  },
  {
   "cell_type": "code",
   "execution_count": null,
   "metadata": {},
   "outputs": [],
   "source": [
    "sc_windborne_count = sc_windborne_debris_df.value_counts('WindborneDebrisRegion')\n",
    "sc_windborne_count"
   ]
  },
  {
   "cell_type": "code",
   "execution_count": null,
   "metadata": {},
   "outputs": [],
   "source": []
  },
  {
   "cell_type": "code",
   "execution_count": null,
   "metadata": {},
   "outputs": [],
   "source": [
    "nc_windborne_debris_df = windborne_debris_df.loc[(windborne_debris_df[\"OwnerState\"] == \"NC\"), :]\n",
    "nc_windborne_debris_df.head()"
   ]
  },
  {
   "cell_type": "code",
   "execution_count": null,
   "metadata": {},
   "outputs": [],
   "source": [
    "nc_windborne_count = nc_windborne_debris_df.value_counts('WindborneDebrisRegion')\n",
    "nc_windborne_count"
   ]
  },
  {
   "cell_type": "code",
   "execution_count": null,
   "metadata": {},
   "outputs": [],
   "source": []
  },
  {
   "cell_type": "code",
   "execution_count": null,
   "metadata": {},
   "outputs": [],
   "source": [
    "va_windborne_debris_df = windborne_debris_df.loc[(windborne_debris_df[\"OwnerState\"] == \"VA\"), :]\n",
    "va_windborne_debris_df.head()"
   ]
  },
  {
   "cell_type": "code",
   "execution_count": null,
   "metadata": {},
   "outputs": [],
   "source": [
    "va_windborne_count = va_windborne_debris_df.value_counts('WindborneDebrisRegion')\n",
    "va_windborne_count"
   ]
  },
  {
   "cell_type": "code",
   "execution_count": null,
   "metadata": {},
   "outputs": [],
   "source": [
    "nc_windborne_count.plot.pie(shadow=True, autopct = \"%1.1f%%\")\n",
    "\n",
    "plt.title('NC Windborne Debris')\n",
    "plt.ylabel('State')\n",
    "plt.savefig(\"Images/nc_windborne.png\")\n",
    "plt.show()\n",
    "\n",
    "sc_windborne_count.plot.pie(shadow=True, autopct = \"%1.1f%%\")\n",
    "\n",
    "plt.title('SC Windborne Debris')\n",
    "plt.ylabel('State')\n",
    "plt.savefig(\"Images/sc_windborne.png\")\n",
    "plt.show()\n",
    "\n",
    "va_windborne_count.plot.pie(shadow=True, autopct = \"%1.1f%%\")\n",
    "\n",
    "plt.title('VA Windborne Debris')\n",
    "plt.ylabel('State')\n",
    "plt.savefig(\"Images/va_windborne.png\")\n",
    "plt.show()"
   ]
  },
  {
   "cell_type": "code",
   "execution_count": null,
   "metadata": {},
   "outputs": [],
   "source": []
  },
  {
   "cell_type": "code",
   "execution_count": null,
   "metadata": {},
   "outputs": [],
   "source": [
    "terrian_df = nat_disasters_df[['OwnerState','Terrain']]\n",
    "terrian_df.head()"
   ]
  },
  {
   "cell_type": "code",
   "execution_count": null,
   "metadata": {},
   "outputs": [],
   "source": [
    "va_terrain_df = terrian_df.loc[(terrian_df[\"OwnerState\"] == \"VA\"), :]\n",
    "va_terrain_df.head()\n",
    "\n",
    "nc_terrain_df = terrian_df.loc[(terrian_df[\"OwnerState\"] == \"NC\"), :]\n",
    "nc_terrain_df.head()\n",
    "\n",
    "sc_terrain_df = terrian_df.loc[(terrian_df[\"OwnerState\"] == \"SC\"), :]\n",
    "sc_terrain_df.head()"
   ]
  },
  {
   "cell_type": "code",
   "execution_count": null,
   "metadata": {},
   "outputs": [],
   "source": [
    "va_terrain_count = va_terrain_df.value_counts('Terrain')\n",
    "va_terrain_count\n",
    "\n",
    "nc_terrain_count = nc_terrain_df.value_counts('Terrain')\n",
    "nc_terrain_count\n",
    "\n",
    "sc_terrain_count = sc_terrain_df.value_counts('Terrain')\n",
    "sc_terrain_count"
   ]
  },
  {
   "cell_type": "code",
   "execution_count": null,
   "metadata": {},
   "outputs": [],
   "source": [
    "va_terrain_count.plot.pie(shadow=True, autopct = \"%1.1f%%\",)\n",
    "\n",
    "plt.title('VA Terrain')\n",
    "plt.ylabel('Terrain')\n",
    "plt.savefig(\"Images/va_terrain.png\")\n",
    "plt.show()\n",
    "\n",
    "nc_terrain_count.plot.pie(shadow=True, autopct = \"%1.1f%%\")\n",
    "\n",
    "plt.title('NC Terrain')\n",
    "plt.ylabel('Terrain')\n",
    "plt.savefig(\"Images/nc_terrain.png\")\n",
    "plt.show()\n",
    "\n",
    "sc_terrain_count.plot.pie(shadow=True, autopct = \"%1.1f%%\")\n",
    "\n",
    "plt.title('SC Terrain')\n",
    "plt.ylabel('Terrain')\n",
    "plt.savefig(\"Images/sc_terrain.png\")\n",
    "plt.show()"
   ]
  },
  {
   "cell_type": "code",
   "execution_count": 13,
   "metadata": {},
   "outputs": [
    {
     "data": {
      "text/html": [
       "<div>\n",
       "<style scoped>\n",
       "    .dataframe tbody tr th:only-of-type {\n",
       "        vertical-align: middle;\n",
       "    }\n",
       "\n",
       "    .dataframe tbody tr th {\n",
       "        vertical-align: top;\n",
       "    }\n",
       "\n",
       "    .dataframe thead th {\n",
       "        text-align: right;\n",
       "    }\n",
       "</style>\n",
       "<table border=\"1\" class=\"dataframe\">\n",
       "  <thead>\n",
       "    <tr style=\"text-align: right;\">\n",
       "      <th></th>\n",
       "      <th>ValueofHome</th>\n",
       "      <th>Terrain</th>\n",
       "    </tr>\n",
       "  </thead>\n",
       "  <tbody>\n",
       "    <tr>\n",
       "      <th>0</th>\n",
       "      <td>360350.0</td>\n",
       "      <td>B</td>\n",
       "    </tr>\n",
       "    <tr>\n",
       "      <th>1</th>\n",
       "      <td>228680.0</td>\n",
       "      <td>HVHZ</td>\n",
       "    </tr>\n",
       "    <tr>\n",
       "      <th>2</th>\n",
       "      <td>135000.0</td>\n",
       "      <td>C</td>\n",
       "    </tr>\n",
       "    <tr>\n",
       "      <th>3</th>\n",
       "      <td>87660.0</td>\n",
       "      <td>C</td>\n",
       "    </tr>\n",
       "    <tr>\n",
       "      <th>4</th>\n",
       "      <td>663090.0</td>\n",
       "      <td>C</td>\n",
       "    </tr>\n",
       "  </tbody>\n",
       "</table>\n",
       "</div>"
      ],
      "text/plain": [
       "   ValueofHome Terrain\n",
       "0     360350.0    B   \n",
       "1     228680.0    HVHZ\n",
       "2     135000.0    C   \n",
       "3      87660.0    C   \n",
       "4     663090.0    C   "
      ]
     },
     "execution_count": 13,
     "metadata": {},
     "output_type": "execute_result"
    }
   ],
   "source": [
    "terrian2_df = nat_disasters_df[['ValueofHome','Terrain']]\n",
    "terrian2_df.head()"
   ]
  },
  {
   "cell_type": "code",
   "execution_count": 18,
   "metadata": {},
   "outputs": [
    {
     "data": {
      "image/png": "[encoded data removed]",
      "text/plain": [
       "<Figure size 432x288 with 1 Axes>"
      ]
     },
     "metadata": {
      "needs_background": "light"
     },
     "output_type": "display_data"
    }
   ],
   "source": [
    "sns.boxplot(x='Terrain', y='ValueofHome', data=terrian2_df)\n",
    "plt.xlabel('Terrain')\n",
    "plt.ylabel(\"Value of home in millions\")\n",
    "plt.title('Value of Home Based on the Terrain')\n",
    "\n",
    "plt.savefig(\"Value of Home Based on the Terrain.png\")\n",
    "plt.show()"
   ]
  },
  {
   "cell_type": "code",
   "execution_count": null,
   "metadata": {},
   "outputs": [],
   "source": []
  }
 ],
 "metadata": {
  "kernelspec": {
   "display_name": "Python [conda env:PythonData] *",
   "language": "python",
   "name": "conda-env-PythonData-py"
  },
  "language_info": {
   "codemirror_mode": {
    "name": "ipython",
    "version": 3
   },
   "file_extension": ".py",
   "mimetype": "text/x-python",
   "name": "python",
   "nbconvert_exporter": "python",
   "pygments_lexer": "ipython3",
   "version": "3.6.10"
  }
 },
 "nbformat": 4,
 "nbformat_minor": 4
}
