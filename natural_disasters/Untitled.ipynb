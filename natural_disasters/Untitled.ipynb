{
 "cells": [
  {
   "cell_type": "code",
   "execution_count": 1,
   "metadata": {},
   "outputs": [],
   "source": [
    "from matplotlib import pyplot as plt\n",
    "from scipy import stats\n",
    "import numpy as np\n",
    "import pandas as pd\n",
    "import seaborn as sns\n",
    "from scipy.stats import linregress"
   ]
  },
  {
   "cell_type": "code",
   "execution_count": 3,
   "metadata": {},
   "outputs": [
    {
     "data": {
      "text/html": [
       "<div>\n",
       "<style scoped>\n",
       "    .dataframe tbody tr th:only-of-type {\n",
       "        vertical-align: middle;\n",
       "    }\n",
       "\n",
       "    .dataframe tbody tr th {\n",
       "        vertical-align: top;\n",
       "    }\n",
       "\n",
       "    .dataframe thead th {\n",
       "        text-align: right;\n",
       "    }\n",
       "</style>\n",
       "<table border=\"1\" class=\"dataframe\">\n",
       "  <thead>\n",
       "    <tr style=\"text-align: right;\">\n",
       "      <th></th>\n",
       "      <th>Id</th>\n",
       "      <th>OwnerCity</th>\n",
       "      <th>OwnerState</th>\n",
       "      <th>PropertyLocationStreet1</th>\n",
       "      <th>PropertyCity</th>\n",
       "      <th>PropertyZip</th>\n",
       "      <th>StateParcelId</th>\n",
       "      <th>ParcelSize</th>\n",
       "      <th>ValueofHome</th>\n",
       "      <th>YearBuilt</th>\n",
       "      <th>...</th>\n",
       "      <th>FireID</th>\n",
       "      <th>DistancetoFireDepartment</th>\n",
       "      <th>DistancetoSinkhole</th>\n",
       "      <th>SinkholeLatitude</th>\n",
       "      <th>SinkholeLongitude</th>\n",
       "      <th>LocationWindSpeed</th>\n",
       "      <th>WindborneDebrisRegion</th>\n",
       "      <th>Terrain</th>\n",
       "      <th>FloodZone</th>\n",
       "      <th>FloodZoneRiskLevel</th>\n",
       "    </tr>\n",
       "  </thead>\n",
       "  <tbody>\n",
       "    <tr>\n",
       "      <th>0</th>\n",
       "      <td>12009f31026acc440</td>\n",
       "      <td>PINEHURST</td>\n",
       "      <td>NC</td>\n",
       "      <td>5833 NEWBURY CIR</td>\n",
       "      <td>MELBOURNE</td>\n",
       "      <td>32940</td>\n",
       "      <td>C15-000-035-4368-3</td>\n",
       "      <td>10890.0</td>\n",
       "      <td>360350.0</td>\n",
       "      <td>2001.0</td>\n",
       "      <td>...</td>\n",
       "      <td>NaN</td>\n",
       "      <td>1.67</td>\n",
       "      <td>19.32</td>\n",
       "      <td>28.46383</td>\n",
       "      <td>-80.79177</td>\n",
       "      <td>120.0</td>\n",
       "      <td>True</td>\n",
       "      <td>B</td>\n",
       "      <td>X:100</td>\n",
       "      <td>NaN</td>\n",
       "    </tr>\n",
       "    <tr>\n",
       "      <th>1</th>\n",
       "      <td>120112bfc77a87376</td>\n",
       "      <td>STAFFORD</td>\n",
       "      <td>VA</td>\n",
       "      <td>12723 SW 49 CT</td>\n",
       "      <td>MIRAMAR</td>\n",
       "      <td>33027</td>\n",
       "      <td>C16-000-107-5040-4</td>\n",
       "      <td>2328.0</td>\n",
       "      <td>228680.0</td>\n",
       "      <td>2003.0</td>\n",
       "      <td>...</td>\n",
       "      <td>645.0</td>\n",
       "      <td>2.37</td>\n",
       "      <td>5.11</td>\n",
       "      <td>25.98582</td>\n",
       "      <td>-80.23586</td>\n",
       "      <td>140.0</td>\n",
       "      <td>True</td>\n",
       "      <td>HVHZ</td>\n",
       "      <td>X:100</td>\n",
       "      <td>NaN</td>\n",
       "    </tr>\n",
       "    <tr>\n",
       "      <th>2</th>\n",
       "      <td>12081776a04b281f4</td>\n",
       "      <td>RICHMOND</td>\n",
       "      <td>VA</td>\n",
       "      <td>6470 SEAGULL DR UNIT 307</td>\n",
       "      <td>BRADENTON</td>\n",
       "      <td>34210</td>\n",
       "      <td>C51-000-535-8660-8</td>\n",
       "      <td>44.0</td>\n",
       "      <td>135000.0</td>\n",
       "      <td>1980.0</td>\n",
       "      <td>...</td>\n",
       "      <td>NaN</td>\n",
       "      <td>0.96</td>\n",
       "      <td>1.93</td>\n",
       "      <td>27.41706</td>\n",
       "      <td>-82.56742</td>\n",
       "      <td>130.0</td>\n",
       "      <td>True</td>\n",
       "      <td>C</td>\n",
       "      <td>A:100</td>\n",
       "      <td>NaN</td>\n",
       "    </tr>\n",
       "    <tr>\n",
       "      <th>3</th>\n",
       "      <td>12103fabafeea9fb7</td>\n",
       "      <td>ARLINGTON</td>\n",
       "      <td>VA</td>\n",
       "      <td>1012 NORTH SHORE DR NE # 12</td>\n",
       "      <td>SAINT PETERSBURG</td>\n",
       "      <td>33701</td>\n",
       "      <td>C62-000-778-7949-2</td>\n",
       "      <td>NaN</td>\n",
       "      <td>87660.0</td>\n",
       "      <td>1959.0</td>\n",
       "      <td>...</td>\n",
       "      <td>855.0</td>\n",
       "      <td>1.08</td>\n",
       "      <td>1.00</td>\n",
       "      <td>27.77333</td>\n",
       "      <td>-82.64000</td>\n",
       "      <td>123.0</td>\n",
       "      <td>True</td>\n",
       "      <td>C</td>\n",
       "      <td>X500:40, A:30, X:30</td>\n",
       "      <td>NaN</td>\n",
       "    </tr>\n",
       "    <tr>\n",
       "      <th>4</th>\n",
       "      <td>120213b0f5f17e3d1</td>\n",
       "      <td>ROCK HILL</td>\n",
       "      <td>SC</td>\n",
       "      <td>5550 HERON POINT DR</td>\n",
       "      <td>NAPLES</td>\n",
       "      <td>34108</td>\n",
       "      <td>C21-000-189-4508-9</td>\n",
       "      <td>NaN</td>\n",
       "      <td>663090.0</td>\n",
       "      <td>1991.0</td>\n",
       "      <td>...</td>\n",
       "      <td>50.0</td>\n",
       "      <td>1.37</td>\n",
       "      <td>11.43</td>\n",
       "      <td>26.27444</td>\n",
       "      <td>-81.63916</td>\n",
       "      <td>131.0</td>\n",
       "      <td>True</td>\n",
       "      <td>C</td>\n",
       "      <td>A:100</td>\n",
       "      <td>NaN</td>\n",
       "    </tr>\n",
       "  </tbody>\n",
       "</table>\n",
       "<p>5 rows × 29 columns</p>\n",
       "</div>"
      ],
      "text/plain": [
       "                  Id  OwnerCity OwnerState      PropertyLocationStreet1  \\\n",
       "0  12009f31026acc440  PINEHURST         NC             5833 NEWBURY CIR   \n",
       "1  120112bfc77a87376   STAFFORD         VA               12723 SW 49 CT   \n",
       "2  12081776a04b281f4   RICHMOND         VA     6470 SEAGULL DR UNIT 307   \n",
       "3  12103fabafeea9fb7  ARLINGTON         VA  1012 NORTH SHORE DR NE # 12   \n",
       "4  120213b0f5f17e3d1  ROCK HILL         SC          5550 HERON POINT DR   \n",
       "\n",
       "       PropertyCity  PropertyZip       StateParcelId  ParcelSize  ValueofHome  \\\n",
       "0         MELBOURNE        32940  C15-000-035-4368-3     10890.0     360350.0   \n",
       "1           MIRAMAR        33027  C16-000-107-5040-4      2328.0     228680.0   \n",
       "2         BRADENTON        34210  C51-000-535-8660-8        44.0     135000.0   \n",
       "3  SAINT PETERSBURG        33701  C62-000-778-7949-2         NaN      87660.0   \n",
       "4            NAPLES        34108  C21-000-189-4508-9         NaN     663090.0   \n",
       "\n",
       "   YearBuilt  ... FireID  DistancetoFireDepartment  DistancetoSinkhole  \\\n",
       "0     2001.0  ...    NaN                      1.67               19.32   \n",
       "1     2003.0  ...  645.0                      2.37                5.11   \n",
       "2     1980.0  ...    NaN                      0.96                1.93   \n",
       "3     1959.0  ...  855.0                      1.08                1.00   \n",
       "4     1991.0  ...   50.0                      1.37               11.43   \n",
       "\n",
       "  SinkholeLatitude SinkholeLongitude  LocationWindSpeed  \\\n",
       "0         28.46383         -80.79177              120.0   \n",
       "1         25.98582         -80.23586              140.0   \n",
       "2         27.41706         -82.56742              130.0   \n",
       "3         27.77333         -82.64000              123.0   \n",
       "4         26.27444         -81.63916              131.0   \n",
       "\n",
       "   WindborneDebrisRegion  Terrain            FloodZone  FloodZoneRiskLevel  \n",
       "0                   True     B                   X:100                 NaN  \n",
       "1                   True     HVHZ                X:100                 NaN  \n",
       "2                   True     C                   A:100                 NaN  \n",
       "3                   True     C     X500:40, A:30, X:30                 NaN  \n",
       "4                   True     C                   A:100                 NaN  \n",
       "\n",
       "[5 rows x 29 columns]"
      ]
     },
     "execution_count": 3,
     "metadata": {},
     "output_type": "execute_result"
    }
   ],
   "source": [
    "nat_disasters_df = pd.read_csv(\"../clean.csv\")\n",
    "nat_disasters_df.head()"
   ]
  },
  {
   "cell_type": "code",
   "execution_count": 5,
   "metadata": {},
   "outputs": [
    {
     "data": {
      "text/html": [
       "<div>\n",
       "<style scoped>\n",
       "    .dataframe tbody tr th:only-of-type {\n",
       "        vertical-align: middle;\n",
       "    }\n",
       "\n",
       "    .dataframe tbody tr th {\n",
       "        vertical-align: top;\n",
       "    }\n",
       "\n",
       "    .dataframe thead th {\n",
       "        text-align: right;\n",
       "    }\n",
       "</style>\n",
       "<table border=\"1\" class=\"dataframe\">\n",
       "  <thead>\n",
       "    <tr style=\"text-align: right;\">\n",
       "      <th></th>\n",
       "      <th>OwnerCity</th>\n",
       "      <th>OwnerState</th>\n",
       "      <th>DistancetoSinkhole</th>\n",
       "      <th>LocationWindSpeed</th>\n",
       "      <th>WindborneDebrisRegion</th>\n",
       "      <th>Terrain</th>\n",
       "    </tr>\n",
       "  </thead>\n",
       "  <tbody>\n",
       "    <tr>\n",
       "      <th>0</th>\n",
       "      <td>PINEHURST</td>\n",
       "      <td>NC</td>\n",
       "      <td>19.32</td>\n",
       "      <td>120.0</td>\n",
       "      <td>True</td>\n",
       "      <td>B</td>\n",
       "    </tr>\n",
       "    <tr>\n",
       "      <th>1</th>\n",
       "      <td>STAFFORD</td>\n",
       "      <td>VA</td>\n",
       "      <td>5.11</td>\n",
       "      <td>140.0</td>\n",
       "      <td>True</td>\n",
       "      <td>HVHZ</td>\n",
       "    </tr>\n",
       "    <tr>\n",
       "      <th>2</th>\n",
       "      <td>RICHMOND</td>\n",
       "      <td>VA</td>\n",
       "      <td>1.93</td>\n",
       "      <td>130.0</td>\n",
       "      <td>True</td>\n",
       "      <td>C</td>\n",
       "    </tr>\n",
       "    <tr>\n",
       "      <th>3</th>\n",
       "      <td>ARLINGTON</td>\n",
       "      <td>VA</td>\n",
       "      <td>1.00</td>\n",
       "      <td>123.0</td>\n",
       "      <td>True</td>\n",
       "      <td>C</td>\n",
       "    </tr>\n",
       "    <tr>\n",
       "      <th>4</th>\n",
       "      <td>ROCK HILL</td>\n",
       "      <td>SC</td>\n",
       "      <td>11.43</td>\n",
       "      <td>131.0</td>\n",
       "      <td>True</td>\n",
       "      <td>C</td>\n",
       "    </tr>\n",
       "  </tbody>\n",
       "</table>\n",
       "</div>"
      ],
      "text/plain": [
       "   OwnerCity OwnerState  DistancetoSinkhole  LocationWindSpeed  \\\n",
       "0  PINEHURST         NC               19.32              120.0   \n",
       "1   STAFFORD         VA                5.11              140.0   \n",
       "2   RICHMOND         VA                1.93              130.0   \n",
       "3  ARLINGTON         VA                1.00              123.0   \n",
       "4  ROCK HILL         SC               11.43              131.0   \n",
       "\n",
       "  WindborneDebrisRegion Terrain  \n",
       "0                  True    B     \n",
       "1                  True    HVHZ  \n",
       "2                  True    C     \n",
       "3                  True    C     \n",
       "4                  True    C     "
      ]
     },
     "execution_count": 5,
     "metadata": {},
     "output_type": "execute_result"
    }
   ],
   "source": [
    "new_df = nat_disasters_df[\n",
    "            ['OwnerCity', 'OwnerState', 'DistancetoSinkhole','LocationWindSpeed', \n",
    "             'WindborneDebrisRegion','Terrain']\n",
    "]\n",
    "new_df.head()"
   ]
  },
  {
   "cell_type": "code",
   "execution_count": 6,
   "metadata": {},
   "outputs": [
    {
     "data": {
      "text/html": [
       "<div>\n",
       "<style scoped>\n",
       "    .dataframe tbody tr th:only-of-type {\n",
       "        vertical-align: middle;\n",
       "    }\n",
       "\n",
       "    .dataframe tbody tr th {\n",
       "        vertical-align: top;\n",
       "    }\n",
       "\n",
       "    .dataframe thead th {\n",
       "        text-align: right;\n",
       "    }\n",
       "</style>\n",
       "<table border=\"1\" class=\"dataframe\">\n",
       "  <thead>\n",
       "    <tr style=\"text-align: right;\">\n",
       "      <th></th>\n",
       "      <th>OwnerState</th>\n",
       "      <th>DistancetoSinkhole</th>\n",
       "    </tr>\n",
       "  </thead>\n",
       "  <tbody>\n",
       "    <tr>\n",
       "      <th>0</th>\n",
       "      <td>NC</td>\n",
       "      <td>19.32</td>\n",
       "    </tr>\n",
       "    <tr>\n",
       "      <th>1</th>\n",
       "      <td>VA</td>\n",
       "      <td>5.11</td>\n",
       "    </tr>\n",
       "    <tr>\n",
       "      <th>2</th>\n",
       "      <td>VA</td>\n",
       "      <td>1.93</td>\n",
       "    </tr>\n",
       "    <tr>\n",
       "      <th>3</th>\n",
       "      <td>VA</td>\n",
       "      <td>1.00</td>\n",
       "    </tr>\n",
       "    <tr>\n",
       "      <th>4</th>\n",
       "      <td>SC</td>\n",
       "      <td>11.43</td>\n",
       "    </tr>\n",
       "  </tbody>\n",
       "</table>\n",
       "</div>"
      ],
      "text/plain": [
       "  OwnerState  DistancetoSinkhole\n",
       "0         NC               19.32\n",
       "1         VA                5.11\n",
       "2         VA                1.93\n",
       "3         VA                1.00\n",
       "4         SC               11.43"
      ]
     },
     "execution_count": 6,
     "metadata": {},
     "output_type": "execute_result"
    }
   ],
   "source": [
    "sinkhole_df = nat_disasters_df[\n",
    "            ['OwnerState','DistancetoSinkhole']\n",
    "]\n",
    "sinkhole_df.head()"
   ]
  },
  {
   "cell_type": "code",
   "execution_count": 7,
   "metadata": {},
   "outputs": [
    {
     "data": {
      "text/html": [
       "<div>\n",
       "<style scoped>\n",
       "    .dataframe tbody tr th:only-of-type {\n",
       "        vertical-align: middle;\n",
       "    }\n",
       "\n",
       "    .dataframe tbody tr th {\n",
       "        vertical-align: top;\n",
       "    }\n",
       "\n",
       "    .dataframe thead th {\n",
       "        text-align: right;\n",
       "    }\n",
       "</style>\n",
       "<table border=\"1\" class=\"dataframe\">\n",
       "  <thead>\n",
       "    <tr style=\"text-align: right;\">\n",
       "      <th></th>\n",
       "      <th>DistancetoSinkhole</th>\n",
       "    </tr>\n",
       "  </thead>\n",
       "  <tbody>\n",
       "    <tr>\n",
       "      <th>count</th>\n",
       "      <td>227.000000</td>\n",
       "    </tr>\n",
       "    <tr>\n",
       "      <th>mean</th>\n",
       "      <td>9.506432</td>\n",
       "    </tr>\n",
       "    <tr>\n",
       "      <th>std</th>\n",
       "      <td>9.771763</td>\n",
       "    </tr>\n",
       "    <tr>\n",
       "      <th>min</th>\n",
       "      <td>0.110000</td>\n",
       "    </tr>\n",
       "    <tr>\n",
       "      <th>25%</th>\n",
       "      <td>1.840000</td>\n",
       "    </tr>\n",
       "    <tr>\n",
       "      <th>50%</th>\n",
       "      <td>5.920000</td>\n",
       "    </tr>\n",
       "    <tr>\n",
       "      <th>75%</th>\n",
       "      <td>14.635000</td>\n",
       "    </tr>\n",
       "    <tr>\n",
       "      <th>max</th>\n",
       "      <td>56.120000</td>\n",
       "    </tr>\n",
       "  </tbody>\n",
       "</table>\n",
       "</div>"
      ],
      "text/plain": [
       "       DistancetoSinkhole\n",
       "count          227.000000\n",
       "mean             9.506432\n",
       "std              9.771763\n",
       "min              0.110000\n",
       "25%              1.840000\n",
       "50%              5.920000\n",
       "75%             14.635000\n",
       "max             56.120000"
      ]
     },
     "execution_count": 7,
     "metadata": {},
     "output_type": "execute_result"
    }
   ],
   "source": [
    "sinkhole_df.describe()"
   ]
  },
  {
   "cell_type": "code",
   "execution_count": 8,
   "metadata": {},
   "outputs": [
    {
     "name": "stdout",
     "output_type": "stream",
     "text": [
      "The lower quartile of the distance to sinkhole is: 1.44\n",
      "The upper quartile of the distance to sinkhole is: 14.09\n",
      "The interquartile range of the distance to sinkhole is: 12.65\n",
      "The median of the distance to sinkhole is: 5.11 \n",
      "Values below -17.54 could be outliers.\n",
      "Values above 33.06 could be outliers.\n"
     ]
    }
   ],
   "source": [
    "nc_sinkhole_df = sinkhole_df.loc[(sinkhole_df[\"OwnerState\"] == \"NC\"), :]\n",
    "nc_sinkhole_df\n",
    "quartiles = nc_sinkhole_df['DistancetoSinkhole'].quantile([.25,.5,.75])\n",
    "lowerq = quartiles[.25]\n",
    "upperq = quartiles[.75]\n",
    "iqr = upperq-lowerq\n",
    "\n",
    "print(f\"The lower quartile of the distance to sinkhole is: {round(lowerq,2)}\")\n",
    "print(f\"The upper quartile of the distance to sinkhole is: {round(upperq,2)}\")\n",
    "print(f\"The interquartile range of the distance to sinkhole is: {round(iqr,2)}\")\n",
    "print(f\"The median of the distance to sinkhole is: {quartiles[0.5]} \")\n",
    "\n",
    "lower_bound = lowerq - (1.5*iqr)\n",
    "upper_bound = upperq + (1.5*iqr)\n",
    "print(f\"Values below {round(lower_bound,2)} could be outliers.\")\n",
    "print(f\"Values above {round(upper_bound,2)} could be outliers.\")"
   ]
  },
  {
   "cell_type": "code",
   "execution_count": 12,
   "metadata": {},
   "outputs": [
    {
     "name": "stdout",
     "output_type": "stream",
     "text": [
      "The lower quartile of the distance to sinkhole is: 1.88\n",
      "The upper quartile of the distance to sinkhole is: 13.46\n",
      "The interquartile range of the distance to sinkhole is: 11.58\n",
      "The median of the distance to sinkhole is: 5.55 \n",
      "Values below -15.49 could be outliers.\n",
      "Values above 30.83 could be outliers.\n"
     ]
    }
   ],
   "source": [
    "sc_sinkhole_df = sinkhole_df.loc[(sinkhole_df[\"OwnerState\"] == \"SC\"), :]\n",
    "sc_sinkhole_df\n",
    "quartiles = sc_sinkhole_df['DistancetoSinkhole'].quantile([.25,.5,.75])\n",
    "lowerq = quartiles[.25]\n",
    "upperq = quartiles[.75]\n",
    "iqr = upperq-lowerq\n",
    "\n",
    "print(f\"The lower quartile of the distance to sinkhole is: {round(lowerq,2)}\")\n",
    "print(f\"The upper quartile of the distance to sinkhole is: {round(upperq,2)}\")\n",
    "print(f\"The interquartile range of the distance to sinkhole is: {round(iqr,2)}\")\n",
    "print(f\"The median of the distance to sinkhole is: {quartiles[0.5]} \")\n",
    "\n",
    "lower_bound = lowerq - (1.5*iqr)\n",
    "upper_bound = upperq + (1.5*iqr)\n",
    "print(f\"Values below {round(lower_bound,2)} could be outliers.\")\n",
    "print(f\"Values above {round(upper_bound,2)} could be outliers.\")"
   ]
  },
  {
   "cell_type": "code",
   "execution_count": 9,
   "metadata": {},
   "outputs": [
    {
     "name": "stdout",
     "output_type": "stream",
     "text": [
      "The lower quartile of the distance to sinkhole is: 2.25\n",
      "The upper quartile of the distance to sinkhole is: 16.9\n",
      "The interquartile range of the distance to sinkhole is: 14.65\n",
      "The median of the distance to sinkhole is: 6.66 \n",
      "Values below -19.72 could be outliers.\n",
      "Values above 38.88 could be outliers.\n"
     ]
    }
   ],
   "source": [
    "va_sinkhole_df = sinkhole_df.loc[(sinkhole_df[\"OwnerState\"] == \"VA\"), :]\n",
    "va_sinkhole_df\n",
    "quartiles = va_sinkhole_df['DistancetoSinkhole'].quantile([.25,.5,.75])\n",
    "lowerq = quartiles[.25]\n",
    "upperq = quartiles[.75]\n",
    "iqr = upperq-lowerq\n",
    "\n",
    "print(f\"The lower quartile of the distance to sinkhole is: {round(lowerq,2)}\")\n",
    "print(f\"The upper quartile of the distance to sinkhole is: {round(upperq,2)}\")\n",
    "print(f\"The interquartile range of the distance to sinkhole is: {round(iqr,2)}\")\n",
    "print(f\"The median of the distance to sinkhole is: {quartiles[0.5]} \")\n",
    "\n",
    "lower_bound = lowerq - (1.5*iqr)\n",
    "upper_bound = upperq + (1.5*iqr)\n",
    "print(f\"Values below {round(lower_bound,2)} could be outliers.\")\n",
    "print(f\"Values above {round(upper_bound,2)} could be outliers.\")"
   ]
  },
  {
   "cell_type": "code",
   "execution_count": 62,
   "metadata": {},
   "outputs": [
    {
     "data": {
      "image/png": "[encoded data removed]",
      "text/plain": [
       "<Figure size 432x288 with 1 Axes>"
      ]
     },
     "metadata": {
      "needs_background": "light"
     },
     "output_type": "display_data"
    }
   ],
   "source": [
    "sns.boxplot(x='OwnerState', y='DistancetoSinkhole', data=sinkhole_df)\n",
    "plt.xlabel('State')\n",
    "plt.ylabel(\"Distance\")\n",
    "plt.title('Distance to Sinkhole')\n",
    "\n",
    "plt.savefig(\"Images/SinkholeComparison.png\")\n",
    "plt.show()"
   ]
  },
  {
   "cell_type": "code",
   "execution_count": 15,
   "metadata": {},
   "outputs": [
    {
     "data": {
      "text/html": [
       "<div>\n",
       "<style scoped>\n",
       "    .dataframe tbody tr th:only-of-type {\n",
       "        vertical-align: middle;\n",
       "    }\n",
       "\n",
       "    .dataframe tbody tr th {\n",
       "        vertical-align: top;\n",
       "    }\n",
       "\n",
       "    .dataframe thead th {\n",
       "        text-align: right;\n",
       "    }\n",
       "</style>\n",
       "<table border=\"1\" class=\"dataframe\">\n",
       "  <thead>\n",
       "    <tr style=\"text-align: right;\">\n",
       "      <th></th>\n",
       "      <th>LocationWindSpeed</th>\n",
       "    </tr>\n",
       "  </thead>\n",
       "  <tbody>\n",
       "    <tr>\n",
       "      <th>count</th>\n",
       "      <td>227.000000</td>\n",
       "    </tr>\n",
       "    <tr>\n",
       "      <th>mean</th>\n",
       "      <td>129.312775</td>\n",
       "    </tr>\n",
       "    <tr>\n",
       "      <th>std</th>\n",
       "      <td>10.313835</td>\n",
       "    </tr>\n",
       "    <tr>\n",
       "      <th>min</th>\n",
       "      <td>100.000000</td>\n",
       "    </tr>\n",
       "    <tr>\n",
       "      <th>25%</th>\n",
       "      <td>120.000000</td>\n",
       "    </tr>\n",
       "    <tr>\n",
       "      <th>50%</th>\n",
       "      <td>130.000000</td>\n",
       "    </tr>\n",
       "    <tr>\n",
       "      <th>75%</th>\n",
       "      <td>140.000000</td>\n",
       "    </tr>\n",
       "    <tr>\n",
       "      <th>max</th>\n",
       "      <td>150.000000</td>\n",
       "    </tr>\n",
       "  </tbody>\n",
       "</table>\n",
       "</div>"
      ],
      "text/plain": [
       "       LocationWindSpeed\n",
       "count         227.000000\n",
       "mean          129.312775\n",
       "std            10.313835\n",
       "min           100.000000\n",
       "25%           120.000000\n",
       "50%           130.000000\n",
       "75%           140.000000\n",
       "max           150.000000"
      ]
     },
     "execution_count": 15,
     "metadata": {},
     "output_type": "execute_result"
    }
   ],
   "source": [
    "windspeed_df = nat_disasters_df[\n",
    "            ['OwnerState','LocationWindSpeed']\n",
    "]\n",
    "windspeed_df.describe()"
   ]
  },
  {
   "cell_type": "code",
   "execution_count": 19,
   "metadata": {},
   "outputs": [
    {
     "data": {
      "text/html": [
       "<div>\n",
       "<style scoped>\n",
       "    .dataframe tbody tr th:only-of-type {\n",
       "        vertical-align: middle;\n",
       "    }\n",
       "\n",
       "    .dataframe tbody tr th {\n",
       "        vertical-align: top;\n",
       "    }\n",
       "\n",
       "    .dataframe thead th {\n",
       "        text-align: right;\n",
       "    }\n",
       "</style>\n",
       "<table border=\"1\" class=\"dataframe\">\n",
       "  <thead>\n",
       "    <tr style=\"text-align: right;\">\n",
       "      <th></th>\n",
       "      <th>OwnerState</th>\n",
       "      <th>LocationWindSpeed</th>\n",
       "    </tr>\n",
       "  </thead>\n",
       "  <tbody>\n",
       "    <tr>\n",
       "      <th>1</th>\n",
       "      <td>VA</td>\n",
       "      <td>140.0</td>\n",
       "    </tr>\n",
       "    <tr>\n",
       "      <th>2</th>\n",
       "      <td>VA</td>\n",
       "      <td>130.0</td>\n",
       "    </tr>\n",
       "    <tr>\n",
       "      <th>3</th>\n",
       "      <td>VA</td>\n",
       "      <td>123.0</td>\n",
       "    </tr>\n",
       "    <tr>\n",
       "      <th>5</th>\n",
       "      <td>VA</td>\n",
       "      <td>123.0</td>\n",
       "    </tr>\n",
       "    <tr>\n",
       "      <th>6</th>\n",
       "      <td>VA</td>\n",
       "      <td>123.0</td>\n",
       "    </tr>\n",
       "  </tbody>\n",
       "</table>\n",
       "</div>"
      ],
      "text/plain": [
       "  OwnerState  LocationWindSpeed\n",
       "1         VA              140.0\n",
       "2         VA              130.0\n",
       "3         VA              123.0\n",
       "5         VA              123.0\n",
       "6         VA              123.0"
      ]
     },
     "execution_count": 19,
     "metadata": {},
     "output_type": "execute_result"
    }
   ],
   "source": [
    "nc_windspeed_df = windspeed_df.loc[windspeed_df[\"OwnerState\"] == \"NC\", :]\n",
    "nc_windspeed_df.head()\n",
    "\n",
    "sc_windspeed_df = windspeed_df.loc[windspeed_df[\"OwnerState\"] == \"SC\", :]\n",
    "sc_windspeed_df.head()\n",
    "\n",
    "va_windspeed_df = windspeed_df.loc[windspeed_df[\"OwnerState\"] == \"VA\", :]\n",
    "va_windspeed_df.head()"
   ]
  },
  {
   "cell_type": "code",
   "execution_count": 63,
   "metadata": {},
   "outputs": [
    {
     "data": {
      "image/png": "[encoded data removed]",
      "text/plain": [
       "<Figure size 432x288 with 1 Axes>"
      ]
     },
     "metadata": {
      "needs_background": "light"
     },
     "output_type": "display_data"
    },
    {
     "data": {
      "image/png": "[encoded data removed]",
      "text/plain": [
       "<Figure size 432x288 with 1 Axes>"
      ]
     },
     "metadata": {
      "needs_background": "light"
     },
     "output_type": "display_data"
    },
    {
     "data": {
      "image/png": "[encoded data removed]",
      "text/plain": [
       "<Figure size 432x288 with 1 Axes>"
      ]
     },
     "metadata": {
      "needs_background": "light"
     },
     "output_type": "display_data"
    }
   ],
   "source": [
    "nc_windspeed_count = nc_windspeed_df.groupby(['LocationWindSpeed']).count()\n",
    "\n",
    "plot_windspeed_count = nc_windspeed_count.plot.bar(color='blue', alpha=0.5, align=\"center\")\n",
    "plt.xlabel('Windspeed')\n",
    "plt.ylabel('Windspeed Count')\n",
    "plt.title('NC Windspeed')\n",
    "\n",
    "plt.savefig(\"Images/NC Windspeed.png\")\n",
    "plt.show()\n",
    "\n",
    "sc_windspeed_count = sc_windspeed_df.groupby(['LocationWindSpeed']).count()\n",
    "\n",
    "sc_plot_windspeed_count = sc_windspeed_count.plot.bar(color='red', alpha=0.8, align=\"center\")\n",
    "plt.xlabel('Windspeed')\n",
    "plt.ylabel('Windspeed Count')\n",
    "plt.title('SC Windspeed')\n",
    "\n",
    "plt.savefig(\"Images/SC Windspeed.png\")\n",
    "plt.show()\n",
    "\n",
    "\n",
    "va_windspeed_count = va_windspeed_df.groupby(['LocationWindSpeed']).count()\n",
    "\n",
    "va_plot_windspeed_count = va_windspeed_count.plot.bar(color='orange', alpha=0.7, align=\"center\")\n",
    "plt.xlabel('Windspeed')\n",
    "plt.ylabel('Windspeed Count')\n",
    "plt.title('VA Windspeed')\n",
    "\n",
    "plt.savefig(\"Images/VA Windspeed.png\")\n",
    "plt.show()"
   ]
  },
  {
   "cell_type": "code",
   "execution_count": 18,
   "metadata": {},
   "outputs": [
    {
     "data": {
      "text/html": [
       "<div>\n",
       "<style scoped>\n",
       "    .dataframe tbody tr th:only-of-type {\n",
       "        vertical-align: middle;\n",
       "    }\n",
       "\n",
       "    .dataframe tbody tr th {\n",
       "        vertical-align: top;\n",
       "    }\n",
       "\n",
       "    .dataframe thead th {\n",
       "        text-align: right;\n",
       "    }\n",
       "</style>\n",
       "<table border=\"1\" class=\"dataframe\">\n",
       "  <thead>\n",
       "    <tr style=\"text-align: right;\">\n",
       "      <th></th>\n",
       "      <th>OwnerState</th>\n",
       "      <th>WindborneDebrisRegion</th>\n",
       "    </tr>\n",
       "  </thead>\n",
       "  <tbody>\n",
       "    <tr>\n",
       "      <th>0</th>\n",
       "      <td>NC</td>\n",
       "      <td>True</td>\n",
       "    </tr>\n",
       "    <tr>\n",
       "      <th>1</th>\n",
       "      <td>VA</td>\n",
       "      <td>True</td>\n",
       "    </tr>\n",
       "    <tr>\n",
       "      <th>2</th>\n",
       "      <td>VA</td>\n",
       "      <td>True</td>\n",
       "    </tr>\n",
       "    <tr>\n",
       "      <th>3</th>\n",
       "      <td>VA</td>\n",
       "      <td>True</td>\n",
       "    </tr>\n",
       "    <tr>\n",
       "      <th>4</th>\n",
       "      <td>SC</td>\n",
       "      <td>True</td>\n",
       "    </tr>\n",
       "  </tbody>\n",
       "</table>\n",
       "</div>"
      ],
      "text/plain": [
       "  OwnerState WindborneDebrisRegion\n",
       "0         NC                  True\n",
       "1         VA                  True\n",
       "2         VA                  True\n",
       "3         VA                  True\n",
       "4         SC                  True"
      ]
     },
     "execution_count": 18,
     "metadata": {},
     "output_type": "execute_result"
    }
   ],
   "source": [
    "windborne_debris_df = nat_disasters_df[\n",
    "            ['OwnerState', 'WindborneDebrisRegion']\n",
    "]\n",
    "windborne_debris_df.head()"
   ]
  },
  {
   "cell_type": "code",
   "execution_count": 21,
   "metadata": {},
   "outputs": [
    {
     "data": {
      "text/html": [
       "<div>\n",
       "<style scoped>\n",
       "    .dataframe tbody tr th:only-of-type {\n",
       "        vertical-align: middle;\n",
       "    }\n",
       "\n",
       "    .dataframe tbody tr th {\n",
       "        vertical-align: top;\n",
       "    }\n",
       "\n",
       "    .dataframe thead th {\n",
       "        text-align: right;\n",
       "    }\n",
       "</style>\n",
       "<table border=\"1\" class=\"dataframe\">\n",
       "  <thead>\n",
       "    <tr style=\"text-align: right;\">\n",
       "      <th></th>\n",
       "      <th>OwnerState</th>\n",
       "      <th>WindborneDebrisRegion</th>\n",
       "    </tr>\n",
       "  </thead>\n",
       "  <tbody>\n",
       "    <tr>\n",
       "      <th>1</th>\n",
       "      <td>VA</td>\n",
       "      <td>True</td>\n",
       "    </tr>\n",
       "    <tr>\n",
       "      <th>2</th>\n",
       "      <td>VA</td>\n",
       "      <td>True</td>\n",
       "    </tr>\n",
       "    <tr>\n",
       "      <th>3</th>\n",
       "      <td>VA</td>\n",
       "      <td>True</td>\n",
       "    </tr>\n",
       "    <tr>\n",
       "      <th>5</th>\n",
       "      <td>VA</td>\n",
       "      <td>True</td>\n",
       "    </tr>\n",
       "    <tr>\n",
       "      <th>6</th>\n",
       "      <td>VA</td>\n",
       "      <td>True</td>\n",
       "    </tr>\n",
       "  </tbody>\n",
       "</table>\n",
       "</div>"
      ],
      "text/plain": [
       "  OwnerState WindborneDebrisRegion\n",
       "1         VA                  True\n",
       "2         VA                  True\n",
       "3         VA                  True\n",
       "5         VA                  True\n",
       "6         VA                  True"
      ]
     },
     "execution_count": 21,
     "metadata": {},
     "output_type": "execute_result"
    }
   ],
   "source": [
    "nc_windborne_debris_df = windborne_debris_df.loc[(windborne_debris_df[\"OwnerState\"] == \"NC\"), :]\n",
    "nc_windborne_debris_df.head()\n",
    "\n",
    "sc_windborne_debris_df = windborne_debris_df.loc[(windborne_debris_df[\"OwnerState\"] == \"SC\"), :]\n",
    "sc_windborne_debris_df.head()\n",
    "\n",
    "va_windborne_debris_df = windborne_debris_df.loc[(windborne_debris_df[\"OwnerState\"] == \"VA\"), :]\n",
    "va_windborne_debris_df.head()"
   ]
  },
  {
   "cell_type": "code",
   "execution_count": 22,
   "metadata": {},
   "outputs": [
    {
     "data": {
      "text/plain": [
       "WindborneDebrisRegion\n",
       "True     110\n",
       "False      3\n",
       "dtype: int64"
      ]
     },
     "execution_count": 22,
     "metadata": {},
     "output_type": "execute_result"
    }
   ],
   "source": [
    "nc_windborne_count = nc_windborne_debris_df.value_counts('WindborneDebrisRegion')\n",
    "nc_windborne_count\n",
    "\n",
    "sc_windborne_count = sc_windborne_debris_df.value_counts('WindborneDebrisRegion')\n",
    "sc_windborne_count\n",
    "\n",
    "va_windborne_count = va_windborne_debris_df.value_counts('WindborneDebrisRegion')\n",
    "va_windborne_count"
   ]
  },
  {
   "cell_type": "code",
   "execution_count": 71,
   "metadata": {},
   "outputs": [
    {
     "data": {
      "image/png": "[encoded data removed]",
      "text/plain": [
       "<Figure size 432x288 with 1 Axes>"
      ]
     },
     "metadata": {},
     "output_type": "display_data"
    },
    {
     "data": {
      "image/png": "[encoded data removed]",
      "text/plain": [
       "<Figure size 432x288 with 1 Axes>"
      ]
     },
     "metadata": {},
     "output_type": "display_data"
    },
    {
     "data": {
      "image/png": "[encoded data removed]",
      "text/plain": [
       "<Figure size 432x288 with 1 Axes>"
      ]
     },
     "metadata": {},
     "output_type": "display_data"
    }
   ],
   "source": [
    "nc_colors = ['Blue', 'White']\n",
    "nc_windborne_count.plot.pie(shadow=True, autopct = \"%1.1f%%\", colors = nc_colors)\n",
    "\n",
    "plt.title('NC Windborne Debris')\n",
    "plt.ylabel('State')\n",
    "plt.savefig(\"Images/nc_windborne.png\")\n",
    "plt.show()\n",
    "\n",
    "sc_colors = ['Red', 'Gray']\n",
    "sc_windborne_count.plot.pie(shadow=True, autopct = \"%1.1f%%\", colors = sc_colors)\n",
    "\n",
    "plt.title('SC Windborne Debris')\n",
    "plt.ylabel('State')\n",
    "plt.savefig(\"Images/sc_windborne.png\")\n",
    "plt.show()\n",
    "\n",
    "va_colors = ['Orange', 'Blue']\n",
    "va_windborne_count.plot.pie(shadow=True, autopct = \"%1.1f%%\", colors = va_colors)\n",
    " \n",
    "plt.title('VA Windborne Debris')\n",
    "plt.ylabel('State')\n",
    "plt.savefig(\"Images/va_windborne.png\")\n",
    "plt.show()"
   ]
  },
  {
   "cell_type": "code",
   "execution_count": 24,
   "metadata": {},
   "outputs": [
    {
     "data": {
      "text/html": [
       "<div>\n",
       "<style scoped>\n",
       "    .dataframe tbody tr th:only-of-type {\n",
       "        vertical-align: middle;\n",
       "    }\n",
       "\n",
       "    .dataframe tbody tr th {\n",
       "        vertical-align: top;\n",
       "    }\n",
       "\n",
       "    .dataframe thead th {\n",
       "        text-align: right;\n",
       "    }\n",
       "</style>\n",
       "<table border=\"1\" class=\"dataframe\">\n",
       "  <thead>\n",
       "    <tr style=\"text-align: right;\">\n",
       "      <th></th>\n",
       "      <th>OwnerState</th>\n",
       "      <th>Terrain</th>\n",
       "    </tr>\n",
       "  </thead>\n",
       "  <tbody>\n",
       "    <tr>\n",
       "      <th>0</th>\n",
       "      <td>NC</td>\n",
       "      <td>B</td>\n",
       "    </tr>\n",
       "    <tr>\n",
       "      <th>1</th>\n",
       "      <td>VA</td>\n",
       "      <td>HVHZ</td>\n",
       "    </tr>\n",
       "    <tr>\n",
       "      <th>2</th>\n",
       "      <td>VA</td>\n",
       "      <td>C</td>\n",
       "    </tr>\n",
       "    <tr>\n",
       "      <th>3</th>\n",
       "      <td>VA</td>\n",
       "      <td>C</td>\n",
       "    </tr>\n",
       "    <tr>\n",
       "      <th>4</th>\n",
       "      <td>SC</td>\n",
       "      <td>C</td>\n",
       "    </tr>\n",
       "  </tbody>\n",
       "</table>\n",
       "</div>"
      ],
      "text/plain": [
       "  OwnerState Terrain\n",
       "0         NC    B   \n",
       "1         VA    HVHZ\n",
       "2         VA    C   \n",
       "3         VA    C   \n",
       "4         SC    C   "
      ]
     },
     "execution_count": 24,
     "metadata": {},
     "output_type": "execute_result"
    }
   ],
   "source": [
    "terrian_df = nat_disasters_df[['OwnerState','Terrain']]\n",
    "terrian_df.head()"
   ]
  },
  {
   "cell_type": "code",
   "execution_count": 25,
   "metadata": {},
   "outputs": [
    {
     "data": {
      "text/html": [
       "<div>\n",
       "<style scoped>\n",
       "    .dataframe tbody tr th:only-of-type {\n",
       "        vertical-align: middle;\n",
       "    }\n",
       "\n",
       "    .dataframe tbody tr th {\n",
       "        vertical-align: top;\n",
       "    }\n",
       "\n",
       "    .dataframe thead th {\n",
       "        text-align: right;\n",
       "    }\n",
       "</style>\n",
       "<table border=\"1\" class=\"dataframe\">\n",
       "  <thead>\n",
       "    <tr style=\"text-align: right;\">\n",
       "      <th></th>\n",
       "      <th>OwnerState</th>\n",
       "      <th>Terrain</th>\n",
       "    </tr>\n",
       "  </thead>\n",
       "  <tbody>\n",
       "    <tr>\n",
       "      <th>1</th>\n",
       "      <td>VA</td>\n",
       "      <td>HVHZ</td>\n",
       "    </tr>\n",
       "    <tr>\n",
       "      <th>2</th>\n",
       "      <td>VA</td>\n",
       "      <td>C</td>\n",
       "    </tr>\n",
       "    <tr>\n",
       "      <th>3</th>\n",
       "      <td>VA</td>\n",
       "      <td>C</td>\n",
       "    </tr>\n",
       "    <tr>\n",
       "      <th>5</th>\n",
       "      <td>VA</td>\n",
       "      <td>C</td>\n",
       "    </tr>\n",
       "    <tr>\n",
       "      <th>6</th>\n",
       "      <td>VA</td>\n",
       "      <td>C</td>\n",
       "    </tr>\n",
       "  </tbody>\n",
       "</table>\n",
       "</div>"
      ],
      "text/plain": [
       "  OwnerState Terrain\n",
       "1         VA    HVHZ\n",
       "2         VA    C   \n",
       "3         VA    C   \n",
       "5         VA    C   \n",
       "6         VA    C   "
      ]
     },
     "execution_count": 25,
     "metadata": {},
     "output_type": "execute_result"
    }
   ],
   "source": [
    "nc_terrain_df = terrian_df.loc[(terrian_df[\"OwnerState\"] == \"NC\"), :]\n",
    "nc_terrain_df.head()\n",
    "\n",
    "sc_terrain_df = terrian_df.loc[(terrian_df[\"OwnerState\"] == \"SC\"), :]\n",
    "sc_terrain_df.head()\n",
    "\n",
    "va_terrain_df = terrian_df.loc[(terrian_df[\"OwnerState\"] == \"VA\"), :]\n",
    "va_terrain_df.head()"
   ]
  },
  {
   "cell_type": "code",
   "execution_count": 26,
   "metadata": {},
   "outputs": [
    {
     "data": {
      "text/plain": [
       "Terrain\n",
       "B       56\n",
       "C       43\n",
       "HVHZ    14\n",
       "dtype: int64"
      ]
     },
     "execution_count": 26,
     "metadata": {},
     "output_type": "execute_result"
    }
   ],
   "source": [
    "nc_terrain_count = nc_terrain_df.value_counts('Terrain')\n",
    "nc_terrain_count\n",
    "\n",
    "sc_terrain_count = sc_terrain_df.value_counts('Terrain')\n",
    "sc_terrain_count\n",
    "\n",
    "va_terrain_count = va_terrain_df.value_counts('Terrain')\n",
    "va_terrain_count"
   ]
  },
  {
   "cell_type": "code",
   "execution_count": 53,
   "metadata": {},
   "outputs": [
    {
     "data": {
      "image/png": "[encoded data removed]",
      "text/plain": [
       "<Figure size 432x288 with 1 Axes>"
      ]
     },
     "metadata": {},
     "output_type": "display_data"
    },
    {
     "data": {
      "image/png": "[encoded data removed]",
      "text/plain": [
       "<Figure size 432x288 with 1 Axes>"
      ]
     },
     "metadata": {},
     "output_type": "display_data"
    },
    {
     "data": {
      "image/png": "[encoded data removed]",
      "text/plain": [
       "<Figure size 432x288 with 1 Axes>"
      ]
     },
     "metadata": {},
     "output_type": "display_data"
    }
   ],
   "source": [
    "nc_colors = ['Blue', 'White', \"Yellow\"]\n",
    "nc_terrain_count.plot.pie(shadow=True, autopct = \"%1.1f%%\", colors = nc_colors)\n",
    "\n",
    "plt.title('NC Terrain')\n",
    "plt.ylabel('Terrain')\n",
    "plt.savefig(\"Images/nc_terrain.png\")\n",
    "plt.show()\n",
    "\n",
    "sc_colors = ['Red', 'Gray', 'Blue']\n",
    "sc_terrain_count.plot.pie(shadow=True, autopct = \"%1.1f%%\", colors = sc_colors)\n",
    "\n",
    "plt.title('SC Terrain')\n",
    "plt.ylabel('Terrain')\n",
    "plt.savefig(\"Images/sc_terrain.png\")\n",
    "plt.show()\n",
    "             \n",
    "va_colors = ['Orange', 'Blue', 'Green']\n",
    "va_terrain_count.plot.pie(shadow=True, autopct = \"%1.1f%%\", colors = va_colors)\n",
    "\n",
    "plt.title('VA Terrain')\n",
    "plt.ylabel('Terrain')\n",
    "plt.savefig(\"Images/va_terrain.png\")\n",
    "plt.show()"
   ]
  },
  {
   "cell_type": "code",
   "execution_count": null,
   "metadata": {},
   "outputs": [],
   "source": []
  }
 ],
 "metadata": {
  "kernelspec": {
   "display_name": "Python [conda env:PythonData] *",
   "language": "python",
   "name": "conda-env-PythonData-py"
  },
  "language_info": {
   "codemirror_mode": {
    "name": "ipython",
    "version": 3
   },
   "file_extension": ".py",
   "mimetype": "text/x-python",
   "name": "python",
   "nbconvert_exporter": "python",
   "pygments_lexer": "ipython3",
   "version": "3.6.10"
  }
 },
 "nbformat": 4,
 "nbformat_minor": 4
}
