{
 "cells": [
  {
   "cell_type": "code",
   "execution_count": 2,
   "metadata": {},
   "outputs": [],
   "source": [
    "import pandas as pd\n",
    "import matplotlib.pyplot as plt\n",
    "import numpy as np\n",
    "import scipy.stats as sts\n",
    "from scipy.stats import linregress, pearsonr"
   ]
  },
  {
   "cell_type": "code",
   "execution_count": 3,
   "metadata": {},
   "outputs": [
    {
     "data": {
      "text/html": [
       "<div>\n",
       "<style scoped>\n",
       "    .dataframe tbody tr th:only-of-type {\n",
       "        vertical-align: middle;\n",
       "    }\n",
       "\n",
       "    .dataframe tbody tr th {\n",
       "        vertical-align: top;\n",
       "    }\n",
       "\n",
       "    .dataframe thead th {\n",
       "        text-align: right;\n",
       "    }\n",
       "</style>\n",
       "<table border=\"1\" class=\"dataframe\">\n",
       "  <thead>\n",
       "    <tr style=\"text-align: right;\">\n",
       "      <th></th>\n",
       "      <th>Id</th>\n",
       "      <th>OwnerCity</th>\n",
       "      <th>OwnerState</th>\n",
       "      <th>PropertyLocationStreet1</th>\n",
       "      <th>PropertyCity</th>\n",
       "      <th>PropertyZip</th>\n",
       "      <th>StateParcelId</th>\n",
       "      <th>ParcelSize</th>\n",
       "      <th>ValueofHome</th>\n",
       "      <th>YearBuilt</th>\n",
       "      <th>...</th>\n",
       "      <th>FireID</th>\n",
       "      <th>DistancetoFireDepartment</th>\n",
       "      <th>DistancetoSinkhole</th>\n",
       "      <th>SinkholeLatitude</th>\n",
       "      <th>SinkholeLongitude</th>\n",
       "      <th>LocationWindSpeed</th>\n",
       "      <th>WindborneDebrisRegion</th>\n",
       "      <th>Terrain</th>\n",
       "      <th>FloodZone</th>\n",
       "      <th>FloodZoneRiskLevel</th>\n",
       "    </tr>\n",
       "  </thead>\n",
       "  <tbody>\n",
       "    <tr>\n",
       "      <th>0</th>\n",
       "      <td>12009f31026acc440</td>\n",
       "      <td>PINEHURST</td>\n",
       "      <td>NC</td>\n",
       "      <td>5833 NEWBURY CIR</td>\n",
       "      <td>MELBOURNE</td>\n",
       "      <td>32940</td>\n",
       "      <td>C15-000-035-4368-3</td>\n",
       "      <td>10890.0</td>\n",
       "      <td>360350.0</td>\n",
       "      <td>2001.0</td>\n",
       "      <td>...</td>\n",
       "      <td>NaN</td>\n",
       "      <td>1.67</td>\n",
       "      <td>19.32</td>\n",
       "      <td>28.46383</td>\n",
       "      <td>-80.79177</td>\n",
       "      <td>120.0</td>\n",
       "      <td>True</td>\n",
       "      <td>B</td>\n",
       "      <td>X:100</td>\n",
       "      <td>NaN</td>\n",
       "    </tr>\n",
       "    <tr>\n",
       "      <th>1</th>\n",
       "      <td>120112bfc77a87376</td>\n",
       "      <td>STAFFORD</td>\n",
       "      <td>VA</td>\n",
       "      <td>12723 SW 49 CT</td>\n",
       "      <td>MIRAMAR</td>\n",
       "      <td>33027</td>\n",
       "      <td>C16-000-107-5040-4</td>\n",
       "      <td>2328.0</td>\n",
       "      <td>228680.0</td>\n",
       "      <td>2003.0</td>\n",
       "      <td>...</td>\n",
       "      <td>645.0</td>\n",
       "      <td>2.37</td>\n",
       "      <td>5.11</td>\n",
       "      <td>25.98582</td>\n",
       "      <td>-80.23586</td>\n",
       "      <td>140.0</td>\n",
       "      <td>True</td>\n",
       "      <td>HVHZ</td>\n",
       "      <td>X:100</td>\n",
       "      <td>NaN</td>\n",
       "    </tr>\n",
       "    <tr>\n",
       "      <th>2</th>\n",
       "      <td>12081776a04b281f4</td>\n",
       "      <td>RICHMOND</td>\n",
       "      <td>VA</td>\n",
       "      <td>6470 SEAGULL DR UNIT 307</td>\n",
       "      <td>BRADENTON</td>\n",
       "      <td>34210</td>\n",
       "      <td>C51-000-535-8660-8</td>\n",
       "      <td>44.0</td>\n",
       "      <td>135000.0</td>\n",
       "      <td>1980.0</td>\n",
       "      <td>...</td>\n",
       "      <td>NaN</td>\n",
       "      <td>0.96</td>\n",
       "      <td>1.93</td>\n",
       "      <td>27.41706</td>\n",
       "      <td>-82.56742</td>\n",
       "      <td>130.0</td>\n",
       "      <td>True</td>\n",
       "      <td>C</td>\n",
       "      <td>A:100</td>\n",
       "      <td>NaN</td>\n",
       "    </tr>\n",
       "    <tr>\n",
       "      <th>3</th>\n",
       "      <td>12103fabafeea9fb7</td>\n",
       "      <td>ARLINGTON</td>\n",
       "      <td>VA</td>\n",
       "      <td>1012 NORTH SHORE DR NE # 12</td>\n",
       "      <td>SAINT PETERSBURG</td>\n",
       "      <td>33701</td>\n",
       "      <td>C62-000-778-7949-2</td>\n",
       "      <td>NaN</td>\n",
       "      <td>87660.0</td>\n",
       "      <td>1959.0</td>\n",
       "      <td>...</td>\n",
       "      <td>855.0</td>\n",
       "      <td>1.08</td>\n",
       "      <td>1.00</td>\n",
       "      <td>27.77333</td>\n",
       "      <td>-82.64000</td>\n",
       "      <td>123.0</td>\n",
       "      <td>True</td>\n",
       "      <td>C</td>\n",
       "      <td>X500:40, A:30, X:30</td>\n",
       "      <td>NaN</td>\n",
       "    </tr>\n",
       "    <tr>\n",
       "      <th>4</th>\n",
       "      <td>120213b0f5f17e3d1</td>\n",
       "      <td>ROCK HILL</td>\n",
       "      <td>SC</td>\n",
       "      <td>5550 HERON POINT DR</td>\n",
       "      <td>NAPLES</td>\n",
       "      <td>34108</td>\n",
       "      <td>C21-000-189-4508-9</td>\n",
       "      <td>NaN</td>\n",
       "      <td>663090.0</td>\n",
       "      <td>1991.0</td>\n",
       "      <td>...</td>\n",
       "      <td>50.0</td>\n",
       "      <td>1.37</td>\n",
       "      <td>11.43</td>\n",
       "      <td>26.27444</td>\n",
       "      <td>-81.63916</td>\n",
       "      <td>131.0</td>\n",
       "      <td>True</td>\n",
       "      <td>C</td>\n",
       "      <td>A:100</td>\n",
       "      <td>NaN</td>\n",
       "    </tr>\n",
       "    <tr>\n",
       "      <th>...</th>\n",
       "      <td>...</td>\n",
       "      <td>...</td>\n",
       "      <td>...</td>\n",
       "      <td>...</td>\n",
       "      <td>...</td>\n",
       "      <td>...</td>\n",
       "      <td>...</td>\n",
       "      <td>...</td>\n",
       "      <td>...</td>\n",
       "      <td>...</td>\n",
       "      <td>...</td>\n",
       "      <td>...</td>\n",
       "      <td>...</td>\n",
       "      <td>...</td>\n",
       "      <td>...</td>\n",
       "      <td>...</td>\n",
       "      <td>...</td>\n",
       "      <td>...</td>\n",
       "      <td>...</td>\n",
       "      <td>...</td>\n",
       "      <td>...</td>\n",
       "    </tr>\n",
       "    <tr>\n",
       "      <th>223</th>\n",
       "      <td>12086e1ddd12521cd</td>\n",
       "      <td>BLUFFTON</td>\n",
       "      <td>SC</td>\n",
       "      <td>5765 NW 99 CT</td>\n",
       "      <td>DORAL</td>\n",
       "      <td>33178</td>\n",
       "      <td>C23-000-278-7237-3</td>\n",
       "      <td>3473.0</td>\n",
       "      <td>329160.0</td>\n",
       "      <td>1993.0</td>\n",
       "      <td>...</td>\n",
       "      <td>NaN</td>\n",
       "      <td>0.27</td>\n",
       "      <td>13.46</td>\n",
       "      <td>25.98582</td>\n",
       "      <td>-80.23586</td>\n",
       "      <td>146.0</td>\n",
       "      <td>True</td>\n",
       "      <td>HVHZ</td>\n",
       "      <td>X:100</td>\n",
       "      <td>NaN</td>\n",
       "    </tr>\n",
       "    <tr>\n",
       "      <th>224</th>\n",
       "      <td>120861813f1294d56</td>\n",
       "      <td>RICHMOND</td>\n",
       "      <td>VA</td>\n",
       "      <td>7805 NOREMAC AVE</td>\n",
       "      <td>MIAMI BEACH</td>\n",
       "      <td>33141</td>\n",
       "      <td>C23-000-207-1780-7</td>\n",
       "      <td>9000.0</td>\n",
       "      <td>924061.0</td>\n",
       "      <td>1941.0</td>\n",
       "      <td>...</td>\n",
       "      <td>627.0</td>\n",
       "      <td>0.71</td>\n",
       "      <td>7.25</td>\n",
       "      <td>25.96256</td>\n",
       "      <td>-80.16641</td>\n",
       "      <td>146.0</td>\n",
       "      <td>True</td>\n",
       "      <td>HVHZ</td>\n",
       "      <td>A:100</td>\n",
       "      <td>NaN</td>\n",
       "    </tr>\n",
       "    <tr>\n",
       "      <th>225</th>\n",
       "      <td>12089ed366ee68b8e</td>\n",
       "      <td>MARS HILL</td>\n",
       "      <td>NC</td>\n",
       "      <td>246 S FLETCHER AVE</td>\n",
       "      <td>FERNANDINA BEACH</td>\n",
       "      <td>32034</td>\n",
       "      <td>C55-000-585-3872-9</td>\n",
       "      <td>6650.0</td>\n",
       "      <td>274291.0</td>\n",
       "      <td>1929.0</td>\n",
       "      <td>...</td>\n",
       "      <td>359.0</td>\n",
       "      <td>1.23</td>\n",
       "      <td>6.33</td>\n",
       "      <td>30.67020</td>\n",
       "      <td>-81.53824</td>\n",
       "      <td>120.0</td>\n",
       "      <td>True</td>\n",
       "      <td>C</td>\n",
       "      <td>X:100</td>\n",
       "      <td>NaN</td>\n",
       "    </tr>\n",
       "    <tr>\n",
       "      <th>226</th>\n",
       "      <td>1211544028709F1DD</td>\n",
       "      <td>OAKTON</td>\n",
       "      <td>VA</td>\n",
       "      <td>171 VISTA HERMOSA CIR 21-B</td>\n",
       "      <td>SARASOTA</td>\n",
       "      <td>34242</td>\n",
       "      <td>C68-000-867-0448-3</td>\n",
       "      <td>NaN</td>\n",
       "      <td>267400.0</td>\n",
       "      <td>1971.0</td>\n",
       "      <td>...</td>\n",
       "      <td>NaN</td>\n",
       "      <td>1.13</td>\n",
       "      <td>2.29</td>\n",
       "      <td>27.27514</td>\n",
       "      <td>-82.55399</td>\n",
       "      <td>130.0</td>\n",
       "      <td>True</td>\n",
       "      <td>B</td>\n",
       "      <td>A:100</td>\n",
       "      <td>NaN</td>\n",
       "    </tr>\n",
       "    <tr>\n",
       "      <th>227</th>\n",
       "      <td>1212772a5d810d464</td>\n",
       "      <td>MATTHEWS</td>\n",
       "      <td>NC</td>\n",
       "      <td>3 SUNSET BLVD</td>\n",
       "      <td>ORMOND BEACH</td>\n",
       "      <td>32176</td>\n",
       "      <td>C74-000-925-7435-9</td>\n",
       "      <td>8800.0</td>\n",
       "      <td>172189.0</td>\n",
       "      <td>1967.0</td>\n",
       "      <td>...</td>\n",
       "      <td>NaN</td>\n",
       "      <td>0.59</td>\n",
       "      <td>0.97</td>\n",
       "      <td>29.35629</td>\n",
       "      <td>-81.07076</td>\n",
       "      <td>120.0</td>\n",
       "      <td>True</td>\n",
       "      <td>C</td>\n",
       "      <td>X:100</td>\n",
       "      <td>NaN</td>\n",
       "    </tr>\n",
       "  </tbody>\n",
       "</table>\n",
       "<p>228 rows × 29 columns</p>\n",
       "</div>"
      ],
      "text/plain": [
       "                    Id  OwnerCity OwnerState      PropertyLocationStreet1  \\\n",
       "0    12009f31026acc440  PINEHURST         NC             5833 NEWBURY CIR   \n",
       "1    120112bfc77a87376   STAFFORD         VA               12723 SW 49 CT   \n",
       "2    12081776a04b281f4   RICHMOND         VA     6470 SEAGULL DR UNIT 307   \n",
       "3    12103fabafeea9fb7  ARLINGTON         VA  1012 NORTH SHORE DR NE # 12   \n",
       "4    120213b0f5f17e3d1  ROCK HILL         SC          5550 HERON POINT DR   \n",
       "..                 ...        ...        ...                          ...   \n",
       "223  12086e1ddd12521cd   BLUFFTON         SC                5765 NW 99 CT   \n",
       "224  120861813f1294d56   RICHMOND         VA             7805 NOREMAC AVE   \n",
       "225  12089ed366ee68b8e  MARS HILL         NC           246 S FLETCHER AVE   \n",
       "226  1211544028709F1DD     OAKTON         VA   171 VISTA HERMOSA CIR 21-B   \n",
       "227  1212772a5d810d464   MATTHEWS         NC                3 SUNSET BLVD   \n",
       "\n",
       "         PropertyCity  PropertyZip       StateParcelId  ParcelSize  \\\n",
       "0           MELBOURNE        32940  C15-000-035-4368-3     10890.0   \n",
       "1             MIRAMAR        33027  C16-000-107-5040-4      2328.0   \n",
       "2           BRADENTON        34210  C51-000-535-8660-8        44.0   \n",
       "3    SAINT PETERSBURG        33701  C62-000-778-7949-2         NaN   \n",
       "4              NAPLES        34108  C21-000-189-4508-9         NaN   \n",
       "..                ...          ...                 ...         ...   \n",
       "223             DORAL        33178  C23-000-278-7237-3      3473.0   \n",
       "224       MIAMI BEACH        33141  C23-000-207-1780-7      9000.0   \n",
       "225  FERNANDINA BEACH        32034  C55-000-585-3872-9      6650.0   \n",
       "226          SARASOTA        34242  C68-000-867-0448-3         NaN   \n",
       "227      ORMOND BEACH        32176  C74-000-925-7435-9      8800.0   \n",
       "\n",
       "     ValueofHome  YearBuilt  ... FireID  DistancetoFireDepartment  \\\n",
       "0       360350.0     2001.0  ...    NaN                      1.67   \n",
       "1       228680.0     2003.0  ...  645.0                      2.37   \n",
       "2       135000.0     1980.0  ...    NaN                      0.96   \n",
       "3        87660.0     1959.0  ...  855.0                      1.08   \n",
       "4       663090.0     1991.0  ...   50.0                      1.37   \n",
       "..           ...        ...  ...    ...                       ...   \n",
       "223     329160.0     1993.0  ...    NaN                      0.27   \n",
       "224     924061.0     1941.0  ...  627.0                      0.71   \n",
       "225     274291.0     1929.0  ...  359.0                      1.23   \n",
       "226     267400.0     1971.0  ...    NaN                      1.13   \n",
       "227     172189.0     1967.0  ...    NaN                      0.59   \n",
       "\n",
       "     DistancetoSinkhole SinkholeLatitude SinkholeLongitude  LocationWindSpeed  \\\n",
       "0                 19.32         28.46383         -80.79177              120.0   \n",
       "1                  5.11         25.98582         -80.23586              140.0   \n",
       "2                  1.93         27.41706         -82.56742              130.0   \n",
       "3                  1.00         27.77333         -82.64000              123.0   \n",
       "4                 11.43         26.27444         -81.63916              131.0   \n",
       "..                  ...              ...               ...                ...   \n",
       "223               13.46         25.98582         -80.23586              146.0   \n",
       "224                7.25         25.96256         -80.16641              146.0   \n",
       "225                6.33         30.67020         -81.53824              120.0   \n",
       "226                2.29         27.27514         -82.55399              130.0   \n",
       "227                0.97         29.35629         -81.07076              120.0   \n",
       "\n",
       "     WindborneDebrisRegion  Terrain            FloodZone  FloodZoneRiskLevel  \n",
       "0                     True     B                   X:100                 NaN  \n",
       "1                     True     HVHZ                X:100                 NaN  \n",
       "2                     True     C                   A:100                 NaN  \n",
       "3                     True     C     X500:40, A:30, X:30                 NaN  \n",
       "4                     True     C                   A:100                 NaN  \n",
       "..                     ...      ...                  ...                 ...  \n",
       "223                   True     HVHZ                X:100                 NaN  \n",
       "224                   True     HVHZ                A:100                 NaN  \n",
       "225                   True     C                   X:100                 NaN  \n",
       "226                   True     B                   A:100                 NaN  \n",
       "227                   True     C                   X:100                 NaN  \n",
       "\n",
       "[228 rows x 29 columns]"
      ]
     },
     "execution_count": 3,
     "metadata": {},
     "output_type": "execute_result"
    }
   ],
   "source": [
    "csv = \"clean.csv\"\n",
    "\n",
    "base_df = pd.read_csv(csv)\n",
    "base_df"
   ]
  },
  {
   "cell_type": "code",
   "execution_count": 4,
   "metadata": {},
   "outputs": [
    {
     "data": {
      "text/html": [
       "<div>\n",
       "<style scoped>\n",
       "    .dataframe tbody tr th:only-of-type {\n",
       "        vertical-align: middle;\n",
       "    }\n",
       "\n",
       "    .dataframe tbody tr th {\n",
       "        vertical-align: top;\n",
       "    }\n",
       "\n",
       "    .dataframe thead th {\n",
       "        text-align: right;\n",
       "    }\n",
       "</style>\n",
       "<table border=\"1\" class=\"dataframe\">\n",
       "  <thead>\n",
       "    <tr style=\"text-align: right;\">\n",
       "      <th></th>\n",
       "      <th>Id</th>\n",
       "      <th>ValueofHome</th>\n",
       "      <th>OwnerCity</th>\n",
       "      <th>OwnerState</th>\n",
       "      <th>PropertyLocationStreet1</th>\n",
       "      <th>PropertyCity</th>\n",
       "      <th>PropertyZip</th>\n",
       "      <th>YearBuilt</th>\n",
       "      <th>TypeOfResidence</th>\n",
       "    </tr>\n",
       "  </thead>\n",
       "  <tbody>\n",
       "    <tr>\n",
       "      <th>0</th>\n",
       "      <td>12009f31026acc440</td>\n",
       "      <td>360350.0</td>\n",
       "      <td>PINEHURST</td>\n",
       "      <td>NC</td>\n",
       "      <td>5833 NEWBURY CIR</td>\n",
       "      <td>MELBOURNE</td>\n",
       "      <td>32940</td>\n",
       "      <td>2001.0</td>\n",
       "      <td>SINGLE FAMILY</td>\n",
       "    </tr>\n",
       "    <tr>\n",
       "      <th>1</th>\n",
       "      <td>120112bfc77a87376</td>\n",
       "      <td>228680.0</td>\n",
       "      <td>STAFFORD</td>\n",
       "      <td>VA</td>\n",
       "      <td>12723 SW 49 CT</td>\n",
       "      <td>MIRAMAR</td>\n",
       "      <td>33027</td>\n",
       "      <td>2003.0</td>\n",
       "      <td>ATTACHED RESIDENTIAL</td>\n",
       "    </tr>\n",
       "    <tr>\n",
       "      <th>2</th>\n",
       "      <td>12081776a04b281f4</td>\n",
       "      <td>135000.0</td>\n",
       "      <td>RICHMOND</td>\n",
       "      <td>VA</td>\n",
       "      <td>6470 SEAGULL DR UNIT 307</td>\n",
       "      <td>BRADENTON</td>\n",
       "      <td>34210</td>\n",
       "      <td>1980.0</td>\n",
       "      <td>CONDO STACKED</td>\n",
       "    </tr>\n",
       "    <tr>\n",
       "      <th>3</th>\n",
       "      <td>12103fabafeea9fb7</td>\n",
       "      <td>87660.0</td>\n",
       "      <td>ARLINGTON</td>\n",
       "      <td>VA</td>\n",
       "      <td>1012 NORTH SHORE DR NE # 12</td>\n",
       "      <td>SAINT PETERSBURG</td>\n",
       "      <td>33701</td>\n",
       "      <td>1959.0</td>\n",
       "      <td>CONDO STACKED</td>\n",
       "    </tr>\n",
       "    <tr>\n",
       "      <th>4</th>\n",
       "      <td>120213b0f5f17e3d1</td>\n",
       "      <td>663090.0</td>\n",
       "      <td>ROCK HILL</td>\n",
       "      <td>SC</td>\n",
       "      <td>5550 HERON POINT DR</td>\n",
       "      <td>NAPLES</td>\n",
       "      <td>34108</td>\n",
       "      <td>1991.0</td>\n",
       "      <td>CONDO STACKED</td>\n",
       "    </tr>\n",
       "    <tr>\n",
       "      <th>...</th>\n",
       "      <td>...</td>\n",
       "      <td>...</td>\n",
       "      <td>...</td>\n",
       "      <td>...</td>\n",
       "      <td>...</td>\n",
       "      <td>...</td>\n",
       "      <td>...</td>\n",
       "      <td>...</td>\n",
       "      <td>...</td>\n",
       "    </tr>\n",
       "    <tr>\n",
       "      <th>223</th>\n",
       "      <td>12086e1ddd12521cd</td>\n",
       "      <td>329160.0</td>\n",
       "      <td>BLUFFTON</td>\n",
       "      <td>SC</td>\n",
       "      <td>5765 NW 99 CT</td>\n",
       "      <td>DORAL</td>\n",
       "      <td>33178</td>\n",
       "      <td>1993.0</td>\n",
       "      <td>SINGLE FAMILY</td>\n",
       "    </tr>\n",
       "    <tr>\n",
       "      <th>224</th>\n",
       "      <td>120861813f1294d56</td>\n",
       "      <td>924061.0</td>\n",
       "      <td>RICHMOND</td>\n",
       "      <td>VA</td>\n",
       "      <td>7805 NOREMAC AVE</td>\n",
       "      <td>MIAMI BEACH</td>\n",
       "      <td>33141</td>\n",
       "      <td>1941.0</td>\n",
       "      <td>SINGLE FAMILY</td>\n",
       "    </tr>\n",
       "    <tr>\n",
       "      <th>225</th>\n",
       "      <td>12089ed366ee68b8e</td>\n",
       "      <td>274291.0</td>\n",
       "      <td>MARS HILL</td>\n",
       "      <td>NC</td>\n",
       "      <td>246 S FLETCHER AVE</td>\n",
       "      <td>FERNANDINA BEACH</td>\n",
       "      <td>32034</td>\n",
       "      <td>1929.0</td>\n",
       "      <td>SINGLE FAMILY</td>\n",
       "    </tr>\n",
       "    <tr>\n",
       "      <th>226</th>\n",
       "      <td>1211544028709F1DD</td>\n",
       "      <td>267400.0</td>\n",
       "      <td>OAKTON</td>\n",
       "      <td>VA</td>\n",
       "      <td>171 VISTA HERMOSA CIR 21-B</td>\n",
       "      <td>SARASOTA</td>\n",
       "      <td>34242</td>\n",
       "      <td>1971.0</td>\n",
       "      <td>CONDO ROW</td>\n",
       "    </tr>\n",
       "    <tr>\n",
       "      <th>227</th>\n",
       "      <td>1212772a5d810d464</td>\n",
       "      <td>172189.0</td>\n",
       "      <td>MATTHEWS</td>\n",
       "      <td>NC</td>\n",
       "      <td>3 SUNSET BLVD</td>\n",
       "      <td>ORMOND BEACH</td>\n",
       "      <td>32176</td>\n",
       "      <td>1967.0</td>\n",
       "      <td>SINGLE FAMILY</td>\n",
       "    </tr>\n",
       "  </tbody>\n",
       "</table>\n",
       "<p>228 rows × 9 columns</p>\n",
       "</div>"
      ],
      "text/plain": [
       "                    Id  ValueofHome  OwnerCity OwnerState  \\\n",
       "0    12009f31026acc440     360350.0  PINEHURST         NC   \n",
       "1    120112bfc77a87376     228680.0   STAFFORD         VA   \n",
       "2    12081776a04b281f4     135000.0   RICHMOND         VA   \n",
       "3    12103fabafeea9fb7      87660.0  ARLINGTON         VA   \n",
       "4    120213b0f5f17e3d1     663090.0  ROCK HILL         SC   \n",
       "..                 ...          ...        ...        ...   \n",
       "223  12086e1ddd12521cd     329160.0   BLUFFTON         SC   \n",
       "224  120861813f1294d56     924061.0   RICHMOND         VA   \n",
       "225  12089ed366ee68b8e     274291.0  MARS HILL         NC   \n",
       "226  1211544028709F1DD     267400.0     OAKTON         VA   \n",
       "227  1212772a5d810d464     172189.0   MATTHEWS         NC   \n",
       "\n",
       "         PropertyLocationStreet1      PropertyCity  PropertyZip  YearBuilt  \\\n",
       "0               5833 NEWBURY CIR         MELBOURNE        32940     2001.0   \n",
       "1                 12723 SW 49 CT           MIRAMAR        33027     2003.0   \n",
       "2       6470 SEAGULL DR UNIT 307         BRADENTON        34210     1980.0   \n",
       "3    1012 NORTH SHORE DR NE # 12  SAINT PETERSBURG        33701     1959.0   \n",
       "4            5550 HERON POINT DR            NAPLES        34108     1991.0   \n",
       "..                           ...               ...          ...        ...   \n",
       "223                5765 NW 99 CT             DORAL        33178     1993.0   \n",
       "224             7805 NOREMAC AVE       MIAMI BEACH        33141     1941.0   \n",
       "225           246 S FLETCHER AVE  FERNANDINA BEACH        32034     1929.0   \n",
       "226   171 VISTA HERMOSA CIR 21-B          SARASOTA        34242     1971.0   \n",
       "227                3 SUNSET BLVD      ORMOND BEACH        32176     1967.0   \n",
       "\n",
       "          TypeOfResidence  \n",
       "0           SINGLE FAMILY  \n",
       "1    ATTACHED RESIDENTIAL  \n",
       "2           CONDO STACKED  \n",
       "3           CONDO STACKED  \n",
       "4           CONDO STACKED  \n",
       "..                    ...  \n",
       "223         SINGLE FAMILY  \n",
       "224         SINGLE FAMILY  \n",
       "225         SINGLE FAMILY  \n",
       "226             CONDO ROW  \n",
       "227         SINGLE FAMILY  \n",
       "\n",
       "[228 rows x 9 columns]"
      ]
     },
     "execution_count": 4,
     "metadata": {},
     "output_type": "execute_result"
    }
   ],
   "source": [
    "house_df = base_df[[\"Id\", \"ValueofHome\", \"OwnerCity\", \"OwnerState\", \"PropertyLocationStreet1\", \"PropertyCity\",\n",
    "                    \"PropertyZip\", \"YearBuilt\", \"TypeOfResidence\"]]\n",
    "house_df"
   ]
  },
  {
   "cell_type": "code",
   "execution_count": 5,
   "metadata": {},
   "outputs": [
    {
     "data": {
      "text/html": [
       "<div>\n",
       "<style scoped>\n",
       "    .dataframe tbody tr th:only-of-type {\n",
       "        vertical-align: middle;\n",
       "    }\n",
       "\n",
       "    .dataframe tbody tr th {\n",
       "        vertical-align: top;\n",
       "    }\n",
       "\n",
       "    .dataframe thead th {\n",
       "        text-align: right;\n",
       "    }\n",
       "</style>\n",
       "<table border=\"1\" class=\"dataframe\">\n",
       "  <thead>\n",
       "    <tr style=\"text-align: right;\">\n",
       "      <th></th>\n",
       "      <th>TypeOfResidence</th>\n",
       "    </tr>\n",
       "  </thead>\n",
       "  <tbody>\n",
       "    <tr>\n",
       "      <th>SINGLE FAMILY</th>\n",
       "      <td>161</td>\n",
       "    </tr>\n",
       "    <tr>\n",
       "      <th>CONDO STACKED</th>\n",
       "      <td>39</td>\n",
       "    </tr>\n",
       "    <tr>\n",
       "      <th>ATTACHED RESIDENTIAL</th>\n",
       "      <td>16</td>\n",
       "    </tr>\n",
       "    <tr>\n",
       "      <th>CONDO ROW</th>\n",
       "      <td>8</td>\n",
       "    </tr>\n",
       "    <tr>\n",
       "      <th>CONDO UNIT</th>\n",
       "      <td>4</td>\n",
       "    </tr>\n",
       "  </tbody>\n",
       "</table>\n",
       "</div>"
      ],
      "text/plain": [
       "                      TypeOfResidence\n",
       "SINGLE FAMILY                     161\n",
       "CONDO STACKED                      39\n",
       "ATTACHED RESIDENTIAL               16\n",
       "CONDO ROW                           8\n",
       "CONDO UNIT                          4"
      ]
     },
     "execution_count": 5,
     "metadata": {},
     "output_type": "execute_result"
    }
   ],
   "source": [
    "house_type = house_df[\"TypeOfResidence\"].value_counts()\n",
    "house_type_df = pd.DataFrame(house_type)\n",
    "house_type_df"
   ]
  },
  {
   "cell_type": "code",
   "execution_count": 6,
   "metadata": {},
   "outputs": [
    {
     "data": {
      "text/plain": [
       "0      19.0\n",
       "1      17.0\n",
       "2      40.0\n",
       "3      61.0\n",
       "4      29.0\n",
       "       ... \n",
       "223    27.0\n",
       "224    79.0\n",
       "225    91.0\n",
       "226    49.0\n",
       "227    53.0\n",
       "Name: YearBuilt, Length: 228, dtype: float64"
      ]
     },
     "execution_count": 6,
     "metadata": {},
     "output_type": "execute_result"
    }
   ],
   "source": [
    "house_age = 2020 - house_df[\"YearBuilt\"]\n",
    "house_age"
   ]
  },
  {
   "cell_type": "code",
   "execution_count": 7,
   "metadata": {},
   "outputs": [
    {
     "name": "stderr",
     "output_type": "stream",
     "text": [
      "/opt/anaconda3/envs/PythonData/lib/python3.6/site-packages/ipykernel_launcher.py:1: SettingWithCopyWarning: \n",
      "A value is trying to be set on a copy of a slice from a DataFrame.\n",
      "Try using .loc[row_indexer,col_indexer] = value instead\n",
      "\n",
      "See the caveats in the documentation: https://pandas.pydata.org/pandas-docs/stable/user_guide/indexing.html#returning-a-view-versus-a-copy\n",
      "  \"\"\"Entry point for launching an IPython kernel.\n"
     ]
    },
    {
     "data": {
      "text/html": [
       "<div>\n",
       "<style scoped>\n",
       "    .dataframe tbody tr th:only-of-type {\n",
       "        vertical-align: middle;\n",
       "    }\n",
       "\n",
       "    .dataframe tbody tr th {\n",
       "        vertical-align: top;\n",
       "    }\n",
       "\n",
       "    .dataframe thead th {\n",
       "        text-align: right;\n",
       "    }\n",
       "</style>\n",
       "<table border=\"1\" class=\"dataframe\">\n",
       "  <thead>\n",
       "    <tr style=\"text-align: right;\">\n",
       "      <th></th>\n",
       "      <th>Id</th>\n",
       "      <th>ValueofHome</th>\n",
       "      <th>OwnerCity</th>\n",
       "      <th>OwnerState</th>\n",
       "      <th>PropertyLocationStreet1</th>\n",
       "      <th>PropertyCity</th>\n",
       "      <th>PropertyZip</th>\n",
       "      <th>YearBuilt</th>\n",
       "      <th>TypeOfResidence</th>\n",
       "      <th>House Age</th>\n",
       "    </tr>\n",
       "  </thead>\n",
       "  <tbody>\n",
       "    <tr>\n",
       "      <th>0</th>\n",
       "      <td>12009f31026acc440</td>\n",
       "      <td>360350.0</td>\n",
       "      <td>PINEHURST</td>\n",
       "      <td>NC</td>\n",
       "      <td>5833 NEWBURY CIR</td>\n",
       "      <td>MELBOURNE</td>\n",
       "      <td>32940</td>\n",
       "      <td>2001.0</td>\n",
       "      <td>SINGLE FAMILY</td>\n",
       "      <td>19.0</td>\n",
       "    </tr>\n",
       "    <tr>\n",
       "      <th>1</th>\n",
       "      <td>120112bfc77a87376</td>\n",
       "      <td>228680.0</td>\n",
       "      <td>STAFFORD</td>\n",
       "      <td>VA</td>\n",
       "      <td>12723 SW 49 CT</td>\n",
       "      <td>MIRAMAR</td>\n",
       "      <td>33027</td>\n",
       "      <td>2003.0</td>\n",
       "      <td>ATTACHED RESIDENTIAL</td>\n",
       "      <td>17.0</td>\n",
       "    </tr>\n",
       "    <tr>\n",
       "      <th>2</th>\n",
       "      <td>12081776a04b281f4</td>\n",
       "      <td>135000.0</td>\n",
       "      <td>RICHMOND</td>\n",
       "      <td>VA</td>\n",
       "      <td>6470 SEAGULL DR UNIT 307</td>\n",
       "      <td>BRADENTON</td>\n",
       "      <td>34210</td>\n",
       "      <td>1980.0</td>\n",
       "      <td>CONDO STACKED</td>\n",
       "      <td>40.0</td>\n",
       "    </tr>\n",
       "    <tr>\n",
       "      <th>3</th>\n",
       "      <td>12103fabafeea9fb7</td>\n",
       "      <td>87660.0</td>\n",
       "      <td>ARLINGTON</td>\n",
       "      <td>VA</td>\n",
       "      <td>1012 NORTH SHORE DR NE # 12</td>\n",
       "      <td>SAINT PETERSBURG</td>\n",
       "      <td>33701</td>\n",
       "      <td>1959.0</td>\n",
       "      <td>CONDO STACKED</td>\n",
       "      <td>61.0</td>\n",
       "    </tr>\n",
       "    <tr>\n",
       "      <th>4</th>\n",
       "      <td>120213b0f5f17e3d1</td>\n",
       "      <td>663090.0</td>\n",
       "      <td>ROCK HILL</td>\n",
       "      <td>SC</td>\n",
       "      <td>5550 HERON POINT DR</td>\n",
       "      <td>NAPLES</td>\n",
       "      <td>34108</td>\n",
       "      <td>1991.0</td>\n",
       "      <td>CONDO STACKED</td>\n",
       "      <td>29.0</td>\n",
       "    </tr>\n",
       "    <tr>\n",
       "      <th>...</th>\n",
       "      <td>...</td>\n",
       "      <td>...</td>\n",
       "      <td>...</td>\n",
       "      <td>...</td>\n",
       "      <td>...</td>\n",
       "      <td>...</td>\n",
       "      <td>...</td>\n",
       "      <td>...</td>\n",
       "      <td>...</td>\n",
       "      <td>...</td>\n",
       "    </tr>\n",
       "    <tr>\n",
       "      <th>223</th>\n",
       "      <td>12086e1ddd12521cd</td>\n",
       "      <td>329160.0</td>\n",
       "      <td>BLUFFTON</td>\n",
       "      <td>SC</td>\n",
       "      <td>5765 NW 99 CT</td>\n",
       "      <td>DORAL</td>\n",
       "      <td>33178</td>\n",
       "      <td>1993.0</td>\n",
       "      <td>SINGLE FAMILY</td>\n",
       "      <td>27.0</td>\n",
       "    </tr>\n",
       "    <tr>\n",
       "      <th>224</th>\n",
       "      <td>120861813f1294d56</td>\n",
       "      <td>924061.0</td>\n",
       "      <td>RICHMOND</td>\n",
       "      <td>VA</td>\n",
       "      <td>7805 NOREMAC AVE</td>\n",
       "      <td>MIAMI BEACH</td>\n",
       "      <td>33141</td>\n",
       "      <td>1941.0</td>\n",
       "      <td>SINGLE FAMILY</td>\n",
       "      <td>79.0</td>\n",
       "    </tr>\n",
       "    <tr>\n",
       "      <th>225</th>\n",
       "      <td>12089ed366ee68b8e</td>\n",
       "      <td>274291.0</td>\n",
       "      <td>MARS HILL</td>\n",
       "      <td>NC</td>\n",
       "      <td>246 S FLETCHER AVE</td>\n",
       "      <td>FERNANDINA BEACH</td>\n",
       "      <td>32034</td>\n",
       "      <td>1929.0</td>\n",
       "      <td>SINGLE FAMILY</td>\n",
       "      <td>91.0</td>\n",
       "    </tr>\n",
       "    <tr>\n",
       "      <th>226</th>\n",
       "      <td>1211544028709F1DD</td>\n",
       "      <td>267400.0</td>\n",
       "      <td>OAKTON</td>\n",
       "      <td>VA</td>\n",
       "      <td>171 VISTA HERMOSA CIR 21-B</td>\n",
       "      <td>SARASOTA</td>\n",
       "      <td>34242</td>\n",
       "      <td>1971.0</td>\n",
       "      <td>CONDO ROW</td>\n",
       "      <td>49.0</td>\n",
       "    </tr>\n",
       "    <tr>\n",
       "      <th>227</th>\n",
       "      <td>1212772a5d810d464</td>\n",
       "      <td>172189.0</td>\n",
       "      <td>MATTHEWS</td>\n",
       "      <td>NC</td>\n",
       "      <td>3 SUNSET BLVD</td>\n",
       "      <td>ORMOND BEACH</td>\n",
       "      <td>32176</td>\n",
       "      <td>1967.0</td>\n",
       "      <td>SINGLE FAMILY</td>\n",
       "      <td>53.0</td>\n",
       "    </tr>\n",
       "  </tbody>\n",
       "</table>\n",
       "<p>228 rows × 10 columns</p>\n",
       "</div>"
      ],
      "text/plain": [
       "                    Id  ValueofHome  OwnerCity OwnerState  \\\n",
       "0    12009f31026acc440     360350.0  PINEHURST         NC   \n",
       "1    120112bfc77a87376     228680.0   STAFFORD         VA   \n",
       "2    12081776a04b281f4     135000.0   RICHMOND         VA   \n",
       "3    12103fabafeea9fb7      87660.0  ARLINGTON         VA   \n",
       "4    120213b0f5f17e3d1     663090.0  ROCK HILL         SC   \n",
       "..                 ...          ...        ...        ...   \n",
       "223  12086e1ddd12521cd     329160.0   BLUFFTON         SC   \n",
       "224  120861813f1294d56     924061.0   RICHMOND         VA   \n",
       "225  12089ed366ee68b8e     274291.0  MARS HILL         NC   \n",
       "226  1211544028709F1DD     267400.0     OAKTON         VA   \n",
       "227  1212772a5d810d464     172189.0   MATTHEWS         NC   \n",
       "\n",
       "         PropertyLocationStreet1      PropertyCity  PropertyZip  YearBuilt  \\\n",
       "0               5833 NEWBURY CIR         MELBOURNE        32940     2001.0   \n",
       "1                 12723 SW 49 CT           MIRAMAR        33027     2003.0   \n",
       "2       6470 SEAGULL DR UNIT 307         BRADENTON        34210     1980.0   \n",
       "3    1012 NORTH SHORE DR NE # 12  SAINT PETERSBURG        33701     1959.0   \n",
       "4            5550 HERON POINT DR            NAPLES        34108     1991.0   \n",
       "..                           ...               ...          ...        ...   \n",
       "223                5765 NW 99 CT             DORAL        33178     1993.0   \n",
       "224             7805 NOREMAC AVE       MIAMI BEACH        33141     1941.0   \n",
       "225           246 S FLETCHER AVE  FERNANDINA BEACH        32034     1929.0   \n",
       "226   171 VISTA HERMOSA CIR 21-B          SARASOTA        34242     1971.0   \n",
       "227                3 SUNSET BLVD      ORMOND BEACH        32176     1967.0   \n",
       "\n",
       "          TypeOfResidence  House Age  \n",
       "0           SINGLE FAMILY       19.0  \n",
       "1    ATTACHED RESIDENTIAL       17.0  \n",
       "2           CONDO STACKED       40.0  \n",
       "3           CONDO STACKED       61.0  \n",
       "4           CONDO STACKED       29.0  \n",
       "..                    ...        ...  \n",
       "223         SINGLE FAMILY       27.0  \n",
       "224         SINGLE FAMILY       79.0  \n",
       "225         SINGLE FAMILY       91.0  \n",
       "226             CONDO ROW       49.0  \n",
       "227         SINGLE FAMILY       53.0  \n",
       "\n",
       "[228 rows x 10 columns]"
      ]
     },
     "execution_count": 7,
     "metadata": {},
     "output_type": "execute_result"
    }
   ],
   "source": [
    "house_df[\"House Age\"] = house_age\n",
    "house_df"
   ]
  },
  {
   "cell_type": "code",
   "execution_count": 8,
   "metadata": {},
   "outputs": [
    {
     "data": {
      "image/png": "[encoded data removed]",
      "text/plain": [
       "<Figure size 432x288 with 1 Axes>"
      ]
     },
     "metadata": {
      "needs_background": "light"
     },
     "output_type": "display_data"
    }
   ],
   "source": [
    "#bar chart of build types\n",
    "house_type.plot(kind=\"bar\", x=\"TypeOfResidence\", y=house_type)\n",
    "plt.title(\"Number of Houses by Build Type\")\n",
    "plt.savefig(\"houses by build type\")"
   ]
  },
  {
   "cell_type": "code",
   "execution_count": 9,
   "metadata": {},
   "outputs": [
    {
     "data": {
      "image/png": "[encoded data removed]",
      "text/plain": [
       "<Figure size 432x288 with 1 Axes>"
      ]
     },
     "metadata": {},
     "output_type": "display_data"
    }
   ],
   "source": [
    "# # house_type_df.rename(columns={\"TypeOfResidence\": \"# of Homes\"})\n",
    "labels=house_type_df[\"TypeOfResidence\"].index\n",
    "plt.pie(house_type, labels=labels, autopct=\"%1.1f%%\")\n",
    "plt.title(\"House Types\")\n",
    "plt.tight_layout\n",
    "plt.savefig(\"house type pie chart\")"
   ]
  },
  {
   "cell_type": "code",
   "execution_count": 10,
   "metadata": {},
   "outputs": [
    {
     "data": {
      "text/plain": [
       "Text(0, 0.5, 'Value (in Millions)')"
      ]
     },
     "execution_count": 10,
     "metadata": {},
     "output_type": "execute_result"
    },
    {
     "data": {
      "image/png": "[encoded data removed]",
      "text/plain": [
       "<Figure size 432x288 with 1 Axes>"
      ]
     },
     "metadata": {
      "needs_background": "light"
     },
     "output_type": "display_data"
    }
   ],
   "source": [
    "#scatter plot of value of houses\n",
    "hx = house_df[\"House Age\"]\n",
    "hy = house_df[\"ValueofHome\"]\n",
    "plt.scatter(hx, hy)\n",
    "\n",
    "plt.title(\"Value of All Homes by Ages\")\n",
    "plt.xlabel(\"Age of Home\")\n",
    "plt.ylabel(\"Value (in Millions)\")"
   ]
  },
  {
   "cell_type": "code",
   "execution_count": 11,
   "metadata": {},
   "outputs": [],
   "source": [
    "np.polyfit(hx, hy, 1)\n",
    "\n",
    "(slope, intercept, rvalue, pvalue, stderr) = linregress(hx, hy)\n",
    "slope, intercept\n",
    "\n",
    "house_predict = hx*slope + intercept\n",
    "house_predict\n",
    "\n",
    "line_eq = f\"y = {round(slope)}x + {round(intercept)}\"\n",
    "r_val = pearsonr(hx, hy)[0]\n",
    "r_sq =  r_val ** 2"
   ]
  },
  {
   "cell_type": "code",
   "execution_count": 12,
   "metadata": {},
   "outputs": [
    {
     "data": {
      "text/plain": [
       "Text(80, 1050000, 'R-squared: 0.022330912537027927')"
      ]
     },
     "execution_count": 12,
     "metadata": {},
     "output_type": "execute_result"
    },
    {
     "data": {
      "image/png": "[encoded data removed]",
      "text/plain": [
       "<Figure size 432x288 with 1 Axes>"
      ]
     },
     "metadata": {
      "needs_background": "light"
     },
     "output_type": "display_data"
    }
   ],
   "source": [
    "hx = house_df[\"House Age\"]\n",
    "hy = house_df[\"ValueofHome\"]\n",
    "plt.scatter(hx, hy)\n",
    "plt.plot(hx, house_predict, color=\"red\")\n",
    "\n",
    "plt.title(\"Value of All Homes by Ages\")\n",
    "plt.xlabel(\"Age of Home\")\n",
    "plt.ylabel(\"Value (in Millions)\")\n",
    "plt.tight_layout\n",
    "\n",
    "plt.annotate(line_eq, (80,1150000), color=\"red\")\n",
    "plt.annotate(f\"R-squared: {r_sq}\", (80,1050000), color=\"red\")"
   ]
  },
  {
   "cell_type": "code",
   "execution_count": 13,
   "metadata": {},
   "outputs": [
    {
     "data": {
      "text/plain": [
       "Text(0, 0.5, 'Value (in Millions)')"
      ]
     },
     "execution_count": 13,
     "metadata": {},
     "output_type": "execute_result"
    },
    {
     "data": {
      "image/png": "[encoded data removed]",
      "text/plain": [
       "<Figure size 432x288 with 1 Axes>"
      ]
     },
     "metadata": {
      "needs_background": "light"
     },
     "output_type": "display_data"
    }
   ],
   "source": [
    "#scatter plot of value of houses by build type: Single Family\n",
    "single_fam = house_df.loc[house_df[\"TypeOfResidence\"]==\"SINGLE FAMILY\"]\n",
    "# single_fam.plot(kind=\"scatter\", x=\"HouseAge\", y=\"ValueofHome\")\n",
    "# plt.xlim(0, 150)\n",
    "# plt.ylim(0, 1400000)\n",
    "\n",
    "sf_x = single_fam[\"House Age\"]\n",
    "sf_y = single_fam[\"ValueofHome\"]\n",
    "plt.scatter(sf_x, sf_y)\n",
    "plt.title(\"Value of Single Family Homes by Age\")\n",
    "plt.xlabel(\"Age of Home\")\n",
    "plt.ylabel(\"Value (in Millions)\")\n",
    "# house_df.plot(kind=\"scatter\",x=\"TypeOfResidence\", y=\"ValueofHome\")\n",
    "# tick_locations = house_df[\"TypeOfResidence\"]\n",
    "# plt.xticks(tick_locations, rotation=\"vertical\")"
   ]
  },
  {
   "cell_type": "code",
   "execution_count": 14,
   "metadata": {},
   "outputs": [
    {
     "data": {
      "text/plain": [
       "Text(0, 0.5, 'Value')"
      ]
     },
     "execution_count": 14,
     "metadata": {},
     "output_type": "execute_result"
    },
    {
     "data": {
      "image/png": "[encoded data removed]",
      "text/plain": [
       "<Figure size 432x288 with 1 Axes>"
      ]
     },
     "metadata": {
      "needs_background": "light"
     },
     "output_type": "display_data"
    }
   ],
   "source": [
    "#scatter plot of value of houses by age: build type = Stacked Condo\n",
    "condo_stacked = house_df.loc[house_df[\"TypeOfResidence\"]==\"CONDO STACKED\"]\n",
    "condo_stacked\n",
    "# condo_stacked.plot(kind=\"scatter\", x=\"HouseAge\", y=\"ValueofHome\")\n",
    "# plt.title(\"Value of Stacked Condos by Age\")\n",
    "# plt.xlabel=(\"Age of Home\")\n",
    "# plt.ylabel=(\"Value\")\n",
    "\n",
    "cs_x = condo_stacked[\"House Age\"]\n",
    "cs_y = condo_stacked[\"ValueofHome\"]\n",
    "plt.scatter(cs_x, cs_y)\n",
    "plt.title(\"Value of Stacked Condos by Age\")\n",
    "plt.xlabel(\"Age of Home\")\n",
    "plt.ylabel(\"Value\")"
   ]
  },
  {
   "cell_type": "code",
   "execution_count": 15,
   "metadata": {},
   "outputs": [
    {
     "data": {
      "text/plain": [
       "Text(0, 0.5, 'Value')"
      ]
     },
     "execution_count": 15,
     "metadata": {},
     "output_type": "execute_result"
    },
    {
     "data": {
      "image/png": "[encoded data removed]",
      "text/plain": [
       "<Figure size 432x288 with 1 Axes>"
      ]
     },
     "metadata": {
      "needs_background": "light"
     },
     "output_type": "display_data"
    }
   ],
   "source": [
    "#scatter plot of value of houses by age: build type = Attached Residential\n",
    "attached_res = house_df.loc[house_df[\"TypeOfResidence\"]==\"ATTACHED RESIDENTIAL\"]\n",
    "\n",
    "ar_x = attached_res[\"House Age\"]\n",
    "ar_y = attached_res[\"ValueofHome\"]\n",
    "plt.scatter(ar_x, ar_y)\n",
    "\n",
    "plt.title(\"Value of Attached Residential Homes by Age\")\n",
    "plt.xlabel(\"Age of Home\")\n",
    "plt.ylabel(\"Value\")"
   ]
  },
  {
   "cell_type": "code",
   "execution_count": 16,
   "metadata": {},
   "outputs": [
    {
     "data": {
      "text/plain": [
       "Text(0, 0.5, 'Value')"
      ]
     },
     "execution_count": 16,
     "metadata": {},
     "output_type": "execute_result"
    },
    {
     "data": {
      "image/png": "[encoded data removed]",
      "text/plain": [
       "<Figure size 432x288 with 1 Axes>"
      ]
     },
     "metadata": {
      "needs_background": "light"
     },
     "output_type": "display_data"
    }
   ],
   "source": [
    "# #scatter plot of value of houses by age: build type = Row Condo\n",
    "condo_row = house_df.loc[house_df[\"TypeOfResidence\"]==\"CONDO ROW\"]\n",
    "\n",
    "cr_x = condo_row[\"House Age\"]\n",
    "cr_y = condo_row[\"ValueofHome\"]\n",
    "plt.scatter(cr_x, cr_y)\n",
    "\n",
    "plt.title(\"Value of Row Condos by Age\")\n",
    "plt.xlabel(\"Age of Home\")\n",
    "plt.ylabel(\"Value\")"
   ]
  },
  {
   "cell_type": "code",
   "execution_count": 17,
   "metadata": {},
   "outputs": [
    {
     "data": {
      "text/plain": [
       "Text(0, 0.5, 'Value')"
      ]
     },
     "execution_count": 17,
     "metadata": {},
     "output_type": "execute_result"
    },
    {
     "data": {
      "image/png": "[encoded data removed]",
      "text/plain": [
       "<Figure size 432x288 with 1 Axes>"
      ]
     },
     "metadata": {
      "needs_background": "light"
     },
     "output_type": "display_data"
    }
   ],
   "source": [
    "#scatter plot of value of houses by age: build type = Unit Condo\n",
    "unit_condo = house_df.loc[house_df[\"TypeOfResidence\"]==\"CONDO UNIT\"]\n",
    "\n",
    "uc_x = unit_condo[\"House Age\"]\n",
    "uc_y = unit_condo[\"ValueofHome\"]\n",
    "plt.scatter(uc_x, uc_y)\n",
    "\n",
    "plt.title(\"Value of Unit Condos by Age\")\n",
    "plt.xlabel(\"Age of Home\")\n",
    "plt.ylabel(\"Value\")"
   ]
  },
  {
   "cell_type": "code",
   "execution_count": 18,
   "metadata": {},
   "outputs": [
    {
     "data": {
      "text/plain": [
       "1973.0    11\n",
       "1990.0     8\n",
       "1986.0     7\n",
       "1985.0     7\n",
       "1987.0     7\n",
       "          ..\n",
       "1944.0     1\n",
       "1900.0     1\n",
       "1940.0     1\n",
       "1924.0     1\n",
       "1971.0     1\n",
       "Name: YearBuilt, Length: 71, dtype: int64"
      ]
     },
     "execution_count": 18,
     "metadata": {},
     "output_type": "execute_result"
    }
   ],
   "source": [
    "year = house_df[\"YearBuilt\"].value_counts()\n",
    "year"
   ]
  },
  {
   "cell_type": "code",
   "execution_count": 19,
   "metadata": {},
   "outputs": [
    {
     "data": {
      "image/png": "[encoded data removed]",
      "text/plain": [
       "<Figure size 3600x576 with 1 Axes>"
      ]
     },
     "metadata": {
      "needs_background": "light"
     },
     "output_type": "display_data"
    }
   ],
   "source": [
    "plt.figure(figsize=(50, 8))\n",
    "year.plot(kind=\"bar\", x=\"YearBuilt\", y=year)\n",
    "plt.title(\"Number of Houses by Build Year\")\n",
    "plt.tight_layout\n",
    "plt.savefig(\"house by build year\")"
   ]
  },
  {
   "cell_type": "code",
   "execution_count": 20,
   "metadata": {},
   "outputs": [
    {
     "name": "stdout",
     "output_type": "stream",
     "text": [
      "The lower quartile is 123598.5, the upper quartile is 310639.25, and the inter-quartile range is 187040.75.\n"
     ]
    }
   ],
   "source": [
    "#boxplot of values of house separated by type\n",
    "value_by_type = house_df.groupby(\"TypeOfResidence\")[\"ValueofHome\"]\n",
    "type_df = pd.DataFrame(value_by_type.describe())\n",
    "\n",
    "quartiles = house_df[\"ValueofHome\"].quantile([0.25, 0.5, 0.75])\n",
    "lowerq = quartiles[0.25]\n",
    "upperq = quartiles[0.75]\n",
    "iqr = upperq-lowerq\n",
    "print(f\"The lower quartile is {lowerq}, the upper quartile is {upperq}, and the inter-quartile range is {iqr}.\")"
   ]
  },
  {
   "cell_type": "code",
   "execution_count": 21,
   "metadata": {},
   "outputs": [
    {
     "name": "stdout",
     "output_type": "stream",
     "text": [
      "The lower bound is -156962.625. The upper bound is 591200.375.\n"
     ]
    }
   ],
   "source": [
    "#determine outliers by upper and lower bounds\n",
    "lbound = quartiles[0.25] - 1.5 * iqr\n",
    "ubound = quartiles[0.75] + 1.5 * iqr\n",
    "print(f\"The lower bound is {lbound}. The upper bound is {ubound}.\")"
   ]
  },
  {
   "cell_type": "code",
   "execution_count": 22,
   "metadata": {},
   "outputs": [
    {
     "data": {
      "image/png": "[encoded data removed]",
      "text/plain": [
       "<Figure size 432x288 with 1 Axes>"
      ]
     },
     "metadata": {
      "needs_background": "light"
     },
     "output_type": "display_data"
    }
   ],
   "source": [
    "labels = [\"Attached Residential\", \"Condo Row\", \"Condo Stacked\", \"Condo Unit\", \"Single Family\"]\n",
    "plt.boxplot(type_df, labels=labels)\n",
    "plt.title(\"Values of Homes Separated by Home Type\")\n",
    "plt.xlabel(\"Home Type\")\n",
    "plt.ylabel(\"Value (in Millions)\")\n",
    "plt.xticks(rotation=20)\n",
    "plt.tight_layout()\n",
    "plt.savefig(\"home type boxplot\")"
   ]
  },
  {
   "cell_type": "code",
   "execution_count": 53,
   "metadata": {},
   "outputs": [],
   "source": [
    "#INPUT FLORIDA RESIDENT DATA, DROP UNNECESSARY PROPERTY TYPES\n",
    "fl_csv = \"FloridaResidents.csv\"\n",
    "fl_res_df = pd.read_csv(fl_csv)\n",
    "fl_house_age = 2020 - fl_res_df[\"YearBuilt\"]\n",
    "fl_res_df[\"House Age\"] = fl_house_age\n",
    "\n",
    "fl_res_df[\"TypeOfResidence\"] = fl_res_df[\"TypeOfResidence\"].replace({\"STACKED CONDO\" : \"CONDO STACKED\"})\n",
    "fl_res_df[\"TypeOfResidence\"] = fl_res_df[\"TypeOfResidence\"].replace({\"ROW CONDO\" : \"CONDO ROW\"})\n",
    "fl_res_df[\"TypeOfResidence\"] = fl_res_df[\"TypeOfResidence\"].replace({\"UNIT CONDO\" : \"CONDO UNIT\"})\n",
    "fl_res_df[\"TypeOfResidence\"] = fl_res_df[\"TypeOfResidence\"].replace({\"ATTACHED RESDENTIAL\" : \"ATTACHED RESIDENTIAL\"})\n",
    "fl_res_df\n",
    "# fl_res_df.drop(labels=, 1) ==\"MISCELLANEOUS RESIDENTIAL\"\n",
    "delete = [\"MISCELLANEOUS RESIDENTIAL\", \"AGRICULTURE\", \"CONDO DETACHED\", \"VACANT\", \"COMMERCIAL\", \"OTHER\", \"MANUFACTURED HOME\", \"APARTMENT UNIT\"]\n",
    "for residence in delete:\n",
    "    fl_res_df = fl_res_df[fl_res_df[\"TypeOfResidence\"] != residence]\n",
    "    "
   ]
  },
  {
   "cell_type": "code",
   "execution_count": 54,
   "metadata": {},
   "outputs": [
    {
     "data": {
      "text/html": [
       "<div>\n",
       "<style scoped>\n",
       "    .dataframe tbody tr th:only-of-type {\n",
       "        vertical-align: middle;\n",
       "    }\n",
       "\n",
       "    .dataframe tbody tr th {\n",
       "        vertical-align: top;\n",
       "    }\n",
       "\n",
       "    .dataframe thead th {\n",
       "        text-align: right;\n",
       "    }\n",
       "</style>\n",
       "<table border=\"1\" class=\"dataframe\">\n",
       "  <thead>\n",
       "    <tr style=\"text-align: right;\">\n",
       "      <th></th>\n",
       "      <th>TypeOfResidence</th>\n",
       "    </tr>\n",
       "  </thead>\n",
       "  <tbody>\n",
       "    <tr>\n",
       "      <th>SINGLE FAMILY</th>\n",
       "      <td>46627</td>\n",
       "    </tr>\n",
       "    <tr>\n",
       "      <th>ATTACHED RESIDENTIAL</th>\n",
       "      <td>3522</td>\n",
       "    </tr>\n",
       "    <tr>\n",
       "      <th>CONDO STACKED</th>\n",
       "      <td>2452</td>\n",
       "    </tr>\n",
       "    <tr>\n",
       "      <th>CONDO ROW</th>\n",
       "      <td>693</td>\n",
       "    </tr>\n",
       "    <tr>\n",
       "      <th>CONDO UNIT</th>\n",
       "      <td>283</td>\n",
       "    </tr>\n",
       "  </tbody>\n",
       "</table>\n",
       "</div>"
      ],
      "text/plain": [
       "                      TypeOfResidence\n",
       "SINGLE FAMILY                   46627\n",
       "ATTACHED RESIDENTIAL             3522\n",
       "CONDO STACKED                    2452\n",
       "CONDO ROW                         693\n",
       "CONDO UNIT                        283"
      ]
     },
     "execution_count": 54,
     "metadata": {},
     "output_type": "execute_result"
    }
   ],
   "source": [
    "fl_house_type = fl_res_df[\"TypeOfResidence\"].value_counts()\n",
    "fl_house_type_df = pd.DataFrame(fl_house_type)\n",
    "fl_house_type_df"
   ]
  },
  {
   "cell_type": "code",
   "execution_count": 55,
   "metadata": {},
   "outputs": [
    {
     "data": {
      "text/plain": [
       "<matplotlib.axes._subplots.AxesSubplot at 0x1a192d5dd8>"
      ]
     },
     "execution_count": 55,
     "metadata": {},
     "output_type": "execute_result"
    },
    {
     "data": {
      "image/png": "[encoded data removed]",
      "text/plain": [
       "<Figure size 432x288 with 1 Axes>"
      ]
     },
     "metadata": {
      "needs_background": "light"
     },
     "output_type": "display_data"
    }
   ],
   "source": [
    "fl_house_type.plot(kind=\"bar\", x=\"TypeOfResidence\", y=fl_house_type)"
   ]
  },
  {
   "cell_type": "code",
   "execution_count": 56,
   "metadata": {},
   "outputs": [
    {
     "data": {
      "image/png": "[encoded data removed]",
      "text/plain": [
       "<Figure size 432x288 with 1 Axes>"
      ]
     },
     "metadata": {},
     "output_type": "display_data"
    }
   ],
   "source": [
    "fl_labels=fl_house_type_df[\"TypeOfResidence\"].index\n",
    "plt.pie(fl_house_type, labels=fl_labels, autopct=\"%1.1f%%\")\n",
    "plt.title(\"House Types in Florida\")\n",
    "plt.tight_layout\n",
    "plt.savefig(\"florida house type pie chart\")"
   ]
  },
  {
   "cell_type": "code",
   "execution_count": null,
   "metadata": {},
   "outputs": [],
   "source": []
  }
 ],
 "metadata": {
  "kernelspec": {
   "display_name": "Python [conda env:PythonData] *",
   "language": "python",
   "name": "conda-env-PythonData-py"
  },
  "language_info": {
   "codemirror_mode": {
    "name": "ipython",
    "version": 3
   },
   "file_extension": ".py",
   "mimetype": "text/x-python",
   "name": "python",
   "nbconvert_exporter": "python",
   "pygments_lexer": "ipython3",
   "version": "3.6.10"
  }
 },
 "nbformat": 4,
 "nbformat_minor": 4
}
