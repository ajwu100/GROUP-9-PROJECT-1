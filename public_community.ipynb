{
 "cells": [
  {
   "cell_type": "code",
   "execution_count": 1,
   "metadata": {},
   "outputs": [],
   "source": [
    "import pandas as pd\n",
    "import matplotlib.pyplot as plt\n",
    "import numpy as np\n",
    "import scipy.stats as st\n",
    "from scipy.stats import linregress, pearsonr"
   ]
  },
  {
   "cell_type": "code",
   "execution_count": 2,
   "metadata": {},
   "outputs": [
    {
     "data": {
      "text/plain": [
       "['Id',\n",
       " 'OwnerCity',\n",
       " 'OwnerState',\n",
       " 'PropertyLocationStreet1',\n",
       " 'PropertyCity',\n",
       " 'PropertyZip',\n",
       " 'CountyName',\n",
       " 'StateParcelId',\n",
       " 'ParcelSize',\n",
       " 'ValueofHome',\n",
       " 'YearBuilt',\n",
       " 'TypeOfResidence',\n",
       " 'NumberOfStories',\n",
       " 'AdjSquareFeet',\n",
       " 'Pool',\n",
       " 'PPC',\n",
       " 'BCEG',\n",
       " 'DistancetoCoast',\n",
       " 'PoliceID',\n",
       " 'Crime',\n",
       " 'FireID',\n",
       " 'DistancetoHydrant',\n",
       " 'DistancetoFireDepartment',\n",
       " 'DistancetoSinkhole',\n",
       " 'SinkholeLatitude',\n",
       " 'SinkholeLongitude',\n",
       " 'LocationWindSpeed',\n",
       " 'WindborneDebrisRegion',\n",
       " 'Terrain',\n",
       " 'FloodZone',\n",
       " 'FloodZoneRiskLevel']"
      ]
     },
     "execution_count": 2,
     "metadata": {},
     "output_type": "execute_result"
    }
   ],
   "source": [
    "#clean.csv data has been updated to include Distance to Hydrant\n",
    "master_data = \"clean.csv\"\n",
    "master_data_df = pd.read_csv(master_data)\n",
    "\n",
    "master_data_df\n",
    "\n",
    "list(master_data_df) "
   ]
  },
  {
   "cell_type": "code",
   "execution_count": 3,
   "metadata": {},
   "outputs": [
    {
     "data": {
      "text/html": [
       "<div>\n",
       "<style scoped>\n",
       "    .dataframe tbody tr th:only-of-type {\n",
       "        vertical-align: middle;\n",
       "    }\n",
       "\n",
       "    .dataframe tbody tr th {\n",
       "        vertical-align: top;\n",
       "    }\n",
       "\n",
       "    .dataframe thead th {\n",
       "        text-align: right;\n",
       "    }\n",
       "</style>\n",
       "<table border=\"1\" class=\"dataframe\">\n",
       "  <thead>\n",
       "    <tr style=\"text-align: right;\">\n",
       "      <th></th>\n",
       "      <th>Id</th>\n",
       "      <th>OwnerCity</th>\n",
       "      <th>OwnerState</th>\n",
       "      <th>PropertyLocationStreet1</th>\n",
       "      <th>PropertyCity</th>\n",
       "      <th>PropertyZip</th>\n",
       "      <th>PPC</th>\n",
       "      <th>DistancetoHydrant</th>\n",
       "      <th>FireID</th>\n",
       "      <th>DistancetoFireDepartment</th>\n",
       "      <th>ValueofHome</th>\n",
       "    </tr>\n",
       "  </thead>\n",
       "  <tbody>\n",
       "    <tr>\n",
       "      <th>0</th>\n",
       "      <td>12009f31026acc440</td>\n",
       "      <td>PINEHURST</td>\n",
       "      <td>NC</td>\n",
       "      <td>5833 NEWBURY CIR</td>\n",
       "      <td>MELBOURNE</td>\n",
       "      <td>32940</td>\n",
       "      <td>NaN</td>\n",
       "      <td>NaN</td>\n",
       "      <td>NaN</td>\n",
       "      <td>1.67</td>\n",
       "      <td>360350.0</td>\n",
       "    </tr>\n",
       "    <tr>\n",
       "      <th>1</th>\n",
       "      <td>120112bfc77a87376</td>\n",
       "      <td>STAFFORD</td>\n",
       "      <td>VA</td>\n",
       "      <td>12723 SW 49 CT</td>\n",
       "      <td>MIRAMAR</td>\n",
       "      <td>33027</td>\n",
       "      <td>3</td>\n",
       "      <td>NaN</td>\n",
       "      <td>645.0</td>\n",
       "      <td>2.37</td>\n",
       "      <td>228680.0</td>\n",
       "    </tr>\n",
       "    <tr>\n",
       "      <th>2</th>\n",
       "      <td>12081776a04b281f4</td>\n",
       "      <td>RICHMOND</td>\n",
       "      <td>VA</td>\n",
       "      <td>6470 SEAGULL DR UNIT 307</td>\n",
       "      <td>BRADENTON</td>\n",
       "      <td>34210</td>\n",
       "      <td>3</td>\n",
       "      <td>309.12</td>\n",
       "      <td>NaN</td>\n",
       "      <td>0.96</td>\n",
       "      <td>135000.0</td>\n",
       "    </tr>\n",
       "    <tr>\n",
       "      <th>3</th>\n",
       "      <td>12103fabafeea9fb7</td>\n",
       "      <td>ARLINGTON</td>\n",
       "      <td>VA</td>\n",
       "      <td>1012 NORTH SHORE DR NE # 12</td>\n",
       "      <td>SAINT PETERSBURG</td>\n",
       "      <td>33701</td>\n",
       "      <td>NaN</td>\n",
       "      <td>NaN</td>\n",
       "      <td>855.0</td>\n",
       "      <td>1.08</td>\n",
       "      <td>87660.0</td>\n",
       "    </tr>\n",
       "    <tr>\n",
       "      <th>4</th>\n",
       "      <td>120213b0f5f17e3d1</td>\n",
       "      <td>ROCK HILL</td>\n",
       "      <td>SC</td>\n",
       "      <td>5550 HERON POINT DR</td>\n",
       "      <td>NAPLES</td>\n",
       "      <td>34108</td>\n",
       "      <td>NaN</td>\n",
       "      <td>NaN</td>\n",
       "      <td>50.0</td>\n",
       "      <td>1.37</td>\n",
       "      <td>663090.0</td>\n",
       "    </tr>\n",
       "    <tr>\n",
       "      <th>...</th>\n",
       "      <td>...</td>\n",
       "      <td>...</td>\n",
       "      <td>...</td>\n",
       "      <td>...</td>\n",
       "      <td>...</td>\n",
       "      <td>...</td>\n",
       "      <td>...</td>\n",
       "      <td>...</td>\n",
       "      <td>...</td>\n",
       "      <td>...</td>\n",
       "      <td>...</td>\n",
       "    </tr>\n",
       "    <tr>\n",
       "      <th>223</th>\n",
       "      <td>12086e1ddd12521cd</td>\n",
       "      <td>BLUFFTON</td>\n",
       "      <td>SC</td>\n",
       "      <td>5765 NW 99 CT</td>\n",
       "      <td>DORAL</td>\n",
       "      <td>33178</td>\n",
       "      <td>4</td>\n",
       "      <td>150.99</td>\n",
       "      <td>NaN</td>\n",
       "      <td>0.27</td>\n",
       "      <td>329160.0</td>\n",
       "    </tr>\n",
       "    <tr>\n",
       "      <th>224</th>\n",
       "      <td>120861813f1294d56</td>\n",
       "      <td>RICHMOND</td>\n",
       "      <td>VA</td>\n",
       "      <td>7805 NOREMAC AVE</td>\n",
       "      <td>MIAMI BEACH</td>\n",
       "      <td>33141</td>\n",
       "      <td>1</td>\n",
       "      <td>NaN</td>\n",
       "      <td>627.0</td>\n",
       "      <td>0.71</td>\n",
       "      <td>924061.0</td>\n",
       "    </tr>\n",
       "    <tr>\n",
       "      <th>225</th>\n",
       "      <td>12089ed366ee68b8e</td>\n",
       "      <td>MARS HILL</td>\n",
       "      <td>NC</td>\n",
       "      <td>246 S FLETCHER AVE</td>\n",
       "      <td>FERNANDINA BEACH</td>\n",
       "      <td>32034</td>\n",
       "      <td>3</td>\n",
       "      <td>NaN</td>\n",
       "      <td>359.0</td>\n",
       "      <td>1.23</td>\n",
       "      <td>274291.0</td>\n",
       "    </tr>\n",
       "    <tr>\n",
       "      <th>226</th>\n",
       "      <td>1211544028709F1DD</td>\n",
       "      <td>OAKTON</td>\n",
       "      <td>VA</td>\n",
       "      <td>171 VISTA HERMOSA CIR 21-B</td>\n",
       "      <td>SARASOTA</td>\n",
       "      <td>34242</td>\n",
       "      <td>NaN</td>\n",
       "      <td>338.08</td>\n",
       "      <td>NaN</td>\n",
       "      <td>1.13</td>\n",
       "      <td>267400.0</td>\n",
       "    </tr>\n",
       "    <tr>\n",
       "      <th>227</th>\n",
       "      <td>1212772a5d810d464</td>\n",
       "      <td>MATTHEWS</td>\n",
       "      <td>NC</td>\n",
       "      <td>3 SUNSET BLVD</td>\n",
       "      <td>ORMOND BEACH</td>\n",
       "      <td>32176</td>\n",
       "      <td>NaN</td>\n",
       "      <td>414.53</td>\n",
       "      <td>NaN</td>\n",
       "      <td>0.59</td>\n",
       "      <td>172189.0</td>\n",
       "    </tr>\n",
       "  </tbody>\n",
       "</table>\n",
       "<p>228 rows × 11 columns</p>\n",
       "</div>"
      ],
      "text/plain": [
       "                    Id  OwnerCity OwnerState      PropertyLocationStreet1  \\\n",
       "0    12009f31026acc440  PINEHURST         NC             5833 NEWBURY CIR   \n",
       "1    120112bfc77a87376   STAFFORD         VA               12723 SW 49 CT   \n",
       "2    12081776a04b281f4   RICHMOND         VA     6470 SEAGULL DR UNIT 307   \n",
       "3    12103fabafeea9fb7  ARLINGTON         VA  1012 NORTH SHORE DR NE # 12   \n",
       "4    120213b0f5f17e3d1  ROCK HILL         SC          5550 HERON POINT DR   \n",
       "..                 ...        ...        ...                          ...   \n",
       "223  12086e1ddd12521cd   BLUFFTON         SC                5765 NW 99 CT   \n",
       "224  120861813f1294d56   RICHMOND         VA             7805 NOREMAC AVE   \n",
       "225  12089ed366ee68b8e  MARS HILL         NC           246 S FLETCHER AVE   \n",
       "226  1211544028709F1DD     OAKTON         VA   171 VISTA HERMOSA CIR 21-B   \n",
       "227  1212772a5d810d464   MATTHEWS         NC                3 SUNSET BLVD   \n",
       "\n",
       "         PropertyCity  PropertyZip  PPC  DistancetoHydrant  FireID  \\\n",
       "0           MELBOURNE        32940  NaN                NaN     NaN   \n",
       "1             MIRAMAR        33027    3                NaN   645.0   \n",
       "2           BRADENTON        34210    3             309.12     NaN   \n",
       "3    SAINT PETERSBURG        33701  NaN                NaN   855.0   \n",
       "4              NAPLES        34108  NaN                NaN    50.0   \n",
       "..                ...          ...  ...                ...     ...   \n",
       "223             DORAL        33178    4             150.99     NaN   \n",
       "224       MIAMI BEACH        33141    1                NaN   627.0   \n",
       "225  FERNANDINA BEACH        32034    3                NaN   359.0   \n",
       "226          SARASOTA        34242  NaN             338.08     NaN   \n",
       "227      ORMOND BEACH        32176  NaN             414.53     NaN   \n",
       "\n",
       "     DistancetoFireDepartment  ValueofHome  \n",
       "0                        1.67     360350.0  \n",
       "1                        2.37     228680.0  \n",
       "2                        0.96     135000.0  \n",
       "3                        1.08      87660.0  \n",
       "4                        1.37     663090.0  \n",
       "..                        ...          ...  \n",
       "223                      0.27     329160.0  \n",
       "224                      0.71     924061.0  \n",
       "225                      1.23     274291.0  \n",
       "226                      1.13     267400.0  \n",
       "227                      0.59     172189.0  \n",
       "\n",
       "[228 rows x 11 columns]"
      ]
     },
     "execution_count": 3,
     "metadata": {},
     "output_type": "execute_result"
    }
   ],
   "source": [
    "#Accessibility to fire protection services\n",
    "\n",
    "fire_master_df = master_data_df[[\"Id\", \"OwnerCity\", \"OwnerState\", \"PropertyLocationStreet1\", \"PropertyCity\", \"PropertyZip\", \"PPC\", \"DistancetoHydrant\", \"FireID\",\"DistancetoFireDepartment\",\"ValueofHome\"]]\n",
    "\n",
    "fire_master_df\n",
    "\n"
   ]
  },
  {
   "cell_type": "code",
   "execution_count": 4,
   "metadata": {},
   "outputs": [
    {
     "data": {
      "text/html": [
       "<div>\n",
       "<style scoped>\n",
       "    .dataframe tbody tr th:only-of-type {\n",
       "        vertical-align: middle;\n",
       "    }\n",
       "\n",
       "    .dataframe tbody tr th {\n",
       "        vertical-align: top;\n",
       "    }\n",
       "\n",
       "    .dataframe thead th {\n",
       "        text-align: right;\n",
       "    }\n",
       "</style>\n",
       "<table border=\"1\" class=\"dataframe\">\n",
       "  <thead>\n",
       "    <tr style=\"text-align: right;\">\n",
       "      <th></th>\n",
       "      <th>PPC</th>\n",
       "      <th>ValueofHome</th>\n",
       "    </tr>\n",
       "  </thead>\n",
       "  <tbody>\n",
       "    <tr>\n",
       "      <th>1</th>\n",
       "      <td>3</td>\n",
       "      <td>228680.0</td>\n",
       "    </tr>\n",
       "    <tr>\n",
       "      <th>2</th>\n",
       "      <td>3</td>\n",
       "      <td>135000.0</td>\n",
       "    </tr>\n",
       "    <tr>\n",
       "      <th>5</th>\n",
       "      <td>2</td>\n",
       "      <td>298880.0</td>\n",
       "    </tr>\n",
       "    <tr>\n",
       "      <th>6</th>\n",
       "      <td>2</td>\n",
       "      <td>141668.0</td>\n",
       "    </tr>\n",
       "    <tr>\n",
       "      <th>7</th>\n",
       "      <td>2</td>\n",
       "      <td>161169.0</td>\n",
       "    </tr>\n",
       "    <tr>\n",
       "      <th>...</th>\n",
       "      <td>...</td>\n",
       "      <td>...</td>\n",
       "    </tr>\n",
       "    <tr>\n",
       "      <th>220</th>\n",
       "      <td>2</td>\n",
       "      <td>151500.0</td>\n",
       "    </tr>\n",
       "    <tr>\n",
       "      <th>221</th>\n",
       "      <td>4</td>\n",
       "      <td>203651.0</td>\n",
       "    </tr>\n",
       "    <tr>\n",
       "      <th>223</th>\n",
       "      <td>4</td>\n",
       "      <td>329160.0</td>\n",
       "    </tr>\n",
       "    <tr>\n",
       "      <th>224</th>\n",
       "      <td>1</td>\n",
       "      <td>924061.0</td>\n",
       "    </tr>\n",
       "    <tr>\n",
       "      <th>225</th>\n",
       "      <td>3</td>\n",
       "      <td>274291.0</td>\n",
       "    </tr>\n",
       "  </tbody>\n",
       "</table>\n",
       "<p>137 rows × 2 columns</p>\n",
       "</div>"
      ],
      "text/plain": [
       "     PPC  ValueofHome\n",
       "1      3     228680.0\n",
       "2      3     135000.0\n",
       "5      2     298880.0\n",
       "6      2     141668.0\n",
       "7      2     161169.0\n",
       "..   ...          ...\n",
       "220    2     151500.0\n",
       "221    4     203651.0\n",
       "223    4     329160.0\n",
       "224    1     924061.0\n",
       "225    3     274291.0\n",
       "\n",
       "[137 rows x 2 columns]"
      ]
     },
     "execution_count": 4,
     "metadata": {},
     "output_type": "execute_result"
    }
   ],
   "source": [
    "#Analyses between PPC and home value.\n",
    "#An ISO fire insurance rating, also referred to as a fire score or Public Protection Classification (PPC)\n",
    "#PPC is a score from 1 to 10 that indicates how well-protected your community is by the fire department. \n",
    "#In the ISO rating scale, a lower number is better: 1 is the best rating, while 10 means the fire department did not meet the ISO's minimum requirements.\n",
    "\n",
    "ppc_df = fire_master_df[[\"PPC\", \"ValueofHome\"]]\n",
    "\n",
    "#Clean up PPC DataFrame to exclude rows where PPC data is shown as nulls and dates.\n",
    "clean_ppc_df = ppc_df.dropna()\n",
    "outlier_df = clean_ppc_df.loc[(clean_ppc_df[\"PPC\"] == \"9-Apr\"), :]\n",
    "outlier2_df = clean_ppc_df.loc[(clean_ppc_df[\"PPC\"] == \"9-May\"), :]\n",
    "clean_ppc_df = clean_ppc_df.drop(index=[95, 133])\n",
    "\n",
    "#Changed PPC data from object to integers.\n",
    "clean_ppc_df[\"PPC\"] = pd.to_numeric(clean_ppc_df[\"PPC\"],errors='coerce')\n",
    "clean_ppc_df"
   ]
  },
  {
   "cell_type": "code",
   "execution_count": 5,
   "metadata": {},
   "outputs": [
    {
     "data": {
      "text/plain": [
       "PPC              int64\n",
       "ValueofHome    float64\n",
       "dtype: object"
      ]
     },
     "execution_count": 5,
     "metadata": {},
     "output_type": "execute_result"
    }
   ],
   "source": [
    "clean_ppc_df.dtypes  "
   ]
  },
  {
   "cell_type": "code",
   "execution_count": 6,
   "metadata": {},
   "outputs": [
    {
     "name": "stdout",
     "output_type": "stream",
     "text": [
      "The correlation between PPC and home value is 0.06, indicating NO correlation.\n",
      "The linear regression equation between PPC and Value of Home is y = 8231.3x + 234317.03.\n",
      "The r-squared is: 0.003398081842361495\n"
     ]
    },
    {
     "data": {
      "image/png": "[encoded data removed]",
      "text/plain": [
       "<Figure size 432x288 with 1 Axes>"
      ]
     },
     "metadata": {
      "needs_background": "light"
     },
     "output_type": "display_data"
    },
    {
     "data": {
      "text/plain": [
       "<Figure size 432x288 with 0 Axes>"
      ]
     },
     "metadata": {},
     "output_type": "display_data"
    }
   ],
   "source": [
    "#Correlation between PPC rating & value of home.\n",
    "PPC = clean_ppc_df[\"PPC\"]\n",
    "Value = clean_ppc_df[\"ValueofHome\"]\n",
    "\n",
    "correlation = st.pearsonr(PPC, Value)\n",
    "\n",
    "scatter1 = plt.scatter(PPC, Value, marker=\"o\", facecolors=\"blue\", edgecolors=\"black\", alpha=0.5)\n",
    "(slope, intercept, rvalue, pvalue, stderr) = linregress(PPC, Value)\n",
    "\n",
    "regress_values = PPC * slope + intercept\n",
    "\n",
    "line_eq = \"y = \" + str(round(slope,2)) + \"x + \" + str(round(intercept,2))\n",
    "\n",
    "print(f\"The correlation between PPC and home value is {round(correlation[0],2)}, indicating NO correlation.\")\n",
    "print(f\"The linear regression equation between PPC and Value of Home is {line_eq}.\")\n",
    "print(f\"The r-squared is: {rvalue**2}\")\n",
    "plt.plot(PPC,regress_values,\"r-\")\n",
    "plt.title(\"PPC vs. Value of Home\")\n",
    "plt.ylabel(\"Value of Home ($)\")\n",
    "plt.xlabel(\"PPC\")\n",
    "plt.ylim(0, 10)\n",
    "plt.ylim(0, 950000)\n",
    "plt.show()\n",
    "plt.tight_layout()\n",
    "\n"
   ]
  },
  {
   "cell_type": "code",
   "execution_count": 7,
   "metadata": {},
   "outputs": [
    {
     "data": {
      "text/html": [
       "<div>\n",
       "<style scoped>\n",
       "    .dataframe tbody tr th:only-of-type {\n",
       "        vertical-align: middle;\n",
       "    }\n",
       "\n",
       "    .dataframe tbody tr th {\n",
       "        vertical-align: top;\n",
       "    }\n",
       "\n",
       "    .dataframe thead th {\n",
       "        text-align: right;\n",
       "    }\n",
       "</style>\n",
       "<table border=\"1\" class=\"dataframe\">\n",
       "  <thead>\n",
       "    <tr style=\"text-align: right;\">\n",
       "      <th></th>\n",
       "      <th>DistancetoHydrant</th>\n",
       "      <th>ValueofHome</th>\n",
       "    </tr>\n",
       "  </thead>\n",
       "  <tbody>\n",
       "    <tr>\n",
       "      <th>2</th>\n",
       "      <td>309.12</td>\n",
       "      <td>135000.0</td>\n",
       "    </tr>\n",
       "    <tr>\n",
       "      <th>15</th>\n",
       "      <td>280.90</td>\n",
       "      <td>152459.0</td>\n",
       "    </tr>\n",
       "    <tr>\n",
       "      <th>16</th>\n",
       "      <td>933.54</td>\n",
       "      <td>88850.0</td>\n",
       "    </tr>\n",
       "    <tr>\n",
       "      <th>17</th>\n",
       "      <td>200.14</td>\n",
       "      <td>77100.0</td>\n",
       "    </tr>\n",
       "    <tr>\n",
       "      <th>21</th>\n",
       "      <td>366.00</td>\n",
       "      <td>155519.0</td>\n",
       "    </tr>\n",
       "    <tr>\n",
       "      <th>...</th>\n",
       "      <td>...</td>\n",
       "      <td>...</td>\n",
       "    </tr>\n",
       "    <tr>\n",
       "      <th>219</th>\n",
       "      <td>228.86</td>\n",
       "      <td>91800.0</td>\n",
       "    </tr>\n",
       "    <tr>\n",
       "      <th>221</th>\n",
       "      <td>120.89</td>\n",
       "      <td>203651.0</td>\n",
       "    </tr>\n",
       "    <tr>\n",
       "      <th>223</th>\n",
       "      <td>150.99</td>\n",
       "      <td>329160.0</td>\n",
       "    </tr>\n",
       "    <tr>\n",
       "      <th>226</th>\n",
       "      <td>338.08</td>\n",
       "      <td>267400.0</td>\n",
       "    </tr>\n",
       "    <tr>\n",
       "      <th>227</th>\n",
       "      <td>414.53</td>\n",
       "      <td>172189.0</td>\n",
       "    </tr>\n",
       "  </tbody>\n",
       "</table>\n",
       "<p>90 rows × 2 columns</p>\n",
       "</div>"
      ],
      "text/plain": [
       "     DistancetoHydrant  ValueofHome\n",
       "2               309.12     135000.0\n",
       "15              280.90     152459.0\n",
       "16              933.54      88850.0\n",
       "17              200.14      77100.0\n",
       "21              366.00     155519.0\n",
       "..                 ...          ...\n",
       "219             228.86      91800.0\n",
       "221             120.89     203651.0\n",
       "223             150.99     329160.0\n",
       "226             338.08     267400.0\n",
       "227             414.53     172189.0\n",
       "\n",
       "[90 rows x 2 columns]"
      ]
     },
     "execution_count": 7,
     "metadata": {},
     "output_type": "execute_result"
    }
   ],
   "source": [
    "#Analyses between distance to fire hydrant & value of home.\n",
    "hydrant_df = fire_master_df[[\"DistancetoHydrant\", \"ValueofHome\"]]\n",
    "\n",
    "#Clean up hydrant DataFrame to exclude rows where distance data is shown as nulls.\n",
    "clean_hydrant_df = hydrant_df.dropna()\n",
    "\n",
    "clean_hydrant_df"
   ]
  },
  {
   "cell_type": "code",
   "execution_count": 8,
   "metadata": {},
   "outputs": [
    {
     "data": {
      "text/plain": [
       "DistancetoHydrant    float64\n",
       "ValueofHome          float64\n",
       "dtype: object"
      ]
     },
     "execution_count": 8,
     "metadata": {},
     "output_type": "execute_result"
    }
   ],
   "source": [
    "clean_hydrant_df.dtypes"
   ]
  },
  {
   "cell_type": "code",
   "execution_count": 9,
   "metadata": {},
   "outputs": [
    {
     "name": "stdout",
     "output_type": "stream",
     "text": [
      "The correlation between distance to fire hydrant and home value is -0.06, indicating NO correlation.\n",
      "The linear regression equation between distance to hydrant and home value is y = -33.24x + 199890.33.\n",
      "The r-squared is: 0.0033293792916774074\n"
     ]
    },
    {
     "data": {
      "image/png": "[encoded data removed]",
      "text/plain": [
       "<Figure size 432x288 with 1 Axes>"
      ]
     },
     "metadata": {
      "needs_background": "light"
     },
     "output_type": "display_data"
    },
    {
     "data": {
      "text/plain": [
       "<Figure size 432x288 with 0 Axes>"
      ]
     },
     "metadata": {},
     "output_type": "display_data"
    }
   ],
   "source": [
    "#Correlation between distance to fire hydrant & value of home.\n",
    "hydrant_dist = clean_hydrant_df[\"DistancetoHydrant\"]\n",
    "Value2 = clean_hydrant_df[\"ValueofHome\"]\n",
    "\n",
    "correlation2 = st.pearsonr(hydrant_dist, Value2)\n",
    "\n",
    "scatter2 = plt.scatter(hydrant_dist, Value2, marker=\"o\", facecolors=\"blue\", edgecolors=\"black\", alpha=0.5)\n",
    "(slope2, intercept2, rvalue2, pvalue2, stderr2) = linregress(hydrant_dist, Value2)\n",
    "\n",
    "regress_values2 = hydrant_dist * slope2 + intercept2\n",
    "\n",
    "line_eq2 = \"y = \" + str(round(slope2,2)) + \"x + \" + str(round(intercept2,2))\n",
    "\n",
    "print(f\"The correlation between distance to fire hydrant and home value is {round(correlation2[0],2)}, indicating NO correlation.\")\n",
    "print(f\"The linear regression equation between distance to hydrant and home value is {line_eq2}.\")\n",
    "print(f\"The r-squared is: {rvalue2**2}\")\n",
    "plt.plot(hydrant_dist,regress_values2,\"r-\")\n",
    "\n",
    "plt.title(\"Distance to Fire Hydrant vs. Value of Home\")\n",
    "plt.ylabel(\"Value of Home ($)\")\n",
    "plt.xlabel(\"Distance to Fire Hydrant\")\n",
    "plt.ylim(0, 1400)\n",
    "plt.ylim(0, 950000)\n",
    "plt.show()\n",
    "plt.tight_layout()\n"
   ]
  },
  {
   "cell_type": "code",
   "execution_count": 10,
   "metadata": {},
   "outputs": [
    {
     "data": {
      "text/html": [
       "<div>\n",
       "<style scoped>\n",
       "    .dataframe tbody tr th:only-of-type {\n",
       "        vertical-align: middle;\n",
       "    }\n",
       "\n",
       "    .dataframe tbody tr th {\n",
       "        vertical-align: top;\n",
       "    }\n",
       "\n",
       "    .dataframe thead th {\n",
       "        text-align: right;\n",
       "    }\n",
       "</style>\n",
       "<table border=\"1\" class=\"dataframe\">\n",
       "  <thead>\n",
       "    <tr style=\"text-align: right;\">\n",
       "      <th></th>\n",
       "      <th>DistancetoFireDepartment</th>\n",
       "      <th>ValueofHome</th>\n",
       "    </tr>\n",
       "  </thead>\n",
       "  <tbody>\n",
       "    <tr>\n",
       "      <th>0</th>\n",
       "      <td>1.67</td>\n",
       "      <td>360350.0</td>\n",
       "    </tr>\n",
       "    <tr>\n",
       "      <th>1</th>\n",
       "      <td>2.37</td>\n",
       "      <td>228680.0</td>\n",
       "    </tr>\n",
       "    <tr>\n",
       "      <th>2</th>\n",
       "      <td>0.96</td>\n",
       "      <td>135000.0</td>\n",
       "    </tr>\n",
       "    <tr>\n",
       "      <th>3</th>\n",
       "      <td>1.08</td>\n",
       "      <td>87660.0</td>\n",
       "    </tr>\n",
       "    <tr>\n",
       "      <th>4</th>\n",
       "      <td>1.37</td>\n",
       "      <td>663090.0</td>\n",
       "    </tr>\n",
       "    <tr>\n",
       "      <th>...</th>\n",
       "      <td>...</td>\n",
       "      <td>...</td>\n",
       "    </tr>\n",
       "    <tr>\n",
       "      <th>223</th>\n",
       "      <td>0.27</td>\n",
       "      <td>329160.0</td>\n",
       "    </tr>\n",
       "    <tr>\n",
       "      <th>224</th>\n",
       "      <td>0.71</td>\n",
       "      <td>924061.0</td>\n",
       "    </tr>\n",
       "    <tr>\n",
       "      <th>225</th>\n",
       "      <td>1.23</td>\n",
       "      <td>274291.0</td>\n",
       "    </tr>\n",
       "    <tr>\n",
       "      <th>226</th>\n",
       "      <td>1.13</td>\n",
       "      <td>267400.0</td>\n",
       "    </tr>\n",
       "    <tr>\n",
       "      <th>227</th>\n",
       "      <td>0.59</td>\n",
       "      <td>172189.0</td>\n",
       "    </tr>\n",
       "  </tbody>\n",
       "</table>\n",
       "<p>227 rows × 2 columns</p>\n",
       "</div>"
      ],
      "text/plain": [
       "     DistancetoFireDepartment  ValueofHome\n",
       "0                        1.67     360350.0\n",
       "1                        2.37     228680.0\n",
       "2                        0.96     135000.0\n",
       "3                        1.08      87660.0\n",
       "4                        1.37     663090.0\n",
       "..                        ...          ...\n",
       "223                      0.27     329160.0\n",
       "224                      0.71     924061.0\n",
       "225                      1.23     274291.0\n",
       "226                      1.13     267400.0\n",
       "227                      0.59     172189.0\n",
       "\n",
       "[227 rows x 2 columns]"
      ]
     },
     "execution_count": 10,
     "metadata": {},
     "output_type": "execute_result"
    }
   ],
   "source": [
    "#Analysis between distance to fire station & value of home.\n",
    "firestation_df = fire_master_df[[\"DistancetoFireDepartment\", \"ValueofHome\"]]\n",
    "\n",
    "#Clean up firestation DataFrame to exclude rows where distance data is shown as nulls.\n",
    "clean_firestation_df = firestation_df.dropna()\n",
    "\n",
    "clean_firestation_df"
   ]
  },
  {
   "cell_type": "code",
   "execution_count": 11,
   "metadata": {},
   "outputs": [
    {
     "data": {
      "text/plain": [
       "DistancetoFireDepartment    float64\n",
       "ValueofHome                 float64\n",
       "dtype: object"
      ]
     },
     "execution_count": 11,
     "metadata": {},
     "output_type": "execute_result"
    }
   ],
   "source": [
    "clean_firestation_df.dtypes"
   ]
  },
  {
   "cell_type": "code",
   "execution_count": 12,
   "metadata": {},
   "outputs": [
    {
     "name": "stdout",
     "output_type": "stream",
     "text": [
      "The correlation between distance to fire station and home value is 0.08, indicating NO correlation.\n",
      "The linear regression equation between distance to firestation and home value is y = 22261.21x + 225239.76.\n",
      "The r-squared is: 0.0063407604424575255\n"
     ]
    },
    {
     "data": {
      "image/png": "[encoded data removed]",
      "text/plain": [
       "<Figure size 432x288 with 1 Axes>"
      ]
     },
     "metadata": {
      "needs_background": "light"
     },
     "output_type": "display_data"
    },
    {
     "data": {
      "text/plain": [
       "<Figure size 432x288 with 0 Axes>"
      ]
     },
     "metadata": {},
     "output_type": "display_data"
    }
   ],
   "source": [
    "#Correlation between distance to fire station & value of home.\n",
    "firestation_dist = clean_firestation_df[\"DistancetoFireDepartment\"]\n",
    "Value3 = clean_firestation_df[\"ValueofHome\"]\n",
    "\n",
    "correlation3 = st.pearsonr(firestation_dist, Value3)\n",
    "\n",
    "scatter3 = plt.scatter(firestation_dist, Value3, marker=\"o\", facecolors=\"blue\", edgecolors=\"black\", alpha=0.5)\n",
    "(slope3, intercept3, rvalue3, pvalue3, stderr3) = linregress(firestation_dist, Value3)\n",
    "\n",
    "regress_values3 = firestation_dist * slope3 + intercept3\n",
    "\n",
    "line_eq3 = \"y = \" + str(round(slope3,2)) + \"x + \" + str(round(intercept3,2))\n",
    "\n",
    "print(f\"The correlation between distance to fire station and home value is {round(correlation3[0],2)}, indicating NO correlation.\")\n",
    "print(f\"The linear regression equation between distance to firestation and home value is {line_eq3}.\")\n",
    "print(f\"The r-squared is: {rvalue3**2}\")\n",
    "\n",
    "plt.plot(firestation_dist,regress_values3,\"r-\")\n",
    "plt.title(\"Distance to Fire Station vs. Value of Home\")\n",
    "plt.ylabel(\"Value of Home ($)\")\n",
    "plt.xlabel(\"Distance to Fire Station\")\n",
    "plt.ylim(0, 1400)\n",
    "plt.ylim(0, 950000)\n",
    "plt.show()\n",
    "plt.tight_layout()\n",
    "\n"
   ]
  },
  {
   "cell_type": "code",
   "execution_count": 13,
   "metadata": {},
   "outputs": [
    {
     "data": {
      "text/plain": [
       "PPC\n",
       "1     13\n",
       "2     26\n",
       "3     41\n",
       "4     43\n",
       "5      9\n",
       "6      4\n",
       "10     1\n",
       "Name: Id, dtype: int64"
      ]
     },
     "execution_count": 13,
     "metadata": {},
     "output_type": "execute_result"
    }
   ],
   "source": [
    "# PPC Focus: What are the typical PPC ratings of homes owned by NC, SC and VA residents?\n",
    "ppc_master_df = master_data_df[[\"Id\", \"PropertyCity\", \"PropertyZip\", \"CountyName\", \"PPC\", \"ValueofHome\"]]\n",
    "\n",
    "#Clean up PPC DataFrame to exclude rows where PPC data is shown as nulls and dates.\n",
    "clean_ppc_master_df = ppc_master_df.dropna()\n",
    "clean_ppc_master_df = clean_ppc_master_df.drop(index=[95, 133])\n",
    "\n",
    "#Changed PPC data from object to integers.\n",
    "clean_ppc_master_df[\"PPC\"] = pd.to_numeric(clean_ppc_master_df[\"PPC\"],errors='coerce')\n",
    "clean_ppc_master_df\n",
    "\n",
    "#ppc_groups_df = clean_ppc_master_df.groupby([\"PPC\",\"CountyName\"])\n",
    "ppc_only_df = clean_ppc_master_df[[\"PPC\", \"Id\"]]\n",
    "ppc_groups = ppc_only_df.groupby([\"PPC\"])\n",
    "ppc_count = ppc_groups[\"Id\"].count()\n",
    "\n",
    "ppc_count"
   ]
  },
  {
   "cell_type": "code",
   "execution_count": 14,
   "metadata": {},
   "outputs": [
    {
     "data": {
      "image/png": "[encoded data removed]",
      "text/plain": [
       "<Figure size 432x288 with 1 Axes>"
      ]
     },
     "metadata": {
      "needs_background": "light"
     },
     "output_type": "display_data"
    },
    {
     "data": {
      "text/plain": [
       "<Figure size 432x288 with 0 Axes>"
      ]
     },
     "metadata": {},
     "output_type": "display_data"
    }
   ],
   "source": [
    "#Create a bar graph showing numbers of home that fall under each PPC rating.\n",
    "\n",
    "PPC_Ratings = [\"1\", \"2\", \"3\", \"4\", \"5\", \"6\", \"7\", \"8\", \"9\", \"10\"]\n",
    "\n",
    "Home_Numbers = [13, 26, 41, 43, 9, 4, 0, 0, 0, 1]\n",
    "x_axis = np.arange(len(PPC_Ratings))\n",
    "plt.bar(x_axis, Home_Numbers, color=\"r\", alpha=0.5, align=\"center\")\n",
    "tick_locations = [value for value in x_axis]\n",
    "plt.xticks(tick_locations, PPC_Ratings)\n",
    "plt.xlim(-0.75, len(x_axis)-0.25)\n",
    "plt.ylim(0, 50)\n",
    "plt.title(\"Number of homes under each PPC Rating\")\n",
    "plt.xlabel(\"PPC Rating\")\n",
    "plt.ylabel(\"Number of Home\")\n",
    "plt.show()\n",
    "plt.tight_layout()"
   ]
  },
  {
   "cell_type": "code",
   "execution_count": 15,
   "metadata": {},
   "outputs": [
    {
     "name": "stdout",
     "output_type": "stream",
     "text": [
      "NC, SC and VA residents buy homes in 22 counties in FL, including ['BROWARD' 'MANATEE' 'PINELLAS' 'BREVARD' 'MIAMI-DADE' 'PALM BEACH'\n",
      " 'SARASOTA' 'CHARLOTTE' 'DUVAL' 'COLLIER' 'LEE' 'SEMINOLE' 'MARION'\n",
      " 'VOLUSIA' 'SAINT JOHNS' 'BAY' 'HILLSBOROUGH' 'ALACHUA' 'INDIAN RIVER'\n",
      " 'ESCAMBIA' 'NASSAU' 'ORANGE' 'MONROE'].\n"
     ]
    },
    {
     "data": {
      "image/png": "[encoded data removed]",
      "text/plain": [
       "<Figure size 504x504 with 1 Axes>"
      ]
     },
     "metadata": {
      "needs_background": "light"
     },
     "output_type": "display_data"
    },
    {
     "data": {
      "text/plain": [
       "<Figure size 432x288 with 0 Axes>"
      ]
     },
     "metadata": {},
     "output_type": "display_data"
    }
   ],
   "source": [
    "# PPC Focus: Amongst the counties that NC, SC and VA residents have a second home in, which\n",
    "# ones have the higher PPC ratings?\n",
    "\n",
    "# In which counties have NC, SC and VA-residents purchased their homes? \n",
    "county_list = clean_ppc_master_df[\"CountyName\"].unique()\n",
    "print(f\"NC, SC and VA residents buy homes in 22 counties in FL, including {county_list}.\")\n",
    "\n",
    "county_only_df = clean_ppc_master_df[[\"CountyName\", \"Id\"]]\n",
    "county_groups = county_only_df.groupby([\"CountyName\"])\n",
    "county_count = county_groups[\"Id\"].count()\n",
    "county_count = county_count.sort_values(ascending=False)\n",
    "county_count_plot = county_count.plot(kind=\"bar\", figsize=(7,7))\n",
    "\n",
    "plt.title(\"Total Number of NC-, SC- and VA-Residents' Homes in Each FL County\")\n",
    "plt.ylabel(\"Number of Homes\")\n",
    "plt.xlabel(\"County in FL\")\n",
    "plt.ylim(0, 20)\n",
    "plt.show()\n",
    "plt.tight_layout()"
   ]
  },
  {
   "cell_type": "code",
   "execution_count": 21,
   "metadata": {},
   "outputs": [],
   "source": [
    "# Get PPC data from each county that NC, SC, and VA residents have a second home?\n",
    "#'BROWARD' 'MANATEE' 'PINELLAS' 'BREVARD' 'MIAMI-DADE' 'PALM BEACH'\n",
    "# 'SARASOTA' 'CHARLOTTE' 'DUVAL' 'COLLIER' 'LEE' 'SEMINOLE' 'MARION'\n",
    "# 'VOLUSIA' 'SAINT JOHNS' 'BAY' 'HILLSBOROUGH' 'ALACHUA' 'INDIAN RIVER'\n",
    "# 'ESCAMBIA' 'NASSAU' 'ORANGE' 'MONROE'\n",
    "file = 'House_price_multifeatures.csv'\n",
    "df = pd.read_csv(file)\n",
    "county_PPC_df = df[[\"Id\", \"CountyName\", \"ValueofHome\", \"PPC\"]]\n",
    "county_PPC_df = county_PPC_df.drop_duplicates(subset=['Id'])\n",
    "county_PPC_df[\"PPC\"] = pd.to_numeric(clean_ppc_df[\"PPC\"],errors='coerce')\n",
    "county_PPC_df[\"ValueofHome\"] = pd.to_numeric(clean_ppc_df[\"ValueofHome\"],errors='coerce')\n",
    "\n",
    "BROWARD_PPC_df = county_PPC_df.loc[(county_PPC_df[\"CountyName\"] == \"BROWARD\"), :]\n",
    "MANATEE_PPC_df = county_PPC_df.loc[(county_PPC_df[\"CountyName\"] == \"MANATEE\"), :]\n",
    "PINELLAS_PPC_df = county_PPC_df.loc[(county_PPC_df[\"CountyName\"] == \"PINELLAS\"), :]\n",
    "BREVARD_PPC_df = county_PPC_df.loc[(county_PPC_df[\"CountyName\"] == \"BREVARD\"), :]\n",
    "MIAMI_DADE_PPC_df = county_PPC_df.loc[(county_PPC_df[\"CountyName\"] == \"MIAMI-DADE\"), :]\n",
    "PALM_BEACH_PPC_df = county_PPC_df.loc[(county_PPC_df[\"CountyName\"] == \"PALM BEACH\"), :]\n",
    "SARASOTA_PPC_df = county_PPC_df.loc[(county_PPC_df[\"CountyName\"] == \"SARASOTA\"), :]\n",
    "CHARLOTTE_PPC_df = county_PPC_df.loc[(county_PPC_df[\"CountyName\"] == \"CHARLOTTE\"), :]\n",
    "DUVAL_PPC_df = county_PPC_df.loc[(county_PPC_df[\"CountyName\"] == \"DUVAL\"), :]\n",
    "COLLIER_PPC_df = county_PPC_df.loc[(county_PPC_df[\"CountyName\"] == \"COLLIER\"), :]\n",
    "LEE_PPC_df = county_PPC_df.loc[(county_PPC_df[\"CountyName\"] == \"LEE\"), :]\n",
    "SEMINOLE_PPC_df = county_PPC_df.loc[(county_PPC_df[\"CountyName\"] == \"SEMINOLE\"), :]\n",
    "MARION_PPC_df = county_PPC_df.loc[(county_PPC_df[\"CountyName\"] == \"MARION\"), :]\n",
    "VOLUSIA_PPC_df = county_PPC_df.loc[(county_PPC_df[\"CountyName\"] == \"VOLUSIA\"), :]\n",
    "SAINT_JOHNS_PPC_df = county_PPC_df.loc[(county_PPC_df[\"CountyName\"] == \"SAINT JOHNS\"), :]\n",
    "BAY_PPC_df = county_PPC_df.loc[(county_PPC_df[\"CountyName\"] == \"BAY\"), :]\n",
    "HILLSBOROUGH_PPC_df = county_PPC_df.loc[(county_PPC_df[\"CountyName\"] == \"HILLSBOROUGH\"), :]\n",
    "ALACHUA_PPC_df = county_PPC_df.loc[(county_PPC_df[\"CountyName\"] == \"ALACHUA\"), :]\n",
    "INDIAN_RIVER_PPC_df = county_PPC_df.loc[(county_PPC_df[\"CountyName\"] == \"INDIAN RIVER\"), :]\n",
    "ESCAMBIA_PPC_df = county_PPC_df.loc[(county_PPC_df[\"CountyName\"] == \"ESCAMBIA\"), :]\n",
    "NASSAU_PPC_df = county_PPC_df.loc[(county_PPC_df[\"CountyName\"] == \"NASSAU\"), :]\n",
    "ORANGE_PPC_df = county_PPC_df.loc[(county_PPC_df[\"CountyName\"] == \"ORANGE\"), :]\n",
    "MONROE_PPC_df = county_PPC_df.loc[(county_PPC_df[\"CountyName\"] == \"MONROE\"), :]\n",
    "\n",
    "favcounty_final = pd.merge(BROWARD_PPC_df, MANATEE_PPC_df, how = \"outer\")\n",
    "favcounty_final = pd.merge(favcounty_final, PINELLAS_PPC_df, how = \"outer\")\n",
    "favcounty_final = pd.merge(favcounty_final, BREVARD_PPC_df, how = \"outer\")\n",
    "favcounty_final = pd.merge(favcounty_final, MIAMI_DADE_PPC_df, how = \"outer\")\n",
    "favcounty_final = pd.merge(favcounty_final, PALM_BEACH_PPC_df, how = \"outer\")\n",
    "favcounty_final = pd.merge(favcounty_final, SARASOTA_PPC_df, how = \"outer\")\n",
    "favcounty_final = pd.merge(favcounty_final, CHARLOTTE_PPC_df, how = \"outer\")\n",
    "favcounty_final = pd.merge(favcounty_final, DUVAL_PPC_df, how = \"outer\")\n",
    "favcounty_final = pd.merge(favcounty_final, COLLIER_PPC_df, how = \"outer\")\n",
    "favcounty_final = pd.merge(favcounty_final, LEE_PPC_df , how = \"outer\")\n",
    "favcounty_final = pd.merge(favcounty_final, SEMINOLE_PPC_df, how = \"outer\")\n",
    "favcounty_final = pd.merge(favcounty_final, MARION_PPC_df, how = \"outer\")\n",
    "favcounty_final = pd.merge(favcounty_final, VOLUSIA_PPC_df, how = \"outer\")\n",
    "favcounty_final = pd.merge(favcounty_final, SAINT_JOHNS_PPC_df, how = \"outer\")\n",
    "favcounty_final = pd.merge(favcounty_final, BAY_PPC_df, how = \"outer\")\n",
    "favcounty_final = pd.merge(favcounty_final, HILLSBOROUGH_PPC_df , how = \"outer\")\n",
    "favcounty_final = pd.merge(favcounty_final, ALACHUA_PPC_df , how = \"outer\")\n",
    "favcounty_final = pd.merge(favcounty_final, INDIAN_RIVER_PPC_df, how = \"outer\")\n",
    "favcounty_final = pd.merge(favcounty_final, ESCAMBIA_PPC_df, how = \"outer\")\n",
    "favcounty_final = pd.merge(favcounty_final, NASSAU_PPC_df, how = \"outer\")\n",
    "favcounty_final = pd.merge(favcounty_final, ORANGE_PPC_df, how = \"outer\")\n",
    "favcounty_final = pd.merge(favcounty_final, MONROE_PPC_df, how = \"outer\")\n",
    "\n",
    "favcounty_final2 = favcounty_final.dropna(subset=[\"PPC\"])\n",
    "\n",
    "county_gp = favcounty_final2.groupby([\"CountyName\"])\n",
    "county_home = county_gp[\"Id\"].count()\n",
    "county_PPC = county_gp[\"PPC\"].mean()\n",
    "county_value = county_gp[\"ValueofHome\"].mean()\n",
    "\n",
    "vacation_gp = clean_ppc_master_df.groupby([\"CountyName\"])\n",
    "vacation_home = vacation_gp[\"Id\"].count()\n",
    "vacation_PPC = vacation_gp[\"PPC\"].mean()\n",
    "vacation_value = vacation_gp[\"ValueofHome\"].mean()\n",
    "\n",
    "summary_df = pd.DataFrame(county_home)\n",
    "summary_df[\"Avg. PPC Rating (County)\"] = round(county_PPC,2)\n",
    "summary_df[\"Avg. Home Value (County)\"] = round(county_value,2)\n",
    "summary_df[\"Total Vacation Homes\"] = vacation_home\n",
    "summary_df[\"Avg. PPC Rating (Vacation Homes)\"] = round(vacation_PPC,2)\n",
    "summary_df[\"Avg. Home Value (Vacation Homes)\"] = round(vacation_value,2)\n",
    "\n",
    "finalsummary_df = summary_df.copy()\n",
    "finalsummary_df.rename(columns={'Id': 'Total Homes'}, index={\"one\": \"One\"}, inplace=True)\n"
   ]
  },
  {
   "cell_type": "code",
   "execution_count": null,
   "metadata": {},
   "outputs": [],
   "source": []
  }
 ],
 "metadata": {
  "kernelspec": {
   "display_name": "Python [conda env:PythonData]",
   "language": "python",
   "name": "conda-env-PythonData-py"
  },
  "language_info": {
   "codemirror_mode": {
    "name": "ipython",
    "version": 3
   },
   "file_extension": ".py",
   "mimetype": "text/x-python",
   "name": "python",
   "nbconvert_exporter": "python",
   "pygments_lexer": "ipython3",
   "version": "3.6.10"
  }
 },
 "nbformat": 4,
 "nbformat_minor": 4
}
